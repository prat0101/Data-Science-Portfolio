{
 "cells": [
  {
   "cell_type": "code",
   "execution_count": 1,
   "id": "2eb3d5bb",
   "metadata": {},
   "outputs": [],
   "source": [
    "#Basic Libraries\n",
    "import pandas as pd\n",
    "import numpy as np\n",
    "import seaborn as sns\n",
    "import matplotlib.pyplot as plt"
   ]
  },
  {
   "cell_type": "code",
   "execution_count": 2,
   "id": "a98c30ff",
   "metadata": {},
   "outputs": [
    {
     "data": {
      "text/html": [
       "<div>\n",
       "<style scoped>\n",
       "    .dataframe tbody tr th:only-of-type {\n",
       "        vertical-align: middle;\n",
       "    }\n",
       "\n",
       "    .dataframe tbody tr th {\n",
       "        vertical-align: top;\n",
       "    }\n",
       "\n",
       "    .dataframe thead th {\n",
       "        text-align: right;\n",
       "    }\n",
       "</style>\n",
       "<table border=\"1\" class=\"dataframe\">\n",
       "  <thead>\n",
       "    <tr style=\"text-align: right;\">\n",
       "      <th></th>\n",
       "      <th>InvoiceNo</th>\n",
       "      <th>StockCode</th>\n",
       "      <th>Description</th>\n",
       "      <th>Quantity</th>\n",
       "      <th>InvoiceDate</th>\n",
       "      <th>UnitPrice</th>\n",
       "      <th>CustomerID</th>\n",
       "      <th>Country</th>\n",
       "    </tr>\n",
       "  </thead>\n",
       "  <tbody>\n",
       "    <tr>\n",
       "      <th>0</th>\n",
       "      <td>558904</td>\n",
       "      <td>22292</td>\n",
       "      <td>HANGING CHICK  YELLOW DECORATION</td>\n",
       "      <td>1</td>\n",
       "      <td>2011-07-04 16:18:00</td>\n",
       "      <td>1.25</td>\n",
       "      <td>NaN</td>\n",
       "      <td>United Kingdom</td>\n",
       "    </tr>\n",
       "    <tr>\n",
       "      <th>1</th>\n",
       "      <td>556072</td>\n",
       "      <td>20970</td>\n",
       "      <td>PINK FLORAL FELTCRAFT SHOULDER BAG</td>\n",
       "      <td>8</td>\n",
       "      <td>2011-06-08 14:57:00</td>\n",
       "      <td>3.75</td>\n",
       "      <td>16126.0</td>\n",
       "      <td>United Kingdom</td>\n",
       "    </tr>\n",
       "    <tr>\n",
       "      <th>2</th>\n",
       "      <td>551739</td>\n",
       "      <td>21559</td>\n",
       "      <td>STRAWBERRY LUNCH BOX WITH CUTLERY</td>\n",
       "      <td>2</td>\n",
       "      <td>2011-05-04 10:58:00</td>\n",
       "      <td>2.55</td>\n",
       "      <td>18118.0</td>\n",
       "      <td>United Kingdom</td>\n",
       "    </tr>\n",
       "    <tr>\n",
       "      <th>3</th>\n",
       "      <td>541658</td>\n",
       "      <td>21988</td>\n",
       "      <td>PACK OF 6 SKULL PAPER PLATES</td>\n",
       "      <td>1</td>\n",
       "      <td>2011-01-20 12:16:00</td>\n",
       "      <td>0.85</td>\n",
       "      <td>15529.0</td>\n",
       "      <td>United Kingdom</td>\n",
       "    </tr>\n",
       "    <tr>\n",
       "      <th>4</th>\n",
       "      <td>538364</td>\n",
       "      <td>85099C</td>\n",
       "      <td>JUMBO  BAG BAROQUE BLACK WHITE</td>\n",
       "      <td>10</td>\n",
       "      <td>2010-12-10 17:26:00</td>\n",
       "      <td>1.95</td>\n",
       "      <td>14448.0</td>\n",
       "      <td>United Kingdom</td>\n",
       "    </tr>\n",
       "  </tbody>\n",
       "</table>\n",
       "</div>"
      ],
      "text/plain": [
       "  InvoiceNo StockCode                         Description  Quantity  \\\n",
       "0    558904     22292    HANGING CHICK  YELLOW DECORATION         1   \n",
       "1    556072     20970  PINK FLORAL FELTCRAFT SHOULDER BAG         8   \n",
       "2    551739     21559   STRAWBERRY LUNCH BOX WITH CUTLERY         2   \n",
       "3    541658     21988        PACK OF 6 SKULL PAPER PLATES         1   \n",
       "4    538364    85099C      JUMBO  BAG BAROQUE BLACK WHITE        10   \n",
       "\n",
       "           InvoiceDate  UnitPrice  CustomerID         Country  \n",
       "0  2011-07-04 16:18:00       1.25         NaN  United Kingdom  \n",
       "1  2011-06-08 14:57:00       3.75     16126.0  United Kingdom  \n",
       "2  2011-05-04 10:58:00       2.55     18118.0  United Kingdom  \n",
       "3  2011-01-20 12:16:00       0.85     15529.0  United Kingdom  \n",
       "4  2010-12-10 17:26:00       1.95     14448.0  United Kingdom  "
      ]
     },
     "execution_count": 2,
     "metadata": {},
     "output_type": "execute_result"
    }
   ],
   "source": [
    "location=r'G:\\Python_dataframes\\Retail\\train_Retail.csv'\n",
    "df=pd.read_csv(location)\n",
    "df.head()"
   ]
  },
  {
   "cell_type": "code",
   "execution_count": 3,
   "id": "eb3b31db",
   "metadata": {},
   "outputs": [
    {
     "data": {
      "text/plain": [
       "(379336, 8)"
      ]
     },
     "execution_count": 3,
     "metadata": {},
     "output_type": "execute_result"
    }
   ],
   "source": [
    "df.shape"
   ]
  },
  {
   "cell_type": "code",
   "execution_count": 4,
   "id": "a0612c50",
   "metadata": {},
   "outputs": [
    {
     "data": {
      "text/plain": [
       "4353"
      ]
     },
     "execution_count": 4,
     "metadata": {},
     "output_type": "execute_result"
    }
   ],
   "source": [
    "df['CustomerID'].nunique()"
   ]
  },
  {
   "cell_type": "code",
   "execution_count": 5,
   "id": "2e703e31",
   "metadata": {},
   "outputs": [
    {
     "data": {
      "text/plain": [
       "InvoiceNo          0\n",
       "StockCode          0\n",
       "Description      963\n",
       "Quantity           0\n",
       "InvoiceDate        0\n",
       "UnitPrice          0\n",
       "CustomerID     94260\n",
       "Country            0\n",
       "dtype: int64"
      ]
     },
     "execution_count": 5,
     "metadata": {},
     "output_type": "execute_result"
    }
   ],
   "source": [
    "df.isna().sum()"
   ]
  },
  {
   "cell_type": "code",
   "execution_count": 6,
   "id": "e5658f84",
   "metadata": {},
   "outputs": [
    {
     "data": {
      "text/plain": [
       "2673"
      ]
     },
     "execution_count": 6,
     "metadata": {},
     "output_type": "execute_result"
    }
   ],
   "source": [
    " df.duplicated().sum()"
   ]
  },
  {
   "cell_type": "code",
   "execution_count": 7,
   "id": "b7a01220",
   "metadata": {},
   "outputs": [],
   "source": [
    "df.drop_duplicates(inplace=True)"
   ]
  },
  {
   "cell_type": "code",
   "execution_count": 8,
   "id": "26dd57ba",
   "metadata": {},
   "outputs": [
    {
     "data": {
      "text/plain": [
       "(376663, 8)"
      ]
     },
     "execution_count": 8,
     "metadata": {},
     "output_type": "execute_result"
    }
   ],
   "source": [
    "df.shape"
   ]
  },
  {
   "cell_type": "code",
   "execution_count": 9,
   "id": "5395ec22",
   "metadata": {},
   "outputs": [
    {
     "data": {
      "text/plain": [
       "InvoiceNo          0\n",
       "StockCode          0\n",
       "Description      963\n",
       "Quantity           0\n",
       "InvoiceDate        0\n",
       "UnitPrice          0\n",
       "CustomerID     94243\n",
       "Country            0\n",
       "dtype: int64"
      ]
     },
     "execution_count": 9,
     "metadata": {},
     "output_type": "execute_result"
    }
   ],
   "source": [
    "df.isna().sum()"
   ]
  },
  {
   "cell_type": "code",
   "execution_count": 10,
   "id": "75aa7aea",
   "metadata": {},
   "outputs": [],
   "source": [
    "df.dropna(inplace=True)"
   ]
  },
  {
   "cell_type": "code",
   "execution_count": 11,
   "id": "79637855",
   "metadata": {},
   "outputs": [
    {
     "data": {
      "text/plain": [
       "(282420, 8)"
      ]
     },
     "execution_count": 11,
     "metadata": {},
     "output_type": "execute_result"
    }
   ],
   "source": [
    "df.shape"
   ]
  },
  {
   "cell_type": "code",
   "execution_count": 12,
   "id": "d0d5a55b",
   "metadata": {},
   "outputs": [
    {
     "data": {
      "text/plain": [
       "InvoiceNo       object\n",
       "StockCode       object\n",
       "Description     object\n",
       "Quantity         int64\n",
       "InvoiceDate     object\n",
       "UnitPrice      float64\n",
       "CustomerID     float64\n",
       "Country         object\n",
       "dtype: object"
      ]
     },
     "execution_count": 12,
     "metadata": {},
     "output_type": "execute_result"
    }
   ],
   "source": [
    "df.dtypes"
   ]
  },
  {
   "cell_type": "code",
   "execution_count": 13,
   "id": "56059e06",
   "metadata": {},
   "outputs": [
    {
     "data": {
      "text/html": [
       "<div>\n",
       "<style scoped>\n",
       "    .dataframe tbody tr th:only-of-type {\n",
       "        vertical-align: middle;\n",
       "    }\n",
       "\n",
       "    .dataframe tbody tr th {\n",
       "        vertical-align: top;\n",
       "    }\n",
       "\n",
       "    .dataframe thead th {\n",
       "        text-align: right;\n",
       "    }\n",
       "</style>\n",
       "<table border=\"1\" class=\"dataframe\">\n",
       "  <thead>\n",
       "    <tr style=\"text-align: right;\">\n",
       "      <th></th>\n",
       "      <th>Quantity</th>\n",
       "      <th>UnitPrice</th>\n",
       "      <th>CustomerID</th>\n",
       "    </tr>\n",
       "  </thead>\n",
       "  <tbody>\n",
       "    <tr>\n",
       "      <th>count</th>\n",
       "      <td>282420.000000</td>\n",
       "      <td>282420.000000</td>\n",
       "      <td>282420.000000</td>\n",
       "    </tr>\n",
       "    <tr>\n",
       "      <th>mean</th>\n",
       "      <td>12.110283</td>\n",
       "      <td>3.526323</td>\n",
       "      <td>15283.894880</td>\n",
       "    </tr>\n",
       "    <tr>\n",
       "      <th>std</th>\n",
       "      <td>297.109127</td>\n",
       "      <td>80.691250</td>\n",
       "      <td>1712.665383</td>\n",
       "    </tr>\n",
       "    <tr>\n",
       "      <th>min</th>\n",
       "      <td>-80995.000000</td>\n",
       "      <td>0.000000</td>\n",
       "      <td>12346.000000</td>\n",
       "    </tr>\n",
       "    <tr>\n",
       "      <th>25%</th>\n",
       "      <td>2.000000</td>\n",
       "      <td>1.250000</td>\n",
       "      <td>13952.000000</td>\n",
       "    </tr>\n",
       "    <tr>\n",
       "      <th>50%</th>\n",
       "      <td>5.000000</td>\n",
       "      <td>1.950000</td>\n",
       "      <td>15150.000000</td>\n",
       "    </tr>\n",
       "    <tr>\n",
       "      <th>75%</th>\n",
       "      <td>12.000000</td>\n",
       "      <td>3.750000</td>\n",
       "      <td>16788.000000</td>\n",
       "    </tr>\n",
       "    <tr>\n",
       "      <th>max</th>\n",
       "      <td>80995.000000</td>\n",
       "      <td>38970.000000</td>\n",
       "      <td>18287.000000</td>\n",
       "    </tr>\n",
       "  </tbody>\n",
       "</table>\n",
       "</div>"
      ],
      "text/plain": [
       "            Quantity      UnitPrice     CustomerID\n",
       "count  282420.000000  282420.000000  282420.000000\n",
       "mean       12.110283       3.526323   15283.894880\n",
       "std       297.109127      80.691250    1712.665383\n",
       "min    -80995.000000       0.000000   12346.000000\n",
       "25%         2.000000       1.250000   13952.000000\n",
       "50%         5.000000       1.950000   15150.000000\n",
       "75%        12.000000       3.750000   16788.000000\n",
       "max     80995.000000   38970.000000   18287.000000"
      ]
     },
     "execution_count": 13,
     "metadata": {},
     "output_type": "execute_result"
    }
   ],
   "source": [
    "df.describe()"
   ]
  },
  {
   "cell_type": "markdown",
   "id": "7f679570",
   "metadata": {},
   "source": [
    "##### We can see negative value for quantity. that indicates cancelled orders. If we remove the cancelled ordres we have to remove the corresponding positive orders as well. So we will keep the negative orders and do the analysis with available data. Monetary value that we will calculate further will have no effect of this as negative and corresponding positive values will cancel out each other."
   ]
  },
  {
   "cell_type": "code",
   "execution_count": 14,
   "id": "1ef707da",
   "metadata": {},
   "outputs": [
    {
     "data": {
      "text/html": [
       "<div>\n",
       "<style scoped>\n",
       "    .dataframe tbody tr th:only-of-type {\n",
       "        vertical-align: middle;\n",
       "    }\n",
       "\n",
       "    .dataframe tbody tr th {\n",
       "        vertical-align: top;\n",
       "    }\n",
       "\n",
       "    .dataframe thead th {\n",
       "        text-align: right;\n",
       "    }\n",
       "</style>\n",
       "<table border=\"1\" class=\"dataframe\">\n",
       "  <thead>\n",
       "    <tr style=\"text-align: right;\">\n",
       "      <th></th>\n",
       "      <th>InvoiceNo</th>\n",
       "      <th>StockCode</th>\n",
       "      <th>Description</th>\n",
       "      <th>Quantity</th>\n",
       "      <th>InvoiceDate</th>\n",
       "      <th>UnitPrice</th>\n",
       "      <th>CustomerID</th>\n",
       "      <th>Country</th>\n",
       "    </tr>\n",
       "  </thead>\n",
       "  <tbody>\n",
       "    <tr>\n",
       "      <th>1</th>\n",
       "      <td>556072</td>\n",
       "      <td>20970</td>\n",
       "      <td>PINK FLORAL FELTCRAFT SHOULDER BAG</td>\n",
       "      <td>8</td>\n",
       "      <td>2011-06-08 14:57:00</td>\n",
       "      <td>3.75</td>\n",
       "      <td>16126.0</td>\n",
       "      <td>United Kingdom</td>\n",
       "    </tr>\n",
       "    <tr>\n",
       "      <th>2</th>\n",
       "      <td>551739</td>\n",
       "      <td>21559</td>\n",
       "      <td>STRAWBERRY LUNCH BOX WITH CUTLERY</td>\n",
       "      <td>2</td>\n",
       "      <td>2011-05-04 10:58:00</td>\n",
       "      <td>2.55</td>\n",
       "      <td>18118.0</td>\n",
       "      <td>United Kingdom</td>\n",
       "    </tr>\n",
       "    <tr>\n",
       "      <th>3</th>\n",
       "      <td>541658</td>\n",
       "      <td>21988</td>\n",
       "      <td>PACK OF 6 SKULL PAPER PLATES</td>\n",
       "      <td>1</td>\n",
       "      <td>2011-01-20 12:16:00</td>\n",
       "      <td>0.85</td>\n",
       "      <td>15529.0</td>\n",
       "      <td>United Kingdom</td>\n",
       "    </tr>\n",
       "    <tr>\n",
       "      <th>4</th>\n",
       "      <td>538364</td>\n",
       "      <td>85099C</td>\n",
       "      <td>JUMBO  BAG BAROQUE BLACK WHITE</td>\n",
       "      <td>10</td>\n",
       "      <td>2010-12-10 17:26:00</td>\n",
       "      <td>1.95</td>\n",
       "      <td>14448.0</td>\n",
       "      <td>United Kingdom</td>\n",
       "    </tr>\n",
       "    <tr>\n",
       "      <th>5</th>\n",
       "      <td>552306</td>\n",
       "      <td>84789</td>\n",
       "      <td>ENCHANTED BIRD PLANT CAGE</td>\n",
       "      <td>4</td>\n",
       "      <td>2011-05-08 15:20:00</td>\n",
       "      <td>3.75</td>\n",
       "      <td>13911.0</td>\n",
       "      <td>United Kingdom</td>\n",
       "    </tr>\n",
       "    <tr>\n",
       "      <th>...</th>\n",
       "      <td>...</td>\n",
       "      <td>...</td>\n",
       "      <td>...</td>\n",
       "      <td>...</td>\n",
       "      <td>...</td>\n",
       "      <td>...</td>\n",
       "      <td>...</td>\n",
       "      <td>...</td>\n",
       "    </tr>\n",
       "    <tr>\n",
       "      <th>379330</th>\n",
       "      <td>553872</td>\n",
       "      <td>21937</td>\n",
       "      <td>STRAWBERRY   PICNIC BAG</td>\n",
       "      <td>5</td>\n",
       "      <td>2011-05-19 14:35:00</td>\n",
       "      <td>2.95</td>\n",
       "      <td>13050.0</td>\n",
       "      <td>United Kingdom</td>\n",
       "    </tr>\n",
       "    <tr>\n",
       "      <th>379331</th>\n",
       "      <td>C554864</td>\n",
       "      <td>22962</td>\n",
       "      <td>JAM JAR WITH PINK LID</td>\n",
       "      <td>-4</td>\n",
       "      <td>2011-05-27 10:36:00</td>\n",
       "      <td>0.85</td>\n",
       "      <td>15122.0</td>\n",
       "      <td>United Kingdom</td>\n",
       "    </tr>\n",
       "    <tr>\n",
       "      <th>379333</th>\n",
       "      <td>572302</td>\n",
       "      <td>22091</td>\n",
       "      <td>EMPIRE TISSUE BOX</td>\n",
       "      <td>1</td>\n",
       "      <td>2011-10-23 14:47:00</td>\n",
       "      <td>0.39</td>\n",
       "      <td>15427.0</td>\n",
       "      <td>United Kingdom</td>\n",
       "    </tr>\n",
       "    <tr>\n",
       "      <th>379334</th>\n",
       "      <td>559339</td>\n",
       "      <td>84946</td>\n",
       "      <td>ANTIQUE SILVER T-LIGHT GLASS</td>\n",
       "      <td>60</td>\n",
       "      <td>2011-07-07 16:49:00</td>\n",
       "      <td>1.25</td>\n",
       "      <td>13752.0</td>\n",
       "      <td>United Kingdom</td>\n",
       "    </tr>\n",
       "    <tr>\n",
       "      <th>379335</th>\n",
       "      <td>576771</td>\n",
       "      <td>23159</td>\n",
       "      <td>SET OF 5 PANCAKE DAY MAGNETS</td>\n",
       "      <td>12</td>\n",
       "      <td>2011-11-16 13:19:00</td>\n",
       "      <td>2.08</td>\n",
       "      <td>13285.0</td>\n",
       "      <td>United Kingdom</td>\n",
       "    </tr>\n",
       "  </tbody>\n",
       "</table>\n",
       "<p>282420 rows × 8 columns</p>\n",
       "</div>"
      ],
      "text/plain": [
       "       InvoiceNo StockCode                         Description  Quantity  \\\n",
       "1         556072     20970  PINK FLORAL FELTCRAFT SHOULDER BAG         8   \n",
       "2         551739     21559   STRAWBERRY LUNCH BOX WITH CUTLERY         2   \n",
       "3         541658     21988        PACK OF 6 SKULL PAPER PLATES         1   \n",
       "4         538364    85099C      JUMBO  BAG BAROQUE BLACK WHITE        10   \n",
       "5         552306     84789           ENCHANTED BIRD PLANT CAGE         4   \n",
       "...          ...       ...                                 ...       ...   \n",
       "379330    553872     21937             STRAWBERRY   PICNIC BAG         5   \n",
       "379331   C554864     22962               JAM JAR WITH PINK LID        -4   \n",
       "379333    572302     22091                   EMPIRE TISSUE BOX         1   \n",
       "379334    559339     84946        ANTIQUE SILVER T-LIGHT GLASS        60   \n",
       "379335    576771     23159        SET OF 5 PANCAKE DAY MAGNETS        12   \n",
       "\n",
       "                InvoiceDate  UnitPrice  CustomerID         Country  \n",
       "1       2011-06-08 14:57:00       3.75     16126.0  United Kingdom  \n",
       "2       2011-05-04 10:58:00       2.55     18118.0  United Kingdom  \n",
       "3       2011-01-20 12:16:00       0.85     15529.0  United Kingdom  \n",
       "4       2010-12-10 17:26:00       1.95     14448.0  United Kingdom  \n",
       "5       2011-05-08 15:20:00       3.75     13911.0  United Kingdom  \n",
       "...                     ...        ...         ...             ...  \n",
       "379330  2011-05-19 14:35:00       2.95     13050.0  United Kingdom  \n",
       "379331  2011-05-27 10:36:00       0.85     15122.0  United Kingdom  \n",
       "379333  2011-10-23 14:47:00       0.39     15427.0  United Kingdom  \n",
       "379334  2011-07-07 16:49:00       1.25     13752.0  United Kingdom  \n",
       "379335  2011-11-16 13:19:00       2.08     13285.0  United Kingdom  \n",
       "\n",
       "[282420 rows x 8 columns]"
      ]
     },
     "execution_count": 14,
     "metadata": {},
     "output_type": "execute_result"
    }
   ],
   "source": [
    "df"
   ]
  },
  {
   "cell_type": "markdown",
   "id": "2c6a6370",
   "metadata": {},
   "source": [
    "## Cohort Analysis"
   ]
  },
  {
   "cell_type": "markdown",
   "id": "9b2b7e1d",
   "metadata": {},
   "source": [
    "### Creating Month Cohorts and Finding active customers in cohort"
   ]
  },
  {
   "cell_type": "code",
   "execution_count": 15,
   "id": "5aefa620",
   "metadata": {},
   "outputs": [
    {
     "data": {
      "text/plain": [
       "InvoiceNo       object\n",
       "StockCode       object\n",
       "Description     object\n",
       "Quantity         int64\n",
       "InvoiceDate     object\n",
       "UnitPrice      float64\n",
       "CustomerID     float64\n",
       "Country         object\n",
       "dtype: object"
      ]
     },
     "execution_count": 15,
     "metadata": {},
     "output_type": "execute_result"
    }
   ],
   "source": [
    "df.dtypes"
   ]
  },
  {
   "cell_type": "code",
   "execution_count": 16,
   "id": "fc4c6de5",
   "metadata": {},
   "outputs": [
    {
     "data": {
      "text/plain": [
       "1   2011-06-08 14:57:00\n",
       "2   2011-05-04 10:58:00\n",
       "3   2011-01-20 12:16:00\n",
       "4   2010-12-10 17:26:00\n",
       "5   2011-05-08 15:20:00\n",
       "Name: InvoiceDate, dtype: datetime64[ns]"
      ]
     },
     "execution_count": 16,
     "metadata": {},
     "output_type": "execute_result"
    }
   ],
   "source": [
    "df['InvoiceDate'] = pd.to_datetime(df['InvoiceDate'])\n",
    "df['InvoiceDate'].head()"
   ]
  },
  {
   "cell_type": "code",
   "execution_count": 17,
   "id": "fc9613b1",
   "metadata": {},
   "outputs": [
    {
     "data": {
      "text/plain": [
       "1    16126.0\n",
       "2    18118.0\n",
       "3    15529.0\n",
       "4    14448.0\n",
       "5    13911.0\n",
       "Name: CustomerID, dtype: object"
      ]
     },
     "execution_count": 17,
     "metadata": {},
     "output_type": "execute_result"
    }
   ],
   "source": [
    "df['CustomerID'] = df['CustomerID'].astype(object)\n",
    "df['CustomerID'].head()"
   ]
  },
  {
   "cell_type": "code",
   "execution_count": 18,
   "id": "b8cc8dda",
   "metadata": {},
   "outputs": [
    {
     "data": {
      "text/html": [
       "<div>\n",
       "<style scoped>\n",
       "    .dataframe tbody tr th:only-of-type {\n",
       "        vertical-align: middle;\n",
       "    }\n",
       "\n",
       "    .dataframe tbody tr th {\n",
       "        vertical-align: top;\n",
       "    }\n",
       "\n",
       "    .dataframe thead th {\n",
       "        text-align: right;\n",
       "    }\n",
       "</style>\n",
       "<table border=\"1\" class=\"dataframe\">\n",
       "  <thead>\n",
       "    <tr style=\"text-align: right;\">\n",
       "      <th></th>\n",
       "      <th>InvoiceNo</th>\n",
       "      <th>StockCode</th>\n",
       "      <th>Description</th>\n",
       "      <th>Quantity</th>\n",
       "      <th>InvoiceDate</th>\n",
       "      <th>UnitPrice</th>\n",
       "      <th>CustomerID</th>\n",
       "      <th>Country</th>\n",
       "      <th>month</th>\n",
       "    </tr>\n",
       "  </thead>\n",
       "  <tbody>\n",
       "    <tr>\n",
       "      <th>1</th>\n",
       "      <td>556072</td>\n",
       "      <td>20970</td>\n",
       "      <td>PINK FLORAL FELTCRAFT SHOULDER BAG</td>\n",
       "      <td>8</td>\n",
       "      <td>2011-06-08 14:57:00</td>\n",
       "      <td>3.75</td>\n",
       "      <td>16126.0</td>\n",
       "      <td>United Kingdom</td>\n",
       "      <td>June</td>\n",
       "    </tr>\n",
       "    <tr>\n",
       "      <th>2</th>\n",
       "      <td>551739</td>\n",
       "      <td>21559</td>\n",
       "      <td>STRAWBERRY LUNCH BOX WITH CUTLERY</td>\n",
       "      <td>2</td>\n",
       "      <td>2011-05-04 10:58:00</td>\n",
       "      <td>2.55</td>\n",
       "      <td>18118.0</td>\n",
       "      <td>United Kingdom</td>\n",
       "      <td>May</td>\n",
       "    </tr>\n",
       "    <tr>\n",
       "      <th>3</th>\n",
       "      <td>541658</td>\n",
       "      <td>21988</td>\n",
       "      <td>PACK OF 6 SKULL PAPER PLATES</td>\n",
       "      <td>1</td>\n",
       "      <td>2011-01-20 12:16:00</td>\n",
       "      <td>0.85</td>\n",
       "      <td>15529.0</td>\n",
       "      <td>United Kingdom</td>\n",
       "      <td>January</td>\n",
       "    </tr>\n",
       "    <tr>\n",
       "      <th>4</th>\n",
       "      <td>538364</td>\n",
       "      <td>85099C</td>\n",
       "      <td>JUMBO  BAG BAROQUE BLACK WHITE</td>\n",
       "      <td>10</td>\n",
       "      <td>2010-12-10 17:26:00</td>\n",
       "      <td>1.95</td>\n",
       "      <td>14448.0</td>\n",
       "      <td>United Kingdom</td>\n",
       "      <td>December</td>\n",
       "    </tr>\n",
       "    <tr>\n",
       "      <th>5</th>\n",
       "      <td>552306</td>\n",
       "      <td>84789</td>\n",
       "      <td>ENCHANTED BIRD PLANT CAGE</td>\n",
       "      <td>4</td>\n",
       "      <td>2011-05-08 15:20:00</td>\n",
       "      <td>3.75</td>\n",
       "      <td>13911.0</td>\n",
       "      <td>United Kingdom</td>\n",
       "      <td>May</td>\n",
       "    </tr>\n",
       "  </tbody>\n",
       "</table>\n",
       "</div>"
      ],
      "text/plain": [
       "  InvoiceNo StockCode                         Description  Quantity  \\\n",
       "1    556072     20970  PINK FLORAL FELTCRAFT SHOULDER BAG         8   \n",
       "2    551739     21559   STRAWBERRY LUNCH BOX WITH CUTLERY         2   \n",
       "3    541658     21988        PACK OF 6 SKULL PAPER PLATES         1   \n",
       "4    538364    85099C      JUMBO  BAG BAROQUE BLACK WHITE        10   \n",
       "5    552306     84789           ENCHANTED BIRD PLANT CAGE         4   \n",
       "\n",
       "          InvoiceDate  UnitPrice CustomerID         Country     month  \n",
       "1 2011-06-08 14:57:00       3.75    16126.0  United Kingdom      June  \n",
       "2 2011-05-04 10:58:00       2.55    18118.0  United Kingdom       May  \n",
       "3 2011-01-20 12:16:00       0.85    15529.0  United Kingdom   January  \n",
       "4 2010-12-10 17:26:00       1.95    14448.0  United Kingdom  December  \n",
       "5 2011-05-08 15:20:00       3.75    13911.0  United Kingdom       May  "
      ]
     },
     "execution_count": 18,
     "metadata": {},
     "output_type": "execute_result"
    }
   ],
   "source": [
    "df['month'] = df['InvoiceDate'].dt.month_name()\n",
    "df.head()"
   ]
  },
  {
   "cell_type": "code",
   "execution_count": 19,
   "id": "710947b5",
   "metadata": {},
   "outputs": [
    {
     "data": {
      "text/plain": [
       "array(['June', 'May', 'January', 'December', 'September', 'October',\n",
       "       'February', 'November', 'July', 'August', 'March', 'April'],\n",
       "      dtype=object)"
      ]
     },
     "execution_count": 19,
     "metadata": {},
     "output_type": "execute_result"
    }
   ],
   "source": [
    "df['month'].unique()"
   ]
  },
  {
   "cell_type": "markdown",
   "id": "1bdb6c56",
   "metadata": {},
   "source": [
    "## Cohort Analysis"
   ]
  },
  {
   "cell_type": "code",
   "execution_count": 20,
   "id": "88e969f4",
   "metadata": {},
   "outputs": [],
   "source": [
    "import datetime as dt\n",
    "def get_month(x) : return dt.datetime(x.year,x.month,1)"
   ]
  },
  {
   "cell_type": "code",
   "execution_count": 21,
   "id": "ecdc37e1",
   "metadata": {},
   "outputs": [
    {
     "data": {
      "text/html": [
       "<div>\n",
       "<style scoped>\n",
       "    .dataframe tbody tr th:only-of-type {\n",
       "        vertical-align: middle;\n",
       "    }\n",
       "\n",
       "    .dataframe tbody tr th {\n",
       "        vertical-align: top;\n",
       "    }\n",
       "\n",
       "    .dataframe thead th {\n",
       "        text-align: right;\n",
       "    }\n",
       "</style>\n",
       "<table border=\"1\" class=\"dataframe\">\n",
       "  <thead>\n",
       "    <tr style=\"text-align: right;\">\n",
       "      <th></th>\n",
       "      <th>InvoiceNo</th>\n",
       "      <th>StockCode</th>\n",
       "      <th>Description</th>\n",
       "      <th>Quantity</th>\n",
       "      <th>InvoiceDate</th>\n",
       "      <th>UnitPrice</th>\n",
       "      <th>CustomerID</th>\n",
       "      <th>Country</th>\n",
       "      <th>month</th>\n",
       "      <th>InvoiceMonth</th>\n",
       "    </tr>\n",
       "  </thead>\n",
       "  <tbody>\n",
       "    <tr>\n",
       "      <th>1</th>\n",
       "      <td>556072</td>\n",
       "      <td>20970</td>\n",
       "      <td>PINK FLORAL FELTCRAFT SHOULDER BAG</td>\n",
       "      <td>8</td>\n",
       "      <td>2011-06-08 14:57:00</td>\n",
       "      <td>3.75</td>\n",
       "      <td>16126.0</td>\n",
       "      <td>United Kingdom</td>\n",
       "      <td>June</td>\n",
       "      <td>2011-06-01</td>\n",
       "    </tr>\n",
       "    <tr>\n",
       "      <th>2</th>\n",
       "      <td>551739</td>\n",
       "      <td>21559</td>\n",
       "      <td>STRAWBERRY LUNCH BOX WITH CUTLERY</td>\n",
       "      <td>2</td>\n",
       "      <td>2011-05-04 10:58:00</td>\n",
       "      <td>2.55</td>\n",
       "      <td>18118.0</td>\n",
       "      <td>United Kingdom</td>\n",
       "      <td>May</td>\n",
       "      <td>2011-05-01</td>\n",
       "    </tr>\n",
       "    <tr>\n",
       "      <th>3</th>\n",
       "      <td>541658</td>\n",
       "      <td>21988</td>\n",
       "      <td>PACK OF 6 SKULL PAPER PLATES</td>\n",
       "      <td>1</td>\n",
       "      <td>2011-01-20 12:16:00</td>\n",
       "      <td>0.85</td>\n",
       "      <td>15529.0</td>\n",
       "      <td>United Kingdom</td>\n",
       "      <td>January</td>\n",
       "      <td>2011-01-01</td>\n",
       "    </tr>\n",
       "    <tr>\n",
       "      <th>4</th>\n",
       "      <td>538364</td>\n",
       "      <td>85099C</td>\n",
       "      <td>JUMBO  BAG BAROQUE BLACK WHITE</td>\n",
       "      <td>10</td>\n",
       "      <td>2010-12-10 17:26:00</td>\n",
       "      <td>1.95</td>\n",
       "      <td>14448.0</td>\n",
       "      <td>United Kingdom</td>\n",
       "      <td>December</td>\n",
       "      <td>2010-12-01</td>\n",
       "    </tr>\n",
       "    <tr>\n",
       "      <th>5</th>\n",
       "      <td>552306</td>\n",
       "      <td>84789</td>\n",
       "      <td>ENCHANTED BIRD PLANT CAGE</td>\n",
       "      <td>4</td>\n",
       "      <td>2011-05-08 15:20:00</td>\n",
       "      <td>3.75</td>\n",
       "      <td>13911.0</td>\n",
       "      <td>United Kingdom</td>\n",
       "      <td>May</td>\n",
       "      <td>2011-05-01</td>\n",
       "    </tr>\n",
       "  </tbody>\n",
       "</table>\n",
       "</div>"
      ],
      "text/plain": [
       "  InvoiceNo StockCode                         Description  Quantity  \\\n",
       "1    556072     20970  PINK FLORAL FELTCRAFT SHOULDER BAG         8   \n",
       "2    551739     21559   STRAWBERRY LUNCH BOX WITH CUTLERY         2   \n",
       "3    541658     21988        PACK OF 6 SKULL PAPER PLATES         1   \n",
       "4    538364    85099C      JUMBO  BAG BAROQUE BLACK WHITE        10   \n",
       "5    552306     84789           ENCHANTED BIRD PLANT CAGE         4   \n",
       "\n",
       "          InvoiceDate  UnitPrice CustomerID         Country     month  \\\n",
       "1 2011-06-08 14:57:00       3.75    16126.0  United Kingdom      June   \n",
       "2 2011-05-04 10:58:00       2.55    18118.0  United Kingdom       May   \n",
       "3 2011-01-20 12:16:00       0.85    15529.0  United Kingdom   January   \n",
       "4 2010-12-10 17:26:00       1.95    14448.0  United Kingdom  December   \n",
       "5 2011-05-08 15:20:00       3.75    13911.0  United Kingdom       May   \n",
       "\n",
       "  InvoiceMonth  \n",
       "1   2011-06-01  \n",
       "2   2011-05-01  \n",
       "3   2011-01-01  \n",
       "4   2010-12-01  \n",
       "5   2011-05-01  "
      ]
     },
     "execution_count": 21,
     "metadata": {},
     "output_type": "execute_result"
    }
   ],
   "source": [
    "df['InvoiceMonth'] = df['InvoiceDate'].apply(get_month)\n",
    "df.head()"
   ]
  },
  {
   "cell_type": "code",
   "execution_count": 22,
   "id": "7d6d5b99",
   "metadata": {},
   "outputs": [
    {
     "data": {
      "text/plain": [
       "1        2011-06-01\n",
       "2        2011-05-01\n",
       "3        2011-01-01\n",
       "4        2010-12-01\n",
       "5        2011-05-01\n",
       "            ...    \n",
       "378749   2011-12-01\n",
       "378910   2011-06-01\n",
       "378932   2011-05-01\n",
       "378956   2011-02-01\n",
       "379233   2011-09-01\n",
       "Name: InvoiceMonth, Length: 39242, dtype: datetime64[ns]"
      ]
     },
     "execution_count": 22,
     "metadata": {},
     "output_type": "execute_result"
    }
   ],
   "source": [
    "group = df.groupby('CustomerID')['InvoiceMonth']\n",
    "group.head(10)"
   ]
  },
  {
   "cell_type": "code",
   "execution_count": 23,
   "id": "658251f1",
   "metadata": {},
   "outputs": [
    {
     "data": {
      "text/html": [
       "<div>\n",
       "<style scoped>\n",
       "    .dataframe tbody tr th:only-of-type {\n",
       "        vertical-align: middle;\n",
       "    }\n",
       "\n",
       "    .dataframe tbody tr th {\n",
       "        vertical-align: top;\n",
       "    }\n",
       "\n",
       "    .dataframe thead th {\n",
       "        text-align: right;\n",
       "    }\n",
       "</style>\n",
       "<table border=\"1\" class=\"dataframe\">\n",
       "  <thead>\n",
       "    <tr style=\"text-align: right;\">\n",
       "      <th></th>\n",
       "      <th>InvoiceNo</th>\n",
       "      <th>StockCode</th>\n",
       "      <th>Description</th>\n",
       "      <th>Quantity</th>\n",
       "      <th>InvoiceDate</th>\n",
       "      <th>UnitPrice</th>\n",
       "      <th>CustomerID</th>\n",
       "      <th>Country</th>\n",
       "      <th>month</th>\n",
       "      <th>InvoiceMonth</th>\n",
       "      <th>CohortMonth</th>\n",
       "    </tr>\n",
       "  </thead>\n",
       "  <tbody>\n",
       "    <tr>\n",
       "      <th>1</th>\n",
       "      <td>556072</td>\n",
       "      <td>20970</td>\n",
       "      <td>PINK FLORAL FELTCRAFT SHOULDER BAG</td>\n",
       "      <td>8</td>\n",
       "      <td>2011-06-08 14:57:00</td>\n",
       "      <td>3.75</td>\n",
       "      <td>16126.0</td>\n",
       "      <td>United Kingdom</td>\n",
       "      <td>June</td>\n",
       "      <td>2011-06-01</td>\n",
       "      <td>2011-02-01</td>\n",
       "    </tr>\n",
       "    <tr>\n",
       "      <th>2</th>\n",
       "      <td>551739</td>\n",
       "      <td>21559</td>\n",
       "      <td>STRAWBERRY LUNCH BOX WITH CUTLERY</td>\n",
       "      <td>2</td>\n",
       "      <td>2011-05-04 10:58:00</td>\n",
       "      <td>2.55</td>\n",
       "      <td>18118.0</td>\n",
       "      <td>United Kingdom</td>\n",
       "      <td>May</td>\n",
       "      <td>2011-05-01</td>\n",
       "      <td>2010-12-01</td>\n",
       "    </tr>\n",
       "    <tr>\n",
       "      <th>3</th>\n",
       "      <td>541658</td>\n",
       "      <td>21988</td>\n",
       "      <td>PACK OF 6 SKULL PAPER PLATES</td>\n",
       "      <td>1</td>\n",
       "      <td>2011-01-20 12:16:00</td>\n",
       "      <td>0.85</td>\n",
       "      <td>15529.0</td>\n",
       "      <td>United Kingdom</td>\n",
       "      <td>January</td>\n",
       "      <td>2011-01-01</td>\n",
       "      <td>2010-12-01</td>\n",
       "    </tr>\n",
       "    <tr>\n",
       "      <th>4</th>\n",
       "      <td>538364</td>\n",
       "      <td>85099C</td>\n",
       "      <td>JUMBO  BAG BAROQUE BLACK WHITE</td>\n",
       "      <td>10</td>\n",
       "      <td>2010-12-10 17:26:00</td>\n",
       "      <td>1.95</td>\n",
       "      <td>14448.0</td>\n",
       "      <td>United Kingdom</td>\n",
       "      <td>December</td>\n",
       "      <td>2010-12-01</td>\n",
       "      <td>2010-12-01</td>\n",
       "    </tr>\n",
       "    <tr>\n",
       "      <th>5</th>\n",
       "      <td>552306</td>\n",
       "      <td>84789</td>\n",
       "      <td>ENCHANTED BIRD PLANT CAGE</td>\n",
       "      <td>4</td>\n",
       "      <td>2011-05-08 15:20:00</td>\n",
       "      <td>3.75</td>\n",
       "      <td>13911.0</td>\n",
       "      <td>United Kingdom</td>\n",
       "      <td>May</td>\n",
       "      <td>2011-05-01</td>\n",
       "      <td>2011-02-01</td>\n",
       "    </tr>\n",
       "  </tbody>\n",
       "</table>\n",
       "</div>"
      ],
      "text/plain": [
       "  InvoiceNo StockCode                         Description  Quantity  \\\n",
       "1    556072     20970  PINK FLORAL FELTCRAFT SHOULDER BAG         8   \n",
       "2    551739     21559   STRAWBERRY LUNCH BOX WITH CUTLERY         2   \n",
       "3    541658     21988        PACK OF 6 SKULL PAPER PLATES         1   \n",
       "4    538364    85099C      JUMBO  BAG BAROQUE BLACK WHITE        10   \n",
       "5    552306     84789           ENCHANTED BIRD PLANT CAGE         4   \n",
       "\n",
       "          InvoiceDate  UnitPrice CustomerID         Country     month  \\\n",
       "1 2011-06-08 14:57:00       3.75    16126.0  United Kingdom      June   \n",
       "2 2011-05-04 10:58:00       2.55    18118.0  United Kingdom       May   \n",
       "3 2011-01-20 12:16:00       0.85    15529.0  United Kingdom   January   \n",
       "4 2010-12-10 17:26:00       1.95    14448.0  United Kingdom  December   \n",
       "5 2011-05-08 15:20:00       3.75    13911.0  United Kingdom       May   \n",
       "\n",
       "  InvoiceMonth CohortMonth  \n",
       "1   2011-06-01  2011-02-01  \n",
       "2   2011-05-01  2010-12-01  \n",
       "3   2011-01-01  2010-12-01  \n",
       "4   2010-12-01  2010-12-01  \n",
       "5   2011-05-01  2011-02-01  "
      ]
     },
     "execution_count": 23,
     "metadata": {},
     "output_type": "execute_result"
    }
   ],
   "source": [
    "df['CohortMonth'] = group.transform('min')\n",
    "df.head()"
   ]
  },
  {
   "cell_type": "code",
   "execution_count": 24,
   "id": "a1cb38b3",
   "metadata": {},
   "outputs": [
    {
     "data": {
      "text/plain": [
       "Index(['InvoiceNo', 'StockCode', 'Description', 'Quantity', 'InvoiceDate',\n",
       "       'UnitPrice', 'CustomerID', 'Country', 'month', 'InvoiceMonth',\n",
       "       'CohortMonth'],\n",
       "      dtype='object')"
      ]
     },
     "execution_count": 24,
     "metadata": {},
     "output_type": "execute_result"
    }
   ],
   "source": [
    "df.columns"
   ]
  },
  {
   "cell_type": "code",
   "execution_count": 25,
   "id": "637d5e07",
   "metadata": {},
   "outputs": [],
   "source": [
    "from dateutil import relativedelta as rd\n",
    "def months(date1,date2):\n",
    "    diff = rd.relativedelta(date1,date2)\n",
    "    return diff.years*12 +diff.months"
   ]
  },
  {
   "cell_type": "code",
   "execution_count": 26,
   "id": "99b9a035",
   "metadata": {},
   "outputs": [],
   "source": [
    "#Cohort index is months passed since first purchase\n",
    "df['CohortIndex']  = df.apply(lambda row : months(row.InvoiceMonth,row.CohortMonth)+1,axis =1)"
   ]
  },
  {
   "cell_type": "code",
   "execution_count": 27,
   "id": "e537c562",
   "metadata": {},
   "outputs": [
    {
     "data": {
      "text/plain": [
       "Index(['InvoiceNo', 'StockCode', 'Description', 'Quantity', 'InvoiceDate',\n",
       "       'UnitPrice', 'CustomerID', 'Country', 'month', 'InvoiceMonth',\n",
       "       'CohortMonth', 'CohortIndex'],\n",
       "      dtype='object')"
      ]
     },
     "execution_count": 27,
     "metadata": {},
     "output_type": "execute_result"
    }
   ],
   "source": [
    "df.columns"
   ]
  },
  {
   "cell_type": "code",
   "execution_count": 28,
   "id": "71abd162",
   "metadata": {},
   "outputs": [
    {
     "data": {
      "text/html": [
       "<div>\n",
       "<style scoped>\n",
       "    .dataframe tbody tr th:only-of-type {\n",
       "        vertical-align: middle;\n",
       "    }\n",
       "\n",
       "    .dataframe tbody tr th {\n",
       "        vertical-align: top;\n",
       "    }\n",
       "\n",
       "    .dataframe thead th {\n",
       "        text-align: right;\n",
       "    }\n",
       "</style>\n",
       "<table border=\"1\" class=\"dataframe\">\n",
       "  <thead>\n",
       "    <tr style=\"text-align: right;\">\n",
       "      <th></th>\n",
       "      <th>CustomerID</th>\n",
       "      <th>CohortIndex</th>\n",
       "      <th>InvoiceMonth</th>\n",
       "      <th>CohortMonth</th>\n",
       "    </tr>\n",
       "  </thead>\n",
       "  <tbody>\n",
       "    <tr>\n",
       "      <th>1</th>\n",
       "      <td>16126.0</td>\n",
       "      <td>5</td>\n",
       "      <td>2011-06-01</td>\n",
       "      <td>2011-02-01</td>\n",
       "    </tr>\n",
       "    <tr>\n",
       "      <th>2</th>\n",
       "      <td>18118.0</td>\n",
       "      <td>6</td>\n",
       "      <td>2011-05-01</td>\n",
       "      <td>2010-12-01</td>\n",
       "    </tr>\n",
       "    <tr>\n",
       "      <th>3</th>\n",
       "      <td>15529.0</td>\n",
       "      <td>2</td>\n",
       "      <td>2011-01-01</td>\n",
       "      <td>2010-12-01</td>\n",
       "    </tr>\n",
       "    <tr>\n",
       "      <th>4</th>\n",
       "      <td>14448.0</td>\n",
       "      <td>1</td>\n",
       "      <td>2010-12-01</td>\n",
       "      <td>2010-12-01</td>\n",
       "    </tr>\n",
       "    <tr>\n",
       "      <th>5</th>\n",
       "      <td>13911.0</td>\n",
       "      <td>4</td>\n",
       "      <td>2011-05-01</td>\n",
       "      <td>2011-02-01</td>\n",
       "    </tr>\n",
       "  </tbody>\n",
       "</table>\n",
       "</div>"
      ],
      "text/plain": [
       "  CustomerID  CohortIndex InvoiceMonth CohortMonth\n",
       "1    16126.0            5   2011-06-01  2011-02-01\n",
       "2    18118.0            6   2011-05-01  2010-12-01\n",
       "3    15529.0            2   2011-01-01  2010-12-01\n",
       "4    14448.0            1   2010-12-01  2010-12-01\n",
       "5    13911.0            4   2011-05-01  2011-02-01"
      ]
     },
     "execution_count": 28,
     "metadata": {},
     "output_type": "execute_result"
    }
   ],
   "source": [
    "df[['CustomerID','CohortIndex','InvoiceMonth','CohortMonth']].head()"
   ]
  },
  {
   "cell_type": "code",
   "execution_count": 29,
   "id": "31050023",
   "metadata": {},
   "outputs": [
    {
     "data": {
      "text/html": [
       "<div>\n",
       "<style scoped>\n",
       "    .dataframe tbody tr th:only-of-type {\n",
       "        vertical-align: middle;\n",
       "    }\n",
       "\n",
       "    .dataframe tbody tr th {\n",
       "        vertical-align: top;\n",
       "    }\n",
       "\n",
       "    .dataframe thead th {\n",
       "        text-align: right;\n",
       "    }\n",
       "</style>\n",
       "<table border=\"1\" class=\"dataframe\">\n",
       "  <thead>\n",
       "    <tr style=\"text-align: right;\">\n",
       "      <th></th>\n",
       "      <th>CohortIndex</th>\n",
       "      <th>CohortMonth</th>\n",
       "      <th>CustomerID</th>\n",
       "    </tr>\n",
       "  </thead>\n",
       "  <tbody>\n",
       "    <tr>\n",
       "      <th>0</th>\n",
       "      <td>1</td>\n",
       "      <td>2010-12-01</td>\n",
       "      <td>929</td>\n",
       "    </tr>\n",
       "    <tr>\n",
       "      <th>1</th>\n",
       "      <td>1</td>\n",
       "      <td>2011-01-01</td>\n",
       "      <td>422</td>\n",
       "    </tr>\n",
       "    <tr>\n",
       "      <th>2</th>\n",
       "      <td>1</td>\n",
       "      <td>2011-02-01</td>\n",
       "      <td>377</td>\n",
       "    </tr>\n",
       "    <tr>\n",
       "      <th>3</th>\n",
       "      <td>1</td>\n",
       "      <td>2011-03-01</td>\n",
       "      <td>441</td>\n",
       "    </tr>\n",
       "    <tr>\n",
       "      <th>4</th>\n",
       "      <td>1</td>\n",
       "      <td>2011-04-01</td>\n",
       "      <td>298</td>\n",
       "    </tr>\n",
       "    <tr>\n",
       "      <th>...</th>\n",
       "      <td>...</td>\n",
       "      <td>...</td>\n",
       "      <td>...</td>\n",
       "    </tr>\n",
       "    <tr>\n",
       "      <th>86</th>\n",
       "      <td>11</td>\n",
       "      <td>2011-01-01</td>\n",
       "      <td>157</td>\n",
       "    </tr>\n",
       "    <tr>\n",
       "      <th>87</th>\n",
       "      <td>11</td>\n",
       "      <td>2011-02-01</td>\n",
       "      <td>32</td>\n",
       "    </tr>\n",
       "    <tr>\n",
       "      <th>88</th>\n",
       "      <td>12</td>\n",
       "      <td>2010-12-01</td>\n",
       "      <td>460</td>\n",
       "    </tr>\n",
       "    <tr>\n",
       "      <th>89</th>\n",
       "      <td>12</td>\n",
       "      <td>2011-01-01</td>\n",
       "      <td>66</td>\n",
       "    </tr>\n",
       "    <tr>\n",
       "      <th>90</th>\n",
       "      <td>13</td>\n",
       "      <td>2010-12-01</td>\n",
       "      <td>248</td>\n",
       "    </tr>\n",
       "  </tbody>\n",
       "</table>\n",
       "<p>91 rows × 3 columns</p>\n",
       "</div>"
      ],
      "text/plain": [
       "    CohortIndex CohortMonth  CustomerID\n",
       "0             1  2010-12-01         929\n",
       "1             1  2011-01-01         422\n",
       "2             1  2011-02-01         377\n",
       "3             1  2011-03-01         441\n",
       "4             1  2011-04-01         298\n",
       "..          ...         ...         ...\n",
       "86           11  2011-01-01         157\n",
       "87           11  2011-02-01          32\n",
       "88           12  2010-12-01         460\n",
       "89           12  2011-01-01          66\n",
       "90           13  2010-12-01         248\n",
       "\n",
       "[91 rows x 3 columns]"
      ]
     },
     "execution_count": 29,
     "metadata": {},
     "output_type": "execute_result"
    }
   ],
   "source": [
    "# active monthly customers in each cohort\n",
    "cohort = df.groupby(['CohortIndex','CohortMonth']).CustomerID.apply(pd.Series.nunique).reset_index()\n",
    "cohort"
   ]
  },
  {
   "cell_type": "code",
   "execution_count": 30,
   "id": "dd21fdc7",
   "metadata": {},
   "outputs": [],
   "source": [
    "counts = cohort.pivot(index = 'CohortMonth', columns = 'CohortIndex', values = 'CustomerID' )\n",
    "retention = counts.divide(counts.iloc[:,0],axis =0).round(3)*100\n",
    "retention.index = retention.index.date"
   ]
  },
  {
   "cell_type": "code",
   "execution_count": 31,
   "id": "1fec6e16",
   "metadata": {},
   "outputs": [
    {
     "data": {
      "text/html": [
       "<div>\n",
       "<style scoped>\n",
       "    .dataframe tbody tr th:only-of-type {\n",
       "        vertical-align: middle;\n",
       "    }\n",
       "\n",
       "    .dataframe tbody tr th {\n",
       "        vertical-align: top;\n",
       "    }\n",
       "\n",
       "    .dataframe thead th {\n",
       "        text-align: right;\n",
       "    }\n",
       "</style>\n",
       "<table border=\"1\" class=\"dataframe\">\n",
       "  <thead>\n",
       "    <tr style=\"text-align: right;\">\n",
       "      <th>CohortIndex</th>\n",
       "      <th>1</th>\n",
       "      <th>2</th>\n",
       "      <th>3</th>\n",
       "      <th>4</th>\n",
       "      <th>5</th>\n",
       "      <th>6</th>\n",
       "      <th>7</th>\n",
       "      <th>8</th>\n",
       "      <th>9</th>\n",
       "      <th>10</th>\n",
       "      <th>11</th>\n",
       "      <th>12</th>\n",
       "      <th>13</th>\n",
       "    </tr>\n",
       "    <tr>\n",
       "      <th>CohortMonth</th>\n",
       "      <th></th>\n",
       "      <th></th>\n",
       "      <th></th>\n",
       "      <th></th>\n",
       "      <th></th>\n",
       "      <th></th>\n",
       "      <th></th>\n",
       "      <th></th>\n",
       "      <th></th>\n",
       "      <th></th>\n",
       "      <th></th>\n",
       "      <th></th>\n",
       "      <th></th>\n",
       "    </tr>\n",
       "  </thead>\n",
       "  <tbody>\n",
       "    <tr>\n",
       "      <th>2010-12-01</th>\n",
       "      <td>929.0</td>\n",
       "      <td>350.0</td>\n",
       "      <td>297.0</td>\n",
       "      <td>353.0</td>\n",
       "      <td>332.0</td>\n",
       "      <td>367.0</td>\n",
       "      <td>351.0</td>\n",
       "      <td>322.0</td>\n",
       "      <td>325.0</td>\n",
       "      <td>361.0</td>\n",
       "      <td>344.0</td>\n",
       "      <td>460.0</td>\n",
       "      <td>248.0</td>\n",
       "    </tr>\n",
       "    <tr>\n",
       "      <th>2011-01-01</th>\n",
       "      <td>422.0</td>\n",
       "      <td>102.0</td>\n",
       "      <td>120.0</td>\n",
       "      <td>104.0</td>\n",
       "      <td>141.0</td>\n",
       "      <td>122.0</td>\n",
       "      <td>113.0</td>\n",
       "      <td>109.0</td>\n",
       "      <td>132.0</td>\n",
       "      <td>148.0</td>\n",
       "      <td>157.0</td>\n",
       "      <td>66.0</td>\n",
       "      <td>NaN</td>\n",
       "    </tr>\n",
       "    <tr>\n",
       "      <th>2011-02-01</th>\n",
       "      <td>377.0</td>\n",
       "      <td>91.0</td>\n",
       "      <td>72.0</td>\n",
       "      <td>101.0</td>\n",
       "      <td>102.0</td>\n",
       "      <td>91.0</td>\n",
       "      <td>95.0</td>\n",
       "      <td>101.0</td>\n",
       "      <td>97.0</td>\n",
       "      <td>117.0</td>\n",
       "      <td>32.0</td>\n",
       "      <td>NaN</td>\n",
       "      <td>NaN</td>\n",
       "    </tr>\n",
       "    <tr>\n",
       "      <th>2011-03-01</th>\n",
       "      <td>441.0</td>\n",
       "      <td>81.0</td>\n",
       "      <td>110.0</td>\n",
       "      <td>93.0</td>\n",
       "      <td>101.0</td>\n",
       "      <td>76.0</td>\n",
       "      <td>113.0</td>\n",
       "      <td>103.0</td>\n",
       "      <td>125.0</td>\n",
       "      <td>37.0</td>\n",
       "      <td>NaN</td>\n",
       "      <td>NaN</td>\n",
       "      <td>NaN</td>\n",
       "    </tr>\n",
       "    <tr>\n",
       "      <th>2011-04-01</th>\n",
       "      <td>298.0</td>\n",
       "      <td>67.0</td>\n",
       "      <td>65.0</td>\n",
       "      <td>60.0</td>\n",
       "      <td>61.0</td>\n",
       "      <td>71.0</td>\n",
       "      <td>69.0</td>\n",
       "      <td>78.0</td>\n",
       "      <td>23.0</td>\n",
       "      <td>NaN</td>\n",
       "      <td>NaN</td>\n",
       "      <td>NaN</td>\n",
       "      <td>NaN</td>\n",
       "    </tr>\n",
       "    <tr>\n",
       "      <th>2011-05-01</th>\n",
       "      <td>278.0</td>\n",
       "      <td>60.0</td>\n",
       "      <td>48.0</td>\n",
       "      <td>48.0</td>\n",
       "      <td>59.0</td>\n",
       "      <td>69.0</td>\n",
       "      <td>74.0</td>\n",
       "      <td>29.0</td>\n",
       "      <td>NaN</td>\n",
       "      <td>NaN</td>\n",
       "      <td>NaN</td>\n",
       "      <td>NaN</td>\n",
       "      <td>NaN</td>\n",
       "    </tr>\n",
       "    <tr>\n",
       "      <th>2011-06-01</th>\n",
       "      <td>238.0</td>\n",
       "      <td>46.0</td>\n",
       "      <td>43.0</td>\n",
       "      <td>62.0</td>\n",
       "      <td>57.0</td>\n",
       "      <td>80.0</td>\n",
       "      <td>25.0</td>\n",
       "      <td>NaN</td>\n",
       "      <td>NaN</td>\n",
       "      <td>NaN</td>\n",
       "      <td>NaN</td>\n",
       "      <td>NaN</td>\n",
       "      <td>NaN</td>\n",
       "    </tr>\n",
       "    <tr>\n",
       "      <th>2011-07-01</th>\n",
       "      <td>192.0</td>\n",
       "      <td>39.0</td>\n",
       "      <td>38.0</td>\n",
       "      <td>45.0</td>\n",
       "      <td>55.0</td>\n",
       "      <td>21.0</td>\n",
       "      <td>NaN</td>\n",
       "      <td>NaN</td>\n",
       "      <td>NaN</td>\n",
       "      <td>NaN</td>\n",
       "      <td>NaN</td>\n",
       "      <td>NaN</td>\n",
       "      <td>NaN</td>\n",
       "    </tr>\n",
       "    <tr>\n",
       "      <th>2011-08-01</th>\n",
       "      <td>166.0</td>\n",
       "      <td>38.0</td>\n",
       "      <td>41.0</td>\n",
       "      <td>41.0</td>\n",
       "      <td>23.0</td>\n",
       "      <td>NaN</td>\n",
       "      <td>NaN</td>\n",
       "      <td>NaN</td>\n",
       "      <td>NaN</td>\n",
       "      <td>NaN</td>\n",
       "      <td>NaN</td>\n",
       "      <td>NaN</td>\n",
       "      <td>NaN</td>\n",
       "    </tr>\n",
       "    <tr>\n",
       "      <th>2011-09-01</th>\n",
       "      <td>298.0</td>\n",
       "      <td>86.0</td>\n",
       "      <td>97.0</td>\n",
       "      <td>34.0</td>\n",
       "      <td>NaN</td>\n",
       "      <td>NaN</td>\n",
       "      <td>NaN</td>\n",
       "      <td>NaN</td>\n",
       "      <td>NaN</td>\n",
       "      <td>NaN</td>\n",
       "      <td>NaN</td>\n",
       "      <td>NaN</td>\n",
       "      <td>NaN</td>\n",
       "    </tr>\n",
       "    <tr>\n",
       "      <th>2011-10-01</th>\n",
       "      <td>352.0</td>\n",
       "      <td>91.0</td>\n",
       "      <td>45.0</td>\n",
       "      <td>NaN</td>\n",
       "      <td>NaN</td>\n",
       "      <td>NaN</td>\n",
       "      <td>NaN</td>\n",
       "      <td>NaN</td>\n",
       "      <td>NaN</td>\n",
       "      <td>NaN</td>\n",
       "      <td>NaN</td>\n",
       "      <td>NaN</td>\n",
       "      <td>NaN</td>\n",
       "    </tr>\n",
       "    <tr>\n",
       "      <th>2011-11-01</th>\n",
       "      <td>323.0</td>\n",
       "      <td>41.0</td>\n",
       "      <td>NaN</td>\n",
       "      <td>NaN</td>\n",
       "      <td>NaN</td>\n",
       "      <td>NaN</td>\n",
       "      <td>NaN</td>\n",
       "      <td>NaN</td>\n",
       "      <td>NaN</td>\n",
       "      <td>NaN</td>\n",
       "      <td>NaN</td>\n",
       "      <td>NaN</td>\n",
       "      <td>NaN</td>\n",
       "    </tr>\n",
       "    <tr>\n",
       "      <th>2011-12-01</th>\n",
       "      <td>39.0</td>\n",
       "      <td>NaN</td>\n",
       "      <td>NaN</td>\n",
       "      <td>NaN</td>\n",
       "      <td>NaN</td>\n",
       "      <td>NaN</td>\n",
       "      <td>NaN</td>\n",
       "      <td>NaN</td>\n",
       "      <td>NaN</td>\n",
       "      <td>NaN</td>\n",
       "      <td>NaN</td>\n",
       "      <td>NaN</td>\n",
       "      <td>NaN</td>\n",
       "    </tr>\n",
       "  </tbody>\n",
       "</table>\n",
       "</div>"
      ],
      "text/plain": [
       "CohortIndex     1      2      3      4      5      6      7      8      9   \\\n",
       "CohortMonth                                                                  \n",
       "2010-12-01   929.0  350.0  297.0  353.0  332.0  367.0  351.0  322.0  325.0   \n",
       "2011-01-01   422.0  102.0  120.0  104.0  141.0  122.0  113.0  109.0  132.0   \n",
       "2011-02-01   377.0   91.0   72.0  101.0  102.0   91.0   95.0  101.0   97.0   \n",
       "2011-03-01   441.0   81.0  110.0   93.0  101.0   76.0  113.0  103.0  125.0   \n",
       "2011-04-01   298.0   67.0   65.0   60.0   61.0   71.0   69.0   78.0   23.0   \n",
       "2011-05-01   278.0   60.0   48.0   48.0   59.0   69.0   74.0   29.0    NaN   \n",
       "2011-06-01   238.0   46.0   43.0   62.0   57.0   80.0   25.0    NaN    NaN   \n",
       "2011-07-01   192.0   39.0   38.0   45.0   55.0   21.0    NaN    NaN    NaN   \n",
       "2011-08-01   166.0   38.0   41.0   41.0   23.0    NaN    NaN    NaN    NaN   \n",
       "2011-09-01   298.0   86.0   97.0   34.0    NaN    NaN    NaN    NaN    NaN   \n",
       "2011-10-01   352.0   91.0   45.0    NaN    NaN    NaN    NaN    NaN    NaN   \n",
       "2011-11-01   323.0   41.0    NaN    NaN    NaN    NaN    NaN    NaN    NaN   \n",
       "2011-12-01    39.0    NaN    NaN    NaN    NaN    NaN    NaN    NaN    NaN   \n",
       "\n",
       "CohortIndex     10     11     12     13  \n",
       "CohortMonth                              \n",
       "2010-12-01   361.0  344.0  460.0  248.0  \n",
       "2011-01-01   148.0  157.0   66.0    NaN  \n",
       "2011-02-01   117.0   32.0    NaN    NaN  \n",
       "2011-03-01    37.0    NaN    NaN    NaN  \n",
       "2011-04-01     NaN    NaN    NaN    NaN  \n",
       "2011-05-01     NaN    NaN    NaN    NaN  \n",
       "2011-06-01     NaN    NaN    NaN    NaN  \n",
       "2011-07-01     NaN    NaN    NaN    NaN  \n",
       "2011-08-01     NaN    NaN    NaN    NaN  \n",
       "2011-09-01     NaN    NaN    NaN    NaN  \n",
       "2011-10-01     NaN    NaN    NaN    NaN  \n",
       "2011-11-01     NaN    NaN    NaN    NaN  \n",
       "2011-12-01     NaN    NaN    NaN    NaN  "
      ]
     },
     "execution_count": 31,
     "metadata": {},
     "output_type": "execute_result"
    }
   ],
   "source": [
    "counts"
   ]
  },
  {
   "cell_type": "code",
   "execution_count": 32,
   "id": "070981d9",
   "metadata": {},
   "outputs": [],
   "source": [
    "import seaborn as sns\n",
    "import matplotlib.pyplot as plt"
   ]
  },
  {
   "cell_type": "code",
   "execution_count": 33,
   "id": "fbd9094d",
   "metadata": {},
   "outputs": [
    {
     "data": {
      "image/png": "[encoded data removed]",
      "text/plain": [
       "<Figure size 1080x720 with 2 Axes>"
      ]
     },
     "metadata": {
      "needs_background": "light"
     },
     "output_type": "display_data"
    }
   ],
   "source": [
    "plt.figure(figsize =(15,10))\n",
    "sns.heatmap(data = retention, annot = True , fmt = '0.1f', cmap = 'BuGn')\n",
    "plt.show()"
   ]
  },
  {
   "cell_type": "markdown",
   "id": "20c8cc66",
   "metadata": {},
   "source": [
    "## Building and RFM Model (Recency, Frequency and Monetary) "
   ]
  },
  {
   "cell_type": "markdown",
   "id": "afb4cf2a",
   "metadata": {},
   "source": [
    "#### Recency is the time in no. of days since last transaction\n",
    "#### Frequency is  count of purchases done \n",
    "#### Monetary value  is total amount spend "
   ]
  },
  {
   "cell_type": "code",
   "execution_count": 34,
   "id": "5eb87ebd",
   "metadata": {},
   "outputs": [],
   "source": [
    "df['Total_sum'] = df['UnitPrice'] * df['Quantity']"
   ]
  },
  {
   "cell_type": "code",
   "execution_count": 35,
   "id": "7d952884",
   "metadata": {},
   "outputs": [
    {
     "data": {
      "text/html": [
       "<div>\n",
       "<style scoped>\n",
       "    .dataframe tbody tr th:only-of-type {\n",
       "        vertical-align: middle;\n",
       "    }\n",
       "\n",
       "    .dataframe tbody tr th {\n",
       "        vertical-align: top;\n",
       "    }\n",
       "\n",
       "    .dataframe thead th {\n",
       "        text-align: right;\n",
       "    }\n",
       "</style>\n",
       "<table border=\"1\" class=\"dataframe\">\n",
       "  <thead>\n",
       "    <tr style=\"text-align: right;\">\n",
       "      <th></th>\n",
       "      <th>InvoiceNo</th>\n",
       "      <th>StockCode</th>\n",
       "      <th>Description</th>\n",
       "      <th>Quantity</th>\n",
       "      <th>InvoiceDate</th>\n",
       "      <th>UnitPrice</th>\n",
       "      <th>CustomerID</th>\n",
       "      <th>Country</th>\n",
       "      <th>month</th>\n",
       "      <th>InvoiceMonth</th>\n",
       "      <th>CohortMonth</th>\n",
       "      <th>CohortIndex</th>\n",
       "      <th>Total_sum</th>\n",
       "    </tr>\n",
       "  </thead>\n",
       "  <tbody>\n",
       "    <tr>\n",
       "      <th>1</th>\n",
       "      <td>556072</td>\n",
       "      <td>20970</td>\n",
       "      <td>PINK FLORAL FELTCRAFT SHOULDER BAG</td>\n",
       "      <td>8</td>\n",
       "      <td>2011-06-08 14:57:00</td>\n",
       "      <td>3.75</td>\n",
       "      <td>16126.0</td>\n",
       "      <td>United Kingdom</td>\n",
       "      <td>June</td>\n",
       "      <td>2011-06-01</td>\n",
       "      <td>2011-02-01</td>\n",
       "      <td>5</td>\n",
       "      <td>30.00</td>\n",
       "    </tr>\n",
       "    <tr>\n",
       "      <th>2</th>\n",
       "      <td>551739</td>\n",
       "      <td>21559</td>\n",
       "      <td>STRAWBERRY LUNCH BOX WITH CUTLERY</td>\n",
       "      <td>2</td>\n",
       "      <td>2011-05-04 10:58:00</td>\n",
       "      <td>2.55</td>\n",
       "      <td>18118.0</td>\n",
       "      <td>United Kingdom</td>\n",
       "      <td>May</td>\n",
       "      <td>2011-05-01</td>\n",
       "      <td>2010-12-01</td>\n",
       "      <td>6</td>\n",
       "      <td>5.10</td>\n",
       "    </tr>\n",
       "    <tr>\n",
       "      <th>3</th>\n",
       "      <td>541658</td>\n",
       "      <td>21988</td>\n",
       "      <td>PACK OF 6 SKULL PAPER PLATES</td>\n",
       "      <td>1</td>\n",
       "      <td>2011-01-20 12:16:00</td>\n",
       "      <td>0.85</td>\n",
       "      <td>15529.0</td>\n",
       "      <td>United Kingdom</td>\n",
       "      <td>January</td>\n",
       "      <td>2011-01-01</td>\n",
       "      <td>2010-12-01</td>\n",
       "      <td>2</td>\n",
       "      <td>0.85</td>\n",
       "    </tr>\n",
       "    <tr>\n",
       "      <th>4</th>\n",
       "      <td>538364</td>\n",
       "      <td>85099C</td>\n",
       "      <td>JUMBO  BAG BAROQUE BLACK WHITE</td>\n",
       "      <td>10</td>\n",
       "      <td>2010-12-10 17:26:00</td>\n",
       "      <td>1.95</td>\n",
       "      <td>14448.0</td>\n",
       "      <td>United Kingdom</td>\n",
       "      <td>December</td>\n",
       "      <td>2010-12-01</td>\n",
       "      <td>2010-12-01</td>\n",
       "      <td>1</td>\n",
       "      <td>19.50</td>\n",
       "    </tr>\n",
       "    <tr>\n",
       "      <th>5</th>\n",
       "      <td>552306</td>\n",
       "      <td>84789</td>\n",
       "      <td>ENCHANTED BIRD PLANT CAGE</td>\n",
       "      <td>4</td>\n",
       "      <td>2011-05-08 15:20:00</td>\n",
       "      <td>3.75</td>\n",
       "      <td>13911.0</td>\n",
       "      <td>United Kingdom</td>\n",
       "      <td>May</td>\n",
       "      <td>2011-05-01</td>\n",
       "      <td>2011-02-01</td>\n",
       "      <td>4</td>\n",
       "      <td>15.00</td>\n",
       "    </tr>\n",
       "  </tbody>\n",
       "</table>\n",
       "</div>"
      ],
      "text/plain": [
       "  InvoiceNo StockCode                         Description  Quantity  \\\n",
       "1    556072     20970  PINK FLORAL FELTCRAFT SHOULDER BAG         8   \n",
       "2    551739     21559   STRAWBERRY LUNCH BOX WITH CUTLERY         2   \n",
       "3    541658     21988        PACK OF 6 SKULL PAPER PLATES         1   \n",
       "4    538364    85099C      JUMBO  BAG BAROQUE BLACK WHITE        10   \n",
       "5    552306     84789           ENCHANTED BIRD PLANT CAGE         4   \n",
       "\n",
       "          InvoiceDate  UnitPrice CustomerID         Country     month  \\\n",
       "1 2011-06-08 14:57:00       3.75    16126.0  United Kingdom      June   \n",
       "2 2011-05-04 10:58:00       2.55    18118.0  United Kingdom       May   \n",
       "3 2011-01-20 12:16:00       0.85    15529.0  United Kingdom   January   \n",
       "4 2010-12-10 17:26:00       1.95    14448.0  United Kingdom  December   \n",
       "5 2011-05-08 15:20:00       3.75    13911.0  United Kingdom       May   \n",
       "\n",
       "  InvoiceMonth CohortMonth  CohortIndex  Total_sum  \n",
       "1   2011-06-01  2011-02-01            5      30.00  \n",
       "2   2011-05-01  2010-12-01            6       5.10  \n",
       "3   2011-01-01  2010-12-01            2       0.85  \n",
       "4   2010-12-01  2010-12-01            1      19.50  \n",
       "5   2011-05-01  2011-02-01            4      15.00  "
      ]
     },
     "execution_count": 35,
     "metadata": {},
     "output_type": "execute_result"
    }
   ],
   "source": [
    "df.head()"
   ]
  },
  {
   "cell_type": "code",
   "execution_count": 36,
   "id": "1869d8cd",
   "metadata": {},
   "outputs": [],
   "source": [
    "df.to_csv('Retail_data.csv')"
   ]
  },
  {
   "cell_type": "code",
   "execution_count": 37,
   "id": "d0b712c1",
   "metadata": {},
   "outputs": [],
   "source": [
    "## For recency we will consider the date of analysis as the date which is 1 day more than the last transaction date.\n",
    "## Most Recent customers will be those whose Recency number is less.\n",
    "## Also the frequency of the customer will show that whether the customer is regular or not.\n",
    "## The customer with less Recency number and more frequency can be called as regular customer of the store till the \n",
    "##last date of transaction.\n",
    "## The customer with high monetary value is also the valuable customer as he has contrinuted more for the earning of the store."
   ]
  },
  {
   "cell_type": "code",
   "execution_count": 38,
   "id": "21bd2fa7",
   "metadata": {},
   "outputs": [],
   "source": [
    "date_of_analysis = df.InvoiceDate.max().date() + dt.timedelta(days=1)"
   ]
  },
  {
   "cell_type": "code",
   "execution_count": 39,
   "id": "17838bcd",
   "metadata": {},
   "outputs": [],
   "source": [
    "rfm = df.groupby('CustomerID').agg({'InvoiceDate':lambda x: (date_of_analysis - x.max().date()).days, \n",
    "                                       'InvoiceNo':'count',\n",
    "                                       'Total_sum':'sum'})\n",
    "rfm.rename(columns = {'InvoiceDate':'Recency','InvoiceNo':'Frequency', 'Total_sum':'MonetaryValue'}, inplace = True)"
   ]
  },
  {
   "cell_type": "code",
   "execution_count": 40,
   "id": "5a8ae2e3",
   "metadata": {},
   "outputs": [
    {
     "data": {
      "text/html": [
       "<div>\n",
       "<style scoped>\n",
       "    .dataframe tbody tr th:only-of-type {\n",
       "        vertical-align: middle;\n",
       "    }\n",
       "\n",
       "    .dataframe tbody tr th {\n",
       "        vertical-align: top;\n",
       "    }\n",
       "\n",
       "    .dataframe thead th {\n",
       "        text-align: right;\n",
       "    }\n",
       "</style>\n",
       "<table border=\"1\" class=\"dataframe\">\n",
       "  <thead>\n",
       "    <tr style=\"text-align: right;\">\n",
       "      <th></th>\n",
       "      <th>Recency</th>\n",
       "      <th>Frequency</th>\n",
       "      <th>MonetaryValue</th>\n",
       "    </tr>\n",
       "    <tr>\n",
       "      <th>CustomerID</th>\n",
       "      <th></th>\n",
       "      <th></th>\n",
       "      <th></th>\n",
       "    </tr>\n",
       "  </thead>\n",
       "  <tbody>\n",
       "    <tr>\n",
       "      <th>12346.0</th>\n",
       "      <td>326</td>\n",
       "      <td>2</td>\n",
       "      <td>0.00</td>\n",
       "    </tr>\n",
       "    <tr>\n",
       "      <th>12347.0</th>\n",
       "      <td>3</td>\n",
       "      <td>132</td>\n",
       "      <td>3124.96</td>\n",
       "    </tr>\n",
       "    <tr>\n",
       "      <th>12348.0</th>\n",
       "      <td>76</td>\n",
       "      <td>20</td>\n",
       "      <td>1009.88</td>\n",
       "    </tr>\n",
       "    <tr>\n",
       "      <th>12349.0</th>\n",
       "      <td>19</td>\n",
       "      <td>50</td>\n",
       "      <td>1344.17</td>\n",
       "    </tr>\n",
       "    <tr>\n",
       "      <th>12350.0</th>\n",
       "      <td>311</td>\n",
       "      <td>11</td>\n",
       "      <td>213.30</td>\n",
       "    </tr>\n",
       "  </tbody>\n",
       "</table>\n",
       "</div>"
      ],
      "text/plain": [
       "            Recency  Frequency  MonetaryValue\n",
       "CustomerID                                   \n",
       "12346.0         326          2           0.00\n",
       "12347.0           3        132        3124.96\n",
       "12348.0          76         20        1009.88\n",
       "12349.0          19         50        1344.17\n",
       "12350.0         311         11         213.30"
      ]
     },
     "execution_count": 40,
     "metadata": {},
     "output_type": "execute_result"
    }
   ],
   "source": [
    "rfm.head()"
   ]
  },
  {
   "cell_type": "markdown",
   "id": "c6732369",
   "metadata": {},
   "source": [
    "## Build RFM Segments"
   ]
  },
  {
   "cell_type": "markdown",
   "id": "c7a29eac",
   "metadata": {},
   "source": [
    "#### Give ratings to customers by dividing recency , frequency and Monetary vlaues into quartiles.\n",
    "#### Combine all three ratings to get RFM segments based on combined rating.\n",
    "#### Getting RFM score by combinig three ratings. "
   ]
  },
  {
   "cell_type": "code",
   "execution_count": 41,
   "id": "ae6edc3d",
   "metadata": {},
   "outputs": [
    {
     "data": {
      "text/html": [
       "<div>\n",
       "<style scoped>\n",
       "    .dataframe tbody tr th:only-of-type {\n",
       "        vertical-align: middle;\n",
       "    }\n",
       "\n",
       "    .dataframe tbody tr th {\n",
       "        vertical-align: top;\n",
       "    }\n",
       "\n",
       "    .dataframe thead th {\n",
       "        text-align: right;\n",
       "    }\n",
       "</style>\n",
       "<table border=\"1\" class=\"dataframe\">\n",
       "  <thead>\n",
       "    <tr style=\"text-align: right;\">\n",
       "      <th></th>\n",
       "      <th>Recency</th>\n",
       "      <th>Frequency</th>\n",
       "      <th>MonetaryValue</th>\n",
       "    </tr>\n",
       "  </thead>\n",
       "  <tbody>\n",
       "    <tr>\n",
       "      <th>count</th>\n",
       "      <td>4353.000000</td>\n",
       "      <td>4353.000000</td>\n",
       "      <td>4353.000000</td>\n",
       "    </tr>\n",
       "    <tr>\n",
       "      <th>mean</th>\n",
       "      <td>93.196187</td>\n",
       "      <td>64.879394</td>\n",
       "      <td>1325.708170</td>\n",
       "    </tr>\n",
       "    <tr>\n",
       "      <th>std</th>\n",
       "      <td>101.155969</td>\n",
       "      <td>161.444665</td>\n",
       "      <td>5550.920007</td>\n",
       "    </tr>\n",
       "    <tr>\n",
       "      <th>min</th>\n",
       "      <td>1.000000</td>\n",
       "      <td>1.000000</td>\n",
       "      <td>-4287.630000</td>\n",
       "    </tr>\n",
       "    <tr>\n",
       "      <th>25%</th>\n",
       "      <td>18.000000</td>\n",
       "      <td>12.000000</td>\n",
       "      <td>200.770000</td>\n",
       "    </tr>\n",
       "    <tr>\n",
       "      <th>50%</th>\n",
       "      <td>51.000000</td>\n",
       "      <td>29.000000</td>\n",
       "      <td>457.100000</td>\n",
       "    </tr>\n",
       "    <tr>\n",
       "      <th>75%</th>\n",
       "      <td>145.000000</td>\n",
       "      <td>71.000000</td>\n",
       "      <td>1136.800000</td>\n",
       "    </tr>\n",
       "    <tr>\n",
       "      <th>max</th>\n",
       "      <td>374.000000</td>\n",
       "      <td>5511.000000</td>\n",
       "      <td>190309.320000</td>\n",
       "    </tr>\n",
       "  </tbody>\n",
       "</table>\n",
       "</div>"
      ],
      "text/plain": [
       "           Recency    Frequency  MonetaryValue\n",
       "count  4353.000000  4353.000000    4353.000000\n",
       "mean     93.196187    64.879394    1325.708170\n",
       "std     101.155969   161.444665    5550.920007\n",
       "min       1.000000     1.000000   -4287.630000\n",
       "25%      18.000000    12.000000     200.770000\n",
       "50%      51.000000    29.000000     457.100000\n",
       "75%     145.000000    71.000000    1136.800000\n",
       "max     374.000000  5511.000000  190309.320000"
      ]
     },
     "execution_count": 41,
     "metadata": {},
     "output_type": "execute_result"
    }
   ],
   "source": [
    "rfm.describe()"
   ]
  },
  {
   "cell_type": "markdown",
   "id": "5be51ae8",
   "metadata": {},
   "source": [
    "#### From the descriptive statistics it can be seen that the all the columns of rfm data are positively skewed. This can be known by the fact that 50% quartile (median) is less than the mean. We will not remove the outliers as the customers with higher value of rfm metrics are important for our analysis"
   ]
  },
  {
   "cell_type": "markdown",
   "id": "fe2db7f0",
   "metadata": {},
   "source": [
    "#### for recency lower value is better \n",
    "#### for frequency and Monetary higher value is better"
   ]
  },
  {
   "cell_type": "code",
   "execution_count": 42,
   "id": "d3e78e29",
   "metadata": {},
   "outputs": [],
   "source": [
    "rfm['R']=pd.qcut(rfm['Recency'],q=4,labels=range(4,0,-1))\n",
    "rfm['F']=pd.qcut(rfm['Frequency'],q=4,labels=range(1,5))\n",
    "rfm['M']=pd.qcut(rfm['MonetaryValue'],q=4,labels=range(1,5))"
   ]
  },
  {
   "cell_type": "code",
   "execution_count": 43,
   "id": "985b3222",
   "metadata": {},
   "outputs": [
    {
     "data": {
      "text/html": [
       "<div>\n",
       "<style scoped>\n",
       "    .dataframe tbody tr th:only-of-type {\n",
       "        vertical-align: middle;\n",
       "    }\n",
       "\n",
       "    .dataframe tbody tr th {\n",
       "        vertical-align: top;\n",
       "    }\n",
       "\n",
       "    .dataframe thead th {\n",
       "        text-align: right;\n",
       "    }\n",
       "</style>\n",
       "<table border=\"1\" class=\"dataframe\">\n",
       "  <thead>\n",
       "    <tr style=\"text-align: right;\">\n",
       "      <th></th>\n",
       "      <th>Recency</th>\n",
       "      <th>Frequency</th>\n",
       "      <th>MonetaryValue</th>\n",
       "      <th>R</th>\n",
       "      <th>F</th>\n",
       "      <th>M</th>\n",
       "    </tr>\n",
       "    <tr>\n",
       "      <th>CustomerID</th>\n",
       "      <th></th>\n",
       "      <th></th>\n",
       "      <th></th>\n",
       "      <th></th>\n",
       "      <th></th>\n",
       "      <th></th>\n",
       "    </tr>\n",
       "  </thead>\n",
       "  <tbody>\n",
       "    <tr>\n",
       "      <th>12346.0</th>\n",
       "      <td>326</td>\n",
       "      <td>2</td>\n",
       "      <td>0.00</td>\n",
       "      <td>1</td>\n",
       "      <td>1</td>\n",
       "      <td>1</td>\n",
       "    </tr>\n",
       "    <tr>\n",
       "      <th>12347.0</th>\n",
       "      <td>3</td>\n",
       "      <td>132</td>\n",
       "      <td>3124.96</td>\n",
       "      <td>4</td>\n",
       "      <td>4</td>\n",
       "      <td>4</td>\n",
       "    </tr>\n",
       "    <tr>\n",
       "      <th>12348.0</th>\n",
       "      <td>76</td>\n",
       "      <td>20</td>\n",
       "      <td>1009.88</td>\n",
       "      <td>2</td>\n",
       "      <td>2</td>\n",
       "      <td>3</td>\n",
       "    </tr>\n",
       "    <tr>\n",
       "      <th>12349.0</th>\n",
       "      <td>19</td>\n",
       "      <td>50</td>\n",
       "      <td>1344.17</td>\n",
       "      <td>3</td>\n",
       "      <td>3</td>\n",
       "      <td>4</td>\n",
       "    </tr>\n",
       "    <tr>\n",
       "      <th>12350.0</th>\n",
       "      <td>311</td>\n",
       "      <td>11</td>\n",
       "      <td>213.30</td>\n",
       "      <td>1</td>\n",
       "      <td>1</td>\n",
       "      <td>2</td>\n",
       "    </tr>\n",
       "    <tr>\n",
       "      <th>12352.0</th>\n",
       "      <td>37</td>\n",
       "      <td>65</td>\n",
       "      <td>1469.03</td>\n",
       "      <td>3</td>\n",
       "      <td>3</td>\n",
       "      <td>4</td>\n",
       "    </tr>\n",
       "    <tr>\n",
       "      <th>12353.0</th>\n",
       "      <td>205</td>\n",
       "      <td>3</td>\n",
       "      <td>71.30</td>\n",
       "      <td>1</td>\n",
       "      <td>1</td>\n",
       "      <td>1</td>\n",
       "    </tr>\n",
       "    <tr>\n",
       "      <th>12354.0</th>\n",
       "      <td>233</td>\n",
       "      <td>47</td>\n",
       "      <td>848.02</td>\n",
       "      <td>1</td>\n",
       "      <td>3</td>\n",
       "      <td>3</td>\n",
       "    </tr>\n",
       "    <tr>\n",
       "      <th>12355.0</th>\n",
       "      <td>215</td>\n",
       "      <td>9</td>\n",
       "      <td>370.80</td>\n",
       "      <td>1</td>\n",
       "      <td>1</td>\n",
       "      <td>2</td>\n",
       "    </tr>\n",
       "    <tr>\n",
       "      <th>12356.0</th>\n",
       "      <td>23</td>\n",
       "      <td>46</td>\n",
       "      <td>2080.18</td>\n",
       "      <td>3</td>\n",
       "      <td>3</td>\n",
       "      <td>4</td>\n",
       "    </tr>\n",
       "  </tbody>\n",
       "</table>\n",
       "</div>"
      ],
      "text/plain": [
       "            Recency  Frequency  MonetaryValue  R  F  M\n",
       "CustomerID                                            \n",
       "12346.0         326          2           0.00  1  1  1\n",
       "12347.0           3        132        3124.96  4  4  4\n",
       "12348.0          76         20        1009.88  2  2  3\n",
       "12349.0          19         50        1344.17  3  3  4\n",
       "12350.0         311         11         213.30  1  1  2\n",
       "12352.0          37         65        1469.03  3  3  4\n",
       "12353.0         205          3          71.30  1  1  1\n",
       "12354.0         233         47         848.02  1  3  3\n",
       "12355.0         215          9         370.80  1  1  2\n",
       "12356.0          23         46        2080.18  3  3  4"
      ]
     },
     "execution_count": 43,
     "metadata": {},
     "output_type": "execute_result"
    }
   ],
   "source": [
    "rfm.head(10)"
   ]
  },
  {
   "cell_type": "code",
   "execution_count": 44,
   "id": "376864aa",
   "metadata": {},
   "outputs": [],
   "source": [
    "## create a combined rfm segemnt by combinnig the labels of the three segments\n",
    "rfm['RFM_segment'] = rfm.R.astype('str') + rfm.F.astype('str') + rfm.M.astype('str')"
   ]
  },
  {
   "cell_type": "code",
   "execution_count": 45,
   "id": "03cf21e0",
   "metadata": {},
   "outputs": [],
   "source": [
    "## create a column by giving RFM score as sum of the labes\n",
    "rfm['RFM_Score'] = rfm[['R','F','M']].sum(axis = 1)"
   ]
  },
  {
   "cell_type": "code",
   "execution_count": 46,
   "id": "b670f0e7",
   "metadata": {},
   "outputs": [
    {
     "data": {
      "text/plain": [
       "(4353, 8)"
      ]
     },
     "execution_count": 46,
     "metadata": {},
     "output_type": "execute_result"
    }
   ],
   "source": [
    "rfm.head(10)\n",
    "rfm.shape"
   ]
  },
  {
   "cell_type": "code",
   "execution_count": 47,
   "id": "469abc6b",
   "metadata": {},
   "outputs": [
    {
     "data": {
      "text/plain": [
       "444    467\n",
       "111    392\n",
       "344    206\n",
       "122    188\n",
       "211    181\n",
       "      ... \n",
       "314      8\n",
       "142      6\n",
       "124      5\n",
       "414      4\n",
       "241      1\n",
       "Name: RFM_segment, Length: 61, dtype: int64"
      ]
     },
     "execution_count": 47,
     "metadata": {},
     "output_type": "execute_result"
    }
   ],
   "source": [
    "rfm.RFM_segment.value_counts()"
   ]
  },
  {
   "cell_type": "code",
   "execution_count": 48,
   "id": "d1afbb3d",
   "metadata": {},
   "outputs": [
    {
     "data": {
      "text/plain": [
       "444    467\n",
       "111    392\n",
       "344    206\n",
       "122    188\n",
       "211    181\n",
       "Name: RFM_segment, dtype: int64"
      ]
     },
     "execution_count": 48,
     "metadata": {},
     "output_type": "execute_result"
    }
   ],
   "source": [
    "## Analyze the segments: To find the rfm segments in which the number of customers are higher\n",
    "rfm.RFM_segment.value_counts().sort_values(ascending=False).head(5)"
   ]
  },
  {
   "cell_type": "markdown",
   "id": "6d6d3314",
   "metadata": {},
   "source": [
    "#### Out of 4353 Customers 392 customers were of lowest value that is they bought the order many days before and only once and also the purchase cost was less\n",
    "#### Out of 4353 Customers 467 Customers were of highest value that is they bought the order most recently, had more number of orders and purchase was valuable too."
   ]
  },
  {
   "cell_type": "code",
   "execution_count": 49,
   "id": "52c8db0d",
   "metadata": {},
   "outputs": [],
   "source": [
    "rfm_analysis = rfm.groupby('RFM_Score').mean().round(2)\n",
    "rfm_analysis.insert(0,'size',rfm.groupby('RFM_Score').size())"
   ]
  },
  {
   "cell_type": "code",
   "execution_count": 50,
   "id": "b08cc2e9",
   "metadata": {},
   "outputs": [
    {
     "data": {
      "text/html": [
       "<div>\n",
       "<style scoped>\n",
       "    .dataframe tbody tr th:only-of-type {\n",
       "        vertical-align: middle;\n",
       "    }\n",
       "\n",
       "    .dataframe tbody tr th {\n",
       "        vertical-align: top;\n",
       "    }\n",
       "\n",
       "    .dataframe thead th {\n",
       "        text-align: right;\n",
       "    }\n",
       "</style>\n",
       "<table border=\"1\" class=\"dataframe\">\n",
       "  <thead>\n",
       "    <tr style=\"text-align: right;\">\n",
       "      <th></th>\n",
       "      <th>size</th>\n",
       "      <th>Recency</th>\n",
       "      <th>Frequency</th>\n",
       "      <th>MonetaryValue</th>\n",
       "    </tr>\n",
       "    <tr>\n",
       "      <th>RFM_Score</th>\n",
       "      <th></th>\n",
       "      <th></th>\n",
       "      <th></th>\n",
       "      <th></th>\n",
       "    </tr>\n",
       "  </thead>\n",
       "  <tbody>\n",
       "    <tr>\n",
       "      <th>3</th>\n",
       "      <td>392</td>\n",
       "      <td>265.71</td>\n",
       "      <td>5.66</td>\n",
       "      <td>85.09</td>\n",
       "    </tr>\n",
       "    <tr>\n",
       "      <th>4</th>\n",
       "      <td>398</td>\n",
       "      <td>181.35</td>\n",
       "      <td>9.89</td>\n",
       "      <td>145.79</td>\n",
       "    </tr>\n",
       "    <tr>\n",
       "      <th>5</th>\n",
       "      <td>504</td>\n",
       "      <td>146.12</td>\n",
       "      <td>14.46</td>\n",
       "      <td>232.70</td>\n",
       "    </tr>\n",
       "    <tr>\n",
       "      <th>6</th>\n",
       "      <td>452</td>\n",
       "      <td>101.17</td>\n",
       "      <td>20.12</td>\n",
       "      <td>369.67</td>\n",
       "    </tr>\n",
       "    <tr>\n",
       "      <th>7</th>\n",
       "      <td>434</td>\n",
       "      <td>81.38</td>\n",
       "      <td>27.78</td>\n",
       "      <td>501.02</td>\n",
       "    </tr>\n",
       "    <tr>\n",
       "      <th>8</th>\n",
       "      <td>497</td>\n",
       "      <td>61.69</td>\n",
       "      <td>39.45</td>\n",
       "      <td>667.17</td>\n",
       "    </tr>\n",
       "    <tr>\n",
       "      <th>9</th>\n",
       "      <td>392</td>\n",
       "      <td>47.45</td>\n",
       "      <td>55.96</td>\n",
       "      <td>974.53</td>\n",
       "    </tr>\n",
       "    <tr>\n",
       "      <th>10</th>\n",
       "      <td>443</td>\n",
       "      <td>31.78</td>\n",
       "      <td>78.76</td>\n",
       "      <td>1311.87</td>\n",
       "    </tr>\n",
       "    <tr>\n",
       "      <th>11</th>\n",
       "      <td>374</td>\n",
       "      <td>20.97</td>\n",
       "      <td>133.49</td>\n",
       "      <td>2646.95</td>\n",
       "    </tr>\n",
       "    <tr>\n",
       "      <th>12</th>\n",
       "      <td>467</td>\n",
       "      <td>7.45</td>\n",
       "      <td>260.11</td>\n",
       "      <td>6194.62</td>\n",
       "    </tr>\n",
       "  </tbody>\n",
       "</table>\n",
       "</div>"
      ],
      "text/plain": [
       "           size  Recency  Frequency  MonetaryValue\n",
       "RFM_Score                                         \n",
       "3           392   265.71       5.66          85.09\n",
       "4           398   181.35       9.89         145.79\n",
       "5           504   146.12      14.46         232.70\n",
       "6           452   101.17      20.12         369.67\n",
       "7           434    81.38      27.78         501.02\n",
       "8           497    61.69      39.45         667.17\n",
       "9           392    47.45      55.96         974.53\n",
       "10          443    31.78      78.76        1311.87\n",
       "11          374    20.97     133.49        2646.95\n",
       "12          467     7.45     260.11        6194.62"
      ]
     },
     "execution_count": 50,
     "metadata": {},
     "output_type": "execute_result"
    }
   ],
   "source": [
    "rfm_analysis"
   ]
  },
  {
   "cell_type": "code",
   "execution_count": 51,
   "id": "c4949600",
   "metadata": {},
   "outputs": [],
   "source": [
    "## Group RFM customers into Customer Segments : Silver Gold Platinum based on total RFM_Score :\n",
    "def seg(Score):\n",
    "    if Score >= 10:\n",
    "        return 'Platinum'\n",
    "    elif Score >= 7:\n",
    "        return 'Gold'\n",
    "    else :\n",
    "        return 'Silver'\n",
    "rfm['Cust_Seg'] = rfm.RFM_Score.apply(seg)"
   ]
  },
  {
   "cell_type": "code",
   "execution_count": 52,
   "id": "72d40c77",
   "metadata": {},
   "outputs": [],
   "source": [
    "cust_seg = rfm.groupby('Cust_Seg').mean()\n",
    "cust_seg.insert(0,'size', rfm.groupby('Cust_Seg').size())"
   ]
  },
  {
   "cell_type": "code",
   "execution_count": 53,
   "id": "743bcbd6",
   "metadata": {},
   "outputs": [
    {
     "data": {
      "text/html": [
       "<div>\n",
       "<style scoped>\n",
       "    .dataframe tbody tr th:only-of-type {\n",
       "        vertical-align: middle;\n",
       "    }\n",
       "\n",
       "    .dataframe tbody tr th {\n",
       "        vertical-align: top;\n",
       "    }\n",
       "\n",
       "    .dataframe thead th {\n",
       "        text-align: right;\n",
       "    }\n",
       "</style>\n",
       "<table border=\"1\" class=\"dataframe\">\n",
       "  <thead>\n",
       "    <tr style=\"text-align: right;\">\n",
       "      <th></th>\n",
       "      <th>size</th>\n",
       "      <th>Recency</th>\n",
       "      <th>Frequency</th>\n",
       "      <th>MonetaryValue</th>\n",
       "      <th>RFM_Score</th>\n",
       "    </tr>\n",
       "    <tr>\n",
       "      <th>Cust_Seg</th>\n",
       "      <th></th>\n",
       "      <th></th>\n",
       "      <th></th>\n",
       "      <th></th>\n",
       "      <th></th>\n",
       "    </tr>\n",
       "  </thead>\n",
       "  <tbody>\n",
       "    <tr>\n",
       "      <th>Gold</th>\n",
       "      <td>1323</td>\n",
       "      <td>63.928949</td>\n",
       "      <td>40.515495</td>\n",
       "      <td>703.737016</td>\n",
       "      <td>7.968254</td>\n",
       "    </tr>\n",
       "    <tr>\n",
       "      <th>Platinum</th>\n",
       "      <td>1284</td>\n",
       "      <td>19.783489</td>\n",
       "      <td>160.659657</td>\n",
       "      <td>3476.639315</td>\n",
       "      <td>11.018692</td>\n",
       "    </tr>\n",
       "    <tr>\n",
       "      <th>Silver</th>\n",
       "      <td>1746</td>\n",
       "      <td>169.360252</td>\n",
       "      <td>12.904353</td>\n",
       "      <td>215.211174</td>\n",
       "      <td>4.581901</td>\n",
       "    </tr>\n",
       "  </tbody>\n",
       "</table>\n",
       "</div>"
      ],
      "text/plain": [
       "          size     Recency   Frequency  MonetaryValue  RFM_Score\n",
       "Cust_Seg                                                        \n",
       "Gold      1323   63.928949   40.515495     703.737016   7.968254\n",
       "Platinum  1284   19.783489  160.659657    3476.639315  11.018692\n",
       "Silver    1746  169.360252   12.904353     215.211174   4.581901"
      ]
     },
     "execution_count": 53,
     "metadata": {},
     "output_type": "execute_result"
    }
   ],
   "source": [
    "cust_seg"
   ]
  },
  {
   "cell_type": "markdown",
   "id": "2f285eb5",
   "metadata": {},
   "source": [
    "## Clustering"
   ]
  },
  {
   "cell_type": "code",
   "execution_count": 54,
   "id": "4fe775cc",
   "metadata": {},
   "outputs": [
    {
     "data": {
      "text/html": [
       "<div>\n",
       "<style scoped>\n",
       "    .dataframe tbody tr th:only-of-type {\n",
       "        vertical-align: middle;\n",
       "    }\n",
       "\n",
       "    .dataframe tbody tr th {\n",
       "        vertical-align: top;\n",
       "    }\n",
       "\n",
       "    .dataframe thead th {\n",
       "        text-align: right;\n",
       "    }\n",
       "</style>\n",
       "<table border=\"1\" class=\"dataframe\">\n",
       "  <thead>\n",
       "    <tr style=\"text-align: right;\">\n",
       "      <th></th>\n",
       "      <th>Recency</th>\n",
       "      <th>Frequency</th>\n",
       "      <th>MonetaryValue</th>\n",
       "      <th>R</th>\n",
       "      <th>F</th>\n",
       "      <th>M</th>\n",
       "      <th>RFM_segment</th>\n",
       "      <th>RFM_Score</th>\n",
       "      <th>Cust_Seg</th>\n",
       "    </tr>\n",
       "    <tr>\n",
       "      <th>CustomerID</th>\n",
       "      <th></th>\n",
       "      <th></th>\n",
       "      <th></th>\n",
       "      <th></th>\n",
       "      <th></th>\n",
       "      <th></th>\n",
       "      <th></th>\n",
       "      <th></th>\n",
       "      <th></th>\n",
       "    </tr>\n",
       "  </thead>\n",
       "  <tbody>\n",
       "    <tr>\n",
       "      <th>12346.0</th>\n",
       "      <td>326</td>\n",
       "      <td>2</td>\n",
       "      <td>0.00</td>\n",
       "      <td>1</td>\n",
       "      <td>1</td>\n",
       "      <td>1</td>\n",
       "      <td>111</td>\n",
       "      <td>3</td>\n",
       "      <td>Silver</td>\n",
       "    </tr>\n",
       "    <tr>\n",
       "      <th>12347.0</th>\n",
       "      <td>3</td>\n",
       "      <td>132</td>\n",
       "      <td>3124.96</td>\n",
       "      <td>4</td>\n",
       "      <td>4</td>\n",
       "      <td>4</td>\n",
       "      <td>444</td>\n",
       "      <td>12</td>\n",
       "      <td>Platinum</td>\n",
       "    </tr>\n",
       "    <tr>\n",
       "      <th>12348.0</th>\n",
       "      <td>76</td>\n",
       "      <td>20</td>\n",
       "      <td>1009.88</td>\n",
       "      <td>2</td>\n",
       "      <td>2</td>\n",
       "      <td>3</td>\n",
       "      <td>223</td>\n",
       "      <td>7</td>\n",
       "      <td>Gold</td>\n",
       "    </tr>\n",
       "    <tr>\n",
       "      <th>12349.0</th>\n",
       "      <td>19</td>\n",
       "      <td>50</td>\n",
       "      <td>1344.17</td>\n",
       "      <td>3</td>\n",
       "      <td>3</td>\n",
       "      <td>4</td>\n",
       "      <td>334</td>\n",
       "      <td>10</td>\n",
       "      <td>Platinum</td>\n",
       "    </tr>\n",
       "    <tr>\n",
       "      <th>12350.0</th>\n",
       "      <td>311</td>\n",
       "      <td>11</td>\n",
       "      <td>213.30</td>\n",
       "      <td>1</td>\n",
       "      <td>1</td>\n",
       "      <td>2</td>\n",
       "      <td>112</td>\n",
       "      <td>4</td>\n",
       "      <td>Silver</td>\n",
       "    </tr>\n",
       "  </tbody>\n",
       "</table>\n",
       "</div>"
      ],
      "text/plain": [
       "            Recency  Frequency  MonetaryValue  R  F  M RFM_segment  RFM_Score  \\\n",
       "CustomerID                                                                      \n",
       "12346.0         326          2           0.00  1  1  1         111          3   \n",
       "12347.0           3        132        3124.96  4  4  4         444         12   \n",
       "12348.0          76         20        1009.88  2  2  3         223          7   \n",
       "12349.0          19         50        1344.17  3  3  4         334         10   \n",
       "12350.0         311         11         213.30  1  1  2         112          4   \n",
       "\n",
       "            Cust_Seg  \n",
       "CustomerID            \n",
       "12346.0       Silver  \n",
       "12347.0     Platinum  \n",
       "12348.0         Gold  \n",
       "12349.0     Platinum  \n",
       "12350.0       Silver  "
      ]
     },
     "execution_count": 54,
     "metadata": {},
     "output_type": "execute_result"
    }
   ],
   "source": [
    "rfm.head()"
   ]
  },
  {
   "cell_type": "code",
   "execution_count": 55,
   "id": "e705d49a",
   "metadata": {},
   "outputs": [
    {
     "data": {
      "text/plain": [
       "Index(['Recency', 'Frequency', 'MonetaryValue', 'R', 'F', 'M', 'RFM_segment',\n",
       "       'RFM_Score', 'Cust_Seg'],\n",
       "      dtype='object')"
      ]
     },
     "execution_count": 55,
     "metadata": {},
     "output_type": "execute_result"
    }
   ],
   "source": [
    "rfm.columns"
   ]
  },
  {
   "cell_type": "markdown",
   "id": "521d8274",
   "metadata": {},
   "source": [
    "### Selecting the columns of interest"
   ]
  },
  {
   "cell_type": "code",
   "execution_count": 56,
   "id": "39abe364",
   "metadata": {},
   "outputs": [
    {
     "data": {
      "text/html": [
       "<div>\n",
       "<style scoped>\n",
       "    .dataframe tbody tr th:only-of-type {\n",
       "        vertical-align: middle;\n",
       "    }\n",
       "\n",
       "    .dataframe tbody tr th {\n",
       "        vertical-align: top;\n",
       "    }\n",
       "\n",
       "    .dataframe thead th {\n",
       "        text-align: right;\n",
       "    }\n",
       "</style>\n",
       "<table border=\"1\" class=\"dataframe\">\n",
       "  <thead>\n",
       "    <tr style=\"text-align: right;\">\n",
       "      <th></th>\n",
       "      <th>Recency</th>\n",
       "      <th>Frequency</th>\n",
       "      <th>MonetaryValue</th>\n",
       "      <th>RFM_Score</th>\n",
       "    </tr>\n",
       "    <tr>\n",
       "      <th>CustomerID</th>\n",
       "      <th></th>\n",
       "      <th></th>\n",
       "      <th></th>\n",
       "      <th></th>\n",
       "    </tr>\n",
       "  </thead>\n",
       "  <tbody>\n",
       "    <tr>\n",
       "      <th>12346.0</th>\n",
       "      <td>326</td>\n",
       "      <td>2</td>\n",
       "      <td>0.00</td>\n",
       "      <td>3</td>\n",
       "    </tr>\n",
       "    <tr>\n",
       "      <th>12347.0</th>\n",
       "      <td>3</td>\n",
       "      <td>132</td>\n",
       "      <td>3124.96</td>\n",
       "      <td>12</td>\n",
       "    </tr>\n",
       "    <tr>\n",
       "      <th>12348.0</th>\n",
       "      <td>76</td>\n",
       "      <td>20</td>\n",
       "      <td>1009.88</td>\n",
       "      <td>7</td>\n",
       "    </tr>\n",
       "    <tr>\n",
       "      <th>12349.0</th>\n",
       "      <td>19</td>\n",
       "      <td>50</td>\n",
       "      <td>1344.17</td>\n",
       "      <td>10</td>\n",
       "    </tr>\n",
       "    <tr>\n",
       "      <th>12350.0</th>\n",
       "      <td>311</td>\n",
       "      <td>11</td>\n",
       "      <td>213.30</td>\n",
       "      <td>4</td>\n",
       "    </tr>\n",
       "  </tbody>\n",
       "</table>\n",
       "</div>"
      ],
      "text/plain": [
       "            Recency  Frequency  MonetaryValue  RFM_Score\n",
       "CustomerID                                              \n",
       "12346.0         326          2           0.00          3\n",
       "12347.0           3        132        3124.96         12\n",
       "12348.0          76         20        1009.88          7\n",
       "12349.0          19         50        1344.17         10\n",
       "12350.0         311         11         213.30          4"
      ]
     },
     "execution_count": 56,
     "metadata": {},
     "output_type": "execute_result"
    }
   ],
   "source": [
    "df_clust=rfm.drop(['R', 'F', 'M', 'RFM_segment','Cust_Seg'],axis=1)\n",
    "df_clust.head()"
   ]
  },
  {
   "cell_type": "code",
   "execution_count": 57,
   "id": "4176b21d",
   "metadata": {},
   "outputs": [
    {
     "data": {
      "text/html": [
       "<div>\n",
       "<style scoped>\n",
       "    .dataframe tbody tr th:only-of-type {\n",
       "        vertical-align: middle;\n",
       "    }\n",
       "\n",
       "    .dataframe tbody tr th {\n",
       "        vertical-align: top;\n",
       "    }\n",
       "\n",
       "    .dataframe thead th {\n",
       "        text-align: right;\n",
       "    }\n",
       "</style>\n",
       "<table border=\"1\" class=\"dataframe\">\n",
       "  <thead>\n",
       "    <tr style=\"text-align: right;\">\n",
       "      <th></th>\n",
       "      <th>Recency</th>\n",
       "      <th>Frequency</th>\n",
       "      <th>MonetaryValue</th>\n",
       "      <th>RFM_Score</th>\n",
       "    </tr>\n",
       "    <tr>\n",
       "      <th>CustomerID</th>\n",
       "      <th></th>\n",
       "      <th></th>\n",
       "      <th></th>\n",
       "      <th></th>\n",
       "    </tr>\n",
       "  </thead>\n",
       "  <tbody>\n",
       "    <tr>\n",
       "      <th>12346.0</th>\n",
       "      <td>326</td>\n",
       "      <td>2</td>\n",
       "      <td>0.00</td>\n",
       "      <td>3</td>\n",
       "    </tr>\n",
       "    <tr>\n",
       "      <th>12347.0</th>\n",
       "      <td>3</td>\n",
       "      <td>132</td>\n",
       "      <td>3124.96</td>\n",
       "      <td>12</td>\n",
       "    </tr>\n",
       "    <tr>\n",
       "      <th>12348.0</th>\n",
       "      <td>76</td>\n",
       "      <td>20</td>\n",
       "      <td>1009.88</td>\n",
       "      <td>7</td>\n",
       "    </tr>\n",
       "    <tr>\n",
       "      <th>12349.0</th>\n",
       "      <td>19</td>\n",
       "      <td>50</td>\n",
       "      <td>1344.17</td>\n",
       "      <td>10</td>\n",
       "    </tr>\n",
       "    <tr>\n",
       "      <th>12350.0</th>\n",
       "      <td>311</td>\n",
       "      <td>11</td>\n",
       "      <td>213.30</td>\n",
       "      <td>4</td>\n",
       "    </tr>\n",
       "  </tbody>\n",
       "</table>\n",
       "</div>"
      ],
      "text/plain": [
       "            Recency  Frequency  MonetaryValue  RFM_Score\n",
       "CustomerID                                              \n",
       "12346.0         326          2           0.00          3\n",
       "12347.0           3        132        3124.96         12\n",
       "12348.0          76         20        1009.88          7\n",
       "12349.0          19         50        1344.17         10\n",
       "12350.0         311         11         213.30          4"
      ]
     },
     "execution_count": 57,
     "metadata": {},
     "output_type": "execute_result"
    }
   ],
   "source": [
    "df_clust.head()"
   ]
  },
  {
   "cell_type": "code",
   "execution_count": 105,
   "id": "011a175b",
   "metadata": {},
   "outputs": [
    {
     "data": {
      "text/html": [
       "<div>\n",
       "<style scoped>\n",
       "    .dataframe tbody tr th:only-of-type {\n",
       "        vertical-align: middle;\n",
       "    }\n",
       "\n",
       "    .dataframe tbody tr th {\n",
       "        vertical-align: top;\n",
       "    }\n",
       "\n",
       "    .dataframe thead th {\n",
       "        text-align: right;\n",
       "    }\n",
       "</style>\n",
       "<table border=\"1\" class=\"dataframe\">\n",
       "  <thead>\n",
       "    <tr style=\"text-align: right;\">\n",
       "      <th></th>\n",
       "      <th>Recency</th>\n",
       "      <th>Frequency</th>\n",
       "      <th>MonetaryValue</th>\n",
       "      <th>RFM_Score</th>\n",
       "    </tr>\n",
       "  </thead>\n",
       "  <tbody>\n",
       "    <tr>\n",
       "      <th>count</th>\n",
       "      <td>4353.000000</td>\n",
       "      <td>4353.000000</td>\n",
       "      <td>4353.000000</td>\n",
       "      <td>4353.000000</td>\n",
       "    </tr>\n",
       "    <tr>\n",
       "      <th>mean</th>\n",
       "      <td>93.196187</td>\n",
       "      <td>64.879394</td>\n",
       "      <td>1325.708170</td>\n",
       "      <td>7.509763</td>\n",
       "    </tr>\n",
       "    <tr>\n",
       "      <th>std</th>\n",
       "      <td>101.155969</td>\n",
       "      <td>161.444665</td>\n",
       "      <td>5550.920007</td>\n",
       "      <td>2.831912</td>\n",
       "    </tr>\n",
       "    <tr>\n",
       "      <th>min</th>\n",
       "      <td>1.000000</td>\n",
       "      <td>1.000000</td>\n",
       "      <td>-4287.630000</td>\n",
       "      <td>3.000000</td>\n",
       "    </tr>\n",
       "    <tr>\n",
       "      <th>25%</th>\n",
       "      <td>18.000000</td>\n",
       "      <td>12.000000</td>\n",
       "      <td>200.770000</td>\n",
       "      <td>5.000000</td>\n",
       "    </tr>\n",
       "    <tr>\n",
       "      <th>50%</th>\n",
       "      <td>51.000000</td>\n",
       "      <td>29.000000</td>\n",
       "      <td>457.100000</td>\n",
       "      <td>7.000000</td>\n",
       "    </tr>\n",
       "    <tr>\n",
       "      <th>75%</th>\n",
       "      <td>145.000000</td>\n",
       "      <td>71.000000</td>\n",
       "      <td>1136.800000</td>\n",
       "      <td>10.000000</td>\n",
       "    </tr>\n",
       "    <tr>\n",
       "      <th>max</th>\n",
       "      <td>374.000000</td>\n",
       "      <td>5511.000000</td>\n",
       "      <td>190309.320000</td>\n",
       "      <td>12.000000</td>\n",
       "    </tr>\n",
       "  </tbody>\n",
       "</table>\n",
       "</div>"
      ],
      "text/plain": [
       "           Recency    Frequency  MonetaryValue    RFM_Score\n",
       "count  4353.000000  4353.000000    4353.000000  4353.000000\n",
       "mean     93.196187    64.879394    1325.708170     7.509763\n",
       "std     101.155969   161.444665    5550.920007     2.831912\n",
       "min       1.000000     1.000000   -4287.630000     3.000000\n",
       "25%      18.000000    12.000000     200.770000     5.000000\n",
       "50%      51.000000    29.000000     457.100000     7.000000\n",
       "75%     145.000000    71.000000    1136.800000    10.000000\n",
       "max     374.000000  5511.000000  190309.320000    12.000000"
      ]
     },
     "execution_count": 105,
     "metadata": {},
     "output_type": "execute_result"
    }
   ],
   "source": [
    "df_clust.describe()"
   ]
  },
  {
   "cell_type": "markdown",
   "id": "815209de",
   "metadata": {},
   "source": [
    "### To Check for Outliers"
   ]
  },
  {
   "cell_type": "code",
   "execution_count": 64,
   "id": "8209ef4d",
   "metadata": {},
   "outputs": [
    {
     "data": {
      "image/png": "[encoded data removed]",
      "text/plain": [
       "<Figure size 432x288 with 1 Axes>"
      ]
     },
     "metadata": {
      "needs_background": "light"
     },
     "output_type": "display_data"
    },
    {
     "data": {
      "image/png": "[encoded data removed]",
      "text/plain": [
       "<Figure size 432x288 with 1 Axes>"
      ]
     },
     "metadata": {
      "needs_background": "light"
     },
     "output_type": "display_data"
    },
    {
     "data": {
      "image/png": "[encoded data removed]",
      "text/plain": [
       "<Figure size 432x288 with 1 Axes>"
      ]
     },
     "metadata": {
      "needs_background": "light"
     },
     "output_type": "display_data"
    }
   ],
   "source": [
    "sns.boxplot(x=df_clust['MonetaryValue'])\n",
    "plt.show()\n",
    "sns.boxplot(x=df_clust['Frequency'])\n",
    "plt.show()\n",
    "sns.boxplot(x=df_clust['Recency'])\n",
    "plt.show()"
   ]
  },
  {
   "cell_type": "markdown",
   "id": "4f876021",
   "metadata": {},
   "source": [
    "### We can see outliers for the the three columns"
   ]
  },
  {
   "cell_type": "markdown",
   "id": "4b544acc",
   "metadata": {},
   "source": [
    "### Removing outliers"
   ]
  },
  {
   "cell_type": "code",
   "execution_count": 74,
   "id": "48cf335e",
   "metadata": {},
   "outputs": [],
   "source": [
    "###Monetary_Value\n",
    "Quartile_1M,Quartile_3M=np.percentile(df_clust['MonetaryValue'],(25,75))\n",
    "IQR_M=Quartile_3M-Quartile_1M\n",
    "Lower_bound_M=Quartile_1M-1.5*IQR_M\n",
    "Upper_bound_M=Quartile_3M+1.5*IQR_M"
   ]
  },
  {
   "cell_type": "code",
   "execution_count": 77,
   "id": "1cd5b2c6",
   "metadata": {},
   "outputs": [],
   "source": [
    "###Recency\n",
    "Quartile_1R,Quartile_3R=np.percentile(df_clust['Recency'],(25,75))\n",
    "IQR_R=Quartile_3R-Quartile_1R\n",
    "Lower_bound_R=Quartile_1R-1.5*IQR_R\n",
    "Upper_bound_R=Quartile_3R+1.5*IQR_R"
   ]
  },
  {
   "cell_type": "code",
   "execution_count": 78,
   "id": "2d27809f",
   "metadata": {},
   "outputs": [],
   "source": [
    "###Frequency\n",
    "Quartile_1F,Quartile_3F=np.percentile(df_clust['Frequency'],(25,75))\n",
    "IQR_F=Quartile_3F-Quartile_1F\n",
    "Lower_bound_F=Quartile_1F-1.5*IQR_F\n",
    "Upper_bound_F=Quartile_3F+1.5*IQR_F"
   ]
  },
  {
   "cell_type": "code",
   "execution_count": 79,
   "id": "d718371f",
   "metadata": {},
   "outputs": [],
   "source": [
    "df_clust_wo_out=df_clust.copy()"
   ]
  },
  {
   "cell_type": "code",
   "execution_count": 85,
   "id": "b9020498",
   "metadata": {},
   "outputs": [
    {
     "data": {
      "text/html": [
       "<div>\n",
       "<style scoped>\n",
       "    .dataframe tbody tr th:only-of-type {\n",
       "        vertical-align: middle;\n",
       "    }\n",
       "\n",
       "    .dataframe tbody tr th {\n",
       "        vertical-align: top;\n",
       "    }\n",
       "\n",
       "    .dataframe thead th {\n",
       "        text-align: right;\n",
       "    }\n",
       "</style>\n",
       "<table border=\"1\" class=\"dataframe\">\n",
       "  <thead>\n",
       "    <tr style=\"text-align: right;\">\n",
       "      <th></th>\n",
       "      <th>Recency</th>\n",
       "      <th>Frequency</th>\n",
       "      <th>MonetaryValue</th>\n",
       "      <th>RFM_Score</th>\n",
       "    </tr>\n",
       "    <tr>\n",
       "      <th>CustomerID</th>\n",
       "      <th></th>\n",
       "      <th></th>\n",
       "      <th></th>\n",
       "      <th></th>\n",
       "    </tr>\n",
       "  </thead>\n",
       "  <tbody>\n",
       "    <tr>\n",
       "      <th>12346.0</th>\n",
       "      <td>326</td>\n",
       "      <td>2</td>\n",
       "      <td>0.00</td>\n",
       "      <td>3</td>\n",
       "    </tr>\n",
       "    <tr>\n",
       "      <th>12347.0</th>\n",
       "      <td>3</td>\n",
       "      <td>132</td>\n",
       "      <td>3124.96</td>\n",
       "      <td>12</td>\n",
       "    </tr>\n",
       "    <tr>\n",
       "      <th>12348.0</th>\n",
       "      <td>76</td>\n",
       "      <td>20</td>\n",
       "      <td>1009.88</td>\n",
       "      <td>7</td>\n",
       "    </tr>\n",
       "    <tr>\n",
       "      <th>12349.0</th>\n",
       "      <td>19</td>\n",
       "      <td>50</td>\n",
       "      <td>1344.17</td>\n",
       "      <td>10</td>\n",
       "    </tr>\n",
       "    <tr>\n",
       "      <th>12350.0</th>\n",
       "      <td>311</td>\n",
       "      <td>11</td>\n",
       "      <td>213.30</td>\n",
       "      <td>4</td>\n",
       "    </tr>\n",
       "  </tbody>\n",
       "</table>\n",
       "</div>"
      ],
      "text/plain": [
       "            Recency  Frequency  MonetaryValue  RFM_Score\n",
       "CustomerID                                              \n",
       "12346.0         326          2           0.00          3\n",
       "12347.0           3        132        3124.96         12\n",
       "12348.0          76         20        1009.88          7\n",
       "12349.0          19         50        1344.17         10\n",
       "12350.0         311         11         213.30          4"
      ]
     },
     "execution_count": 85,
     "metadata": {},
     "output_type": "execute_result"
    }
   ],
   "source": [
    "df_clust_wo_out.head()"
   ]
  },
  {
   "cell_type": "code",
   "execution_count": 100,
   "id": "a1f9f71b",
   "metadata": {},
   "outputs": [],
   "source": [
    "df_clust_wo_out=df_clust[(df_clust[\"MonetaryValue\"] > Lower_bound_M)&(df_clust[\"MonetaryValue\"] < Upper_bound_M)&(df_clust[\"Recency\"] > Lower_bound_R)&(df_clust[\"Recency\"] < Upper_bound_R)&(df_clust[\"Frequency\"] > Lower_bound_F)&(df_clust[\"Frequency\"] < Upper_bound_R)]"
   ]
  },
  {
   "cell_type": "code",
   "execution_count": 101,
   "id": "37626c3f",
   "metadata": {},
   "outputs": [
    {
     "data": {
      "text/html": [
       "<div>\n",
       "<style scoped>\n",
       "    .dataframe tbody tr th:only-of-type {\n",
       "        vertical-align: middle;\n",
       "    }\n",
       "\n",
       "    .dataframe tbody tr th {\n",
       "        vertical-align: top;\n",
       "    }\n",
       "\n",
       "    .dataframe thead th {\n",
       "        text-align: right;\n",
       "    }\n",
       "</style>\n",
       "<table border=\"1\" class=\"dataframe\">\n",
       "  <thead>\n",
       "    <tr style=\"text-align: right;\">\n",
       "      <th></th>\n",
       "      <th>Recency</th>\n",
       "      <th>Frequency</th>\n",
       "      <th>MonetaryValue</th>\n",
       "      <th>RFM_Score</th>\n",
       "    </tr>\n",
       "    <tr>\n",
       "      <th>CustomerID</th>\n",
       "      <th></th>\n",
       "      <th></th>\n",
       "      <th></th>\n",
       "      <th></th>\n",
       "    </tr>\n",
       "  </thead>\n",
       "  <tbody>\n",
       "    <tr>\n",
       "      <th>12346.0</th>\n",
       "      <td>326</td>\n",
       "      <td>2</td>\n",
       "      <td>0.00</td>\n",
       "      <td>3</td>\n",
       "    </tr>\n",
       "    <tr>\n",
       "      <th>12348.0</th>\n",
       "      <td>76</td>\n",
       "      <td>20</td>\n",
       "      <td>1009.88</td>\n",
       "      <td>7</td>\n",
       "    </tr>\n",
       "    <tr>\n",
       "      <th>12349.0</th>\n",
       "      <td>19</td>\n",
       "      <td>50</td>\n",
       "      <td>1344.17</td>\n",
       "      <td>10</td>\n",
       "    </tr>\n",
       "    <tr>\n",
       "      <th>12350.0</th>\n",
       "      <td>311</td>\n",
       "      <td>11</td>\n",
       "      <td>213.30</td>\n",
       "      <td>4</td>\n",
       "    </tr>\n",
       "    <tr>\n",
       "      <th>12352.0</th>\n",
       "      <td>37</td>\n",
       "      <td>65</td>\n",
       "      <td>1469.03</td>\n",
       "      <td>10</td>\n",
       "    </tr>\n",
       "    <tr>\n",
       "      <th>...</th>\n",
       "      <td>...</td>\n",
       "      <td>...</td>\n",
       "      <td>...</td>\n",
       "      <td>...</td>\n",
       "    </tr>\n",
       "    <tr>\n",
       "      <th>18278.0</th>\n",
       "      <td>74</td>\n",
       "      <td>6</td>\n",
       "      <td>119.00</td>\n",
       "      <td>4</td>\n",
       "    </tr>\n",
       "    <tr>\n",
       "      <th>18280.0</th>\n",
       "      <td>278</td>\n",
       "      <td>5</td>\n",
       "      <td>91.70</td>\n",
       "      <td>3</td>\n",
       "    </tr>\n",
       "    <tr>\n",
       "      <th>18281.0</th>\n",
       "      <td>181</td>\n",
       "      <td>5</td>\n",
       "      <td>59.28</td>\n",
       "      <td>3</td>\n",
       "    </tr>\n",
       "    <tr>\n",
       "      <th>18282.0</th>\n",
       "      <td>8</td>\n",
       "      <td>9</td>\n",
       "      <td>118.16</td>\n",
       "      <td>6</td>\n",
       "    </tr>\n",
       "    <tr>\n",
       "      <th>18287.0</th>\n",
       "      <td>43</td>\n",
       "      <td>50</td>\n",
       "      <td>1430.78</td>\n",
       "      <td>10</td>\n",
       "    </tr>\n",
       "  </tbody>\n",
       "</table>\n",
       "<p>3763 rows × 4 columns</p>\n",
       "</div>"
      ],
      "text/plain": [
       "            Recency  Frequency  MonetaryValue  RFM_Score\n",
       "CustomerID                                              \n",
       "12346.0         326          2           0.00          3\n",
       "12348.0          76         20        1009.88          7\n",
       "12349.0          19         50        1344.17         10\n",
       "12350.0         311         11         213.30          4\n",
       "12352.0          37         65        1469.03         10\n",
       "...             ...        ...            ...        ...\n",
       "18278.0          74          6         119.00          4\n",
       "18280.0         278          5          91.70          3\n",
       "18281.0         181          5          59.28          3\n",
       "18282.0           8          9         118.16          6\n",
       "18287.0          43         50        1430.78         10\n",
       "\n",
       "[3763 rows x 4 columns]"
      ]
     },
     "execution_count": 101,
     "metadata": {},
     "output_type": "execute_result"
    }
   ],
   "source": [
    "df_clust_wo_out"
   ]
  },
  {
   "cell_type": "code",
   "execution_count": 106,
   "id": "1cf18518",
   "metadata": {},
   "outputs": [
    {
     "data": {
      "text/html": [
       "<div>\n",
       "<style scoped>\n",
       "    .dataframe tbody tr th:only-of-type {\n",
       "        vertical-align: middle;\n",
       "    }\n",
       "\n",
       "    .dataframe tbody tr th {\n",
       "        vertical-align: top;\n",
       "    }\n",
       "\n",
       "    .dataframe thead th {\n",
       "        text-align: right;\n",
       "    }\n",
       "</style>\n",
       "<table border=\"1\" class=\"dataframe\">\n",
       "  <thead>\n",
       "    <tr style=\"text-align: right;\">\n",
       "      <th></th>\n",
       "      <th>Recency</th>\n",
       "      <th>Frequency</th>\n",
       "      <th>MonetaryValue</th>\n",
       "      <th>RFM_Score</th>\n",
       "    </tr>\n",
       "  </thead>\n",
       "  <tbody>\n",
       "    <tr>\n",
       "      <th>count</th>\n",
       "      <td>3763.000000</td>\n",
       "      <td>3763.000000</td>\n",
       "      <td>3763.000000</td>\n",
       "      <td>3763.000000</td>\n",
       "    </tr>\n",
       "    <tr>\n",
       "      <th>mean</th>\n",
       "      <td>91.025246</td>\n",
       "      <td>42.481796</td>\n",
       "      <td>606.312926</td>\n",
       "      <td>7.197715</td>\n",
       "    </tr>\n",
       "    <tr>\n",
       "      <th>std</th>\n",
       "      <td>90.930474</td>\n",
       "      <td>47.026641</td>\n",
       "      <td>563.276672</td>\n",
       "      <td>2.594462</td>\n",
       "    </tr>\n",
       "    <tr>\n",
       "      <th>min</th>\n",
       "      <td>1.000000</td>\n",
       "      <td>1.000000</td>\n",
       "      <td>-1190.260000</td>\n",
       "      <td>3.000000</td>\n",
       "    </tr>\n",
       "    <tr>\n",
       "      <th>25%</th>\n",
       "      <td>22.000000</td>\n",
       "      <td>11.000000</td>\n",
       "      <td>192.650000</td>\n",
       "      <td>5.000000</td>\n",
       "    </tr>\n",
       "    <tr>\n",
       "      <th>50%</th>\n",
       "      <td>54.000000</td>\n",
       "      <td>26.000000</td>\n",
       "      <td>404.400000</td>\n",
       "      <td>7.000000</td>\n",
       "    </tr>\n",
       "    <tr>\n",
       "      <th>75%</th>\n",
       "      <td>143.000000</td>\n",
       "      <td>57.000000</td>\n",
       "      <td>860.310000</td>\n",
       "      <td>9.000000</td>\n",
       "    </tr>\n",
       "    <tr>\n",
       "      <th>max</th>\n",
       "      <td>335.000000</td>\n",
       "      <td>334.000000</td>\n",
       "      <td>2534.340000</td>\n",
       "      <td>12.000000</td>\n",
       "    </tr>\n",
       "  </tbody>\n",
       "</table>\n",
       "</div>"
      ],
      "text/plain": [
       "           Recency    Frequency  MonetaryValue    RFM_Score\n",
       "count  3763.000000  3763.000000    3763.000000  3763.000000\n",
       "mean     91.025246    42.481796     606.312926     7.197715\n",
       "std      90.930474    47.026641     563.276672     2.594462\n",
       "min       1.000000     1.000000   -1190.260000     3.000000\n",
       "25%      22.000000    11.000000     192.650000     5.000000\n",
       "50%      54.000000    26.000000     404.400000     7.000000\n",
       "75%     143.000000    57.000000     860.310000     9.000000\n",
       "max     335.000000   334.000000    2534.340000    12.000000"
      ]
     },
     "execution_count": 106,
     "metadata": {},
     "output_type": "execute_result"
    }
   ],
   "source": [
    "df_clust_wo_out.describe()"
   ]
  },
  {
   "cell_type": "code",
   "execution_count": 104,
   "id": "9a2b0da6",
   "metadata": {},
   "outputs": [],
   "source": [
    "df_clust_wo_out.to_csv('RFM_data_wo_outliers.csv')"
   ]
  },
  {
   "cell_type": "markdown",
   "id": "92239565",
   "metadata": {},
   "source": [
    "### Large number of customers are removed on eliminating the outliers. This is not expected by the stores, as they want maximum number of customers to be considered for analysis.So we will consider the original RFM dataset for clustering."
   ]
  },
  {
   "cell_type": "code",
   "execution_count": 57,
   "id": "ce700c0e",
   "metadata": {},
   "outputs": [
    {
     "data": {
      "text/html": [
       "<div>\n",
       "<style scoped>\n",
       "    .dataframe tbody tr th:only-of-type {\n",
       "        vertical-align: middle;\n",
       "    }\n",
       "\n",
       "    .dataframe tbody tr th {\n",
       "        vertical-align: top;\n",
       "    }\n",
       "\n",
       "    .dataframe thead th {\n",
       "        text-align: right;\n",
       "    }\n",
       "</style>\n",
       "<table border=\"1\" class=\"dataframe\">\n",
       "  <thead>\n",
       "    <tr style=\"text-align: right;\">\n",
       "      <th></th>\n",
       "      <th>Recency</th>\n",
       "      <th>Frequency</th>\n",
       "      <th>MonetaryValue</th>\n",
       "      <th>RFM_Score</th>\n",
       "    </tr>\n",
       "    <tr>\n",
       "      <th>CustomerID</th>\n",
       "      <th></th>\n",
       "      <th></th>\n",
       "      <th></th>\n",
       "      <th></th>\n",
       "    </tr>\n",
       "  </thead>\n",
       "  <tbody>\n",
       "    <tr>\n",
       "      <th>12346.0</th>\n",
       "      <td>326</td>\n",
       "      <td>2</td>\n",
       "      <td>0.0</td>\n",
       "      <td>3</td>\n",
       "    </tr>\n",
       "    <tr>\n",
       "      <th>13256.0</th>\n",
       "      <td>15</td>\n",
       "      <td>1</td>\n",
       "      <td>0.0</td>\n",
       "      <td>6</td>\n",
       "    </tr>\n",
       "    <tr>\n",
       "      <th>18268.0</th>\n",
       "      <td>135</td>\n",
       "      <td>2</td>\n",
       "      <td>0.0</td>\n",
       "      <td>4</td>\n",
       "    </tr>\n",
       "  </tbody>\n",
       "</table>\n",
       "</div>"
      ],
      "text/plain": [
       "            Recency  Frequency  MonetaryValue  RFM_Score\n",
       "CustomerID                                              \n",
       "12346.0         326          2            0.0          3\n",
       "13256.0          15          1            0.0          6\n",
       "18268.0         135          2            0.0          4"
      ]
     },
     "execution_count": 57,
     "metadata": {},
     "output_type": "execute_result"
    }
   ],
   "source": [
    "df_clust[df_clust.MonetaryValue == 0]"
   ]
  },
  {
   "cell_type": "code",
   "execution_count": 58,
   "id": "dcaf1dd5",
   "metadata": {},
   "outputs": [
    {
     "data": {
      "text/plain": [
       "49"
      ]
     },
     "execution_count": 58,
     "metadata": {},
     "output_type": "execute_result"
    }
   ],
   "source": [
    "len(df_clust[df_clust.MonetaryValue < 0])"
   ]
  },
  {
   "cell_type": "code",
   "execution_count": 59,
   "id": "bdd45948",
   "metadata": {},
   "outputs": [
    {
     "data": {
      "text/plain": [
       "Recency          0\n",
       "Frequency        0\n",
       "MonetaryValue    0\n",
       "RFM_Score        0\n",
       "dtype: int64"
      ]
     },
     "execution_count": 59,
     "metadata": {},
     "output_type": "execute_result"
    }
   ],
   "source": [
    "df_clust.isna().sum()"
   ]
  },
  {
   "cell_type": "markdown",
   "id": "2129a818",
   "metadata": {},
   "source": [
    "### Checking if the data is normally distributed or not"
   ]
  },
  {
   "cell_type": "code",
   "execution_count": 60,
   "id": "7048ab67",
   "metadata": {},
   "outputs": [
    {
     "data": {
      "text/plain": [
       "<seaborn.axisgrid.FacetGrid at 0x1da4b6fc070>"
      ]
     },
     "execution_count": 60,
     "metadata": {},
     "output_type": "execute_result"
    },
    {
     "data": {
      "image/png": "[encoded data removed]",
      "text/plain": [
       "<Figure size 360x360 with 1 Axes>"
      ]
     },
     "metadata": {
      "needs_background": "light"
     },
     "output_type": "display_data"
    }
   ],
   "source": [
    "sns.displot(df_clust['Recency'])"
   ]
  },
  {
   "cell_type": "code",
   "execution_count": 61,
   "id": "4457f1b7",
   "metadata": {},
   "outputs": [
    {
     "data": {
      "text/plain": [
       "<seaborn.axisgrid.FacetGrid at 0x1da4af681c0>"
      ]
     },
     "execution_count": 61,
     "metadata": {},
     "output_type": "execute_result"
    },
    {
     "data": {
      "image/png": "[encoded data removed]",
      "text/plain": [
       "<Figure size 360x360 with 1 Axes>"
      ]
     },
     "metadata": {
      "needs_background": "light"
     },
     "output_type": "display_data"
    }
   ],
   "source": [
    "sns.displot(df_clust['Frequency'])"
   ]
  },
  {
   "cell_type": "code",
   "execution_count": 62,
   "id": "e29b704f",
   "metadata": {},
   "outputs": [
    {
     "data": {
      "text/plain": [
       "5511"
      ]
     },
     "execution_count": 62,
     "metadata": {},
     "output_type": "execute_result"
    }
   ],
   "source": [
    "df_clust['Frequency'].max()"
   ]
  },
  {
   "cell_type": "code",
   "execution_count": 63,
   "id": "304db073",
   "metadata": {},
   "outputs": [
    {
     "data": {
      "text/plain": [
       "<seaborn.axisgrid.FacetGrid at 0x1da4af7a580>"
      ]
     },
     "execution_count": 63,
     "metadata": {},
     "output_type": "execute_result"
    },
    {
     "data": {
      "image/png": "[encoded data removed]",
      "text/plain": [
       "<Figure size 360x360 with 1 Axes>"
      ]
     },
     "metadata": {
      "needs_background": "light"
     },
     "output_type": "display_data"
    }
   ],
   "source": [
    "sns.displot(df_clust['MonetaryValue'])"
   ]
  },
  {
   "cell_type": "code",
   "execution_count": 64,
   "id": "fd3183ca",
   "metadata": {},
   "outputs": [
    {
     "data": {
      "text/plain": [
       "<seaborn.axisgrid.FacetGrid at 0x1da4bb70b80>"
      ]
     },
     "execution_count": 64,
     "metadata": {},
     "output_type": "execute_result"
    },
    {
     "data": {
      "image/png": "[encoded data removed]",
      "text/plain": [
       "<Figure size 360x360 with 1 Axes>"
      ]
     },
     "metadata": {
      "needs_background": "light"
     },
     "output_type": "display_data"
    }
   ],
   "source": [
    "sns.displot(df_clust['RFM_Score'])"
   ]
  },
  {
   "cell_type": "markdown",
   "id": "1c957ecb",
   "metadata": {},
   "source": [
    "### As we are performing clustering analysis, data should be normally distributed. This is because column with higher variance willl get higher weightage during clustering, which is not correct."
   ]
  },
  {
   "cell_type": "markdown",
   "id": "a8149bc1",
   "metadata": {},
   "source": [
    "#### It can be seen that data is Positively skewed for all the three columns. So we should use log transformation to reduce the skewness of data and make the data normal."
   ]
  },
  {
   "cell_type": "markdown",
   "id": "85678bf9",
   "metadata": {},
   "source": [
    "### Log Transformation"
   ]
  },
  {
   "cell_type": "code",
   "execution_count": 65,
   "id": "f1d65eb5",
   "metadata": {},
   "outputs": [],
   "source": [
    "import numpy as np"
   ]
  },
  {
   "cell_type": "code",
   "execution_count": 66,
   "id": "4625a571",
   "metadata": {},
   "outputs": [],
   "source": [
    "log_df_clust=np.log(df_clust+1) #### If there is any value 0 then the log will be infinity. To avoid this we are adding 1"
   ]
  },
  {
   "cell_type": "code",
   "execution_count": 67,
   "id": "610ff556",
   "metadata": {},
   "outputs": [
    {
     "data": {
      "text/html": [
       "<div>\n",
       "<style scoped>\n",
       "    .dataframe tbody tr th:only-of-type {\n",
       "        vertical-align: middle;\n",
       "    }\n",
       "\n",
       "    .dataframe tbody tr th {\n",
       "        vertical-align: top;\n",
       "    }\n",
       "\n",
       "    .dataframe thead th {\n",
       "        text-align: right;\n",
       "    }\n",
       "</style>\n",
       "<table border=\"1\" class=\"dataframe\">\n",
       "  <thead>\n",
       "    <tr style=\"text-align: right;\">\n",
       "      <th></th>\n",
       "      <th>Recency</th>\n",
       "      <th>Frequency</th>\n",
       "      <th>MonetaryValue</th>\n",
       "      <th>RFM_Score</th>\n",
       "    </tr>\n",
       "    <tr>\n",
       "      <th>CustomerID</th>\n",
       "      <th></th>\n",
       "      <th></th>\n",
       "      <th></th>\n",
       "      <th></th>\n",
       "    </tr>\n",
       "  </thead>\n",
       "  <tbody>\n",
       "    <tr>\n",
       "      <th>12346.0</th>\n",
       "      <td>5.789960</td>\n",
       "      <td>1.098612</td>\n",
       "      <td>0.000000</td>\n",
       "      <td>1.386294</td>\n",
       "    </tr>\n",
       "    <tr>\n",
       "      <th>12347.0</th>\n",
       "      <td>1.386294</td>\n",
       "      <td>4.890349</td>\n",
       "      <td>8.047497</td>\n",
       "      <td>2.564949</td>\n",
       "    </tr>\n",
       "    <tr>\n",
       "      <th>12348.0</th>\n",
       "      <td>4.343805</td>\n",
       "      <td>3.044522</td>\n",
       "      <td>6.918577</td>\n",
       "      <td>2.079442</td>\n",
       "    </tr>\n",
       "    <tr>\n",
       "      <th>12349.0</th>\n",
       "      <td>2.995732</td>\n",
       "      <td>3.931826</td>\n",
       "      <td>7.204276</td>\n",
       "      <td>2.397895</td>\n",
       "    </tr>\n",
       "    <tr>\n",
       "      <th>12350.0</th>\n",
       "      <td>5.743003</td>\n",
       "      <td>2.484907</td>\n",
       "      <td>5.367377</td>\n",
       "      <td>1.609438</td>\n",
       "    </tr>\n",
       "  </tbody>\n",
       "</table>\n",
       "</div>"
      ],
      "text/plain": [
       "             Recency  Frequency  MonetaryValue  RFM_Score\n",
       "CustomerID                                               \n",
       "12346.0     5.789960   1.098612       0.000000   1.386294\n",
       "12347.0     1.386294   4.890349       8.047497   2.564949\n",
       "12348.0     4.343805   3.044522       6.918577   2.079442\n",
       "12349.0     2.995732   3.931826       7.204276   2.397895\n",
       "12350.0     5.743003   2.484907       5.367377   1.609438"
      ]
     },
     "execution_count": 67,
     "metadata": {},
     "output_type": "execute_result"
    }
   ],
   "source": [
    "log_df_clust.head()"
   ]
  },
  {
   "cell_type": "code",
   "execution_count": 68,
   "id": "239b5504",
   "metadata": {},
   "outputs": [
    {
     "data": {
      "text/html": [
       "<div>\n",
       "<style scoped>\n",
       "    .dataframe tbody tr th:only-of-type {\n",
       "        vertical-align: middle;\n",
       "    }\n",
       "\n",
       "    .dataframe tbody tr th {\n",
       "        vertical-align: top;\n",
       "    }\n",
       "\n",
       "    .dataframe thead th {\n",
       "        text-align: right;\n",
       "    }\n",
       "</style>\n",
       "<table border=\"1\" class=\"dataframe\">\n",
       "  <thead>\n",
       "    <tr style=\"text-align: right;\">\n",
       "      <th></th>\n",
       "      <th>Recency</th>\n",
       "      <th>Frequency</th>\n",
       "      <th>MonetaryValue</th>\n",
       "      <th>RFM_Score</th>\n",
       "    </tr>\n",
       "    <tr>\n",
       "      <th>CustomerID</th>\n",
       "      <th></th>\n",
       "      <th></th>\n",
       "      <th></th>\n",
       "      <th></th>\n",
       "    </tr>\n",
       "  </thead>\n",
       "  <tbody>\n",
       "    <tr>\n",
       "      <th>12346.0</th>\n",
       "      <td>5.789960</td>\n",
       "      <td>1.098612</td>\n",
       "      <td>0.0</td>\n",
       "      <td>1.386294</td>\n",
       "    </tr>\n",
       "    <tr>\n",
       "      <th>13256.0</th>\n",
       "      <td>2.772589</td>\n",
       "      <td>0.693147</td>\n",
       "      <td>0.0</td>\n",
       "      <td>1.945910</td>\n",
       "    </tr>\n",
       "    <tr>\n",
       "      <th>18268.0</th>\n",
       "      <td>4.912655</td>\n",
       "      <td>1.098612</td>\n",
       "      <td>0.0</td>\n",
       "      <td>1.609438</td>\n",
       "    </tr>\n",
       "  </tbody>\n",
       "</table>\n",
       "</div>"
      ],
      "text/plain": [
       "             Recency  Frequency  MonetaryValue  RFM_Score\n",
       "CustomerID                                               \n",
       "12346.0     5.789960   1.098612            0.0   1.386294\n",
       "13256.0     2.772589   0.693147            0.0   1.945910\n",
       "18268.0     4.912655   1.098612            0.0   1.609438"
      ]
     },
     "execution_count": 68,
     "metadata": {},
     "output_type": "execute_result"
    }
   ],
   "source": [
    "log_df_clust[log_df_clust.MonetaryValue == 0]"
   ]
  },
  {
   "cell_type": "code",
   "execution_count": 69,
   "id": "1411d052",
   "metadata": {},
   "outputs": [
    {
     "data": {
      "text/plain": [
       "Recency           0\n",
       "Frequency         0\n",
       "MonetaryValue    48\n",
       "RFM_Score         0\n",
       "dtype: int64"
      ]
     },
     "execution_count": 69,
     "metadata": {},
     "output_type": "execute_result"
    }
   ],
   "source": [
    "log_df_clust.isna().sum() ### log Transformation has converted negative values to undefined values"
   ]
  },
  {
   "cell_type": "markdown",
   "id": "a29d8d45",
   "metadata": {},
   "source": [
    "### As log transformation has converted negative values to undefined values, We cannot use log transformation directly. Instead we should scale the data and check the distribution."
   ]
  },
  {
   "cell_type": "markdown",
   "id": "f83ce6ca",
   "metadata": {},
   "source": [
    "### We need to scale the data to perform K means clustering as it is distance based algorithm."
   ]
  },
  {
   "cell_type": "markdown",
   "id": "5bd4d801",
   "metadata": {},
   "source": [
    "## Standard Scaler"
   ]
  },
  {
   "cell_type": "code",
   "execution_count": 70,
   "id": "8ef4ce64",
   "metadata": {},
   "outputs": [],
   "source": [
    "df_stand_scaled=df_clust.copy()"
   ]
  },
  {
   "cell_type": "code",
   "execution_count": 71,
   "id": "8369fd74",
   "metadata": {},
   "outputs": [
    {
     "data": {
      "text/html": [
       "<div>\n",
       "<style scoped>\n",
       "    .dataframe tbody tr th:only-of-type {\n",
       "        vertical-align: middle;\n",
       "    }\n",
       "\n",
       "    .dataframe tbody tr th {\n",
       "        vertical-align: top;\n",
       "    }\n",
       "\n",
       "    .dataframe thead th {\n",
       "        text-align: right;\n",
       "    }\n",
       "</style>\n",
       "<table border=\"1\" class=\"dataframe\">\n",
       "  <thead>\n",
       "    <tr style=\"text-align: right;\">\n",
       "      <th></th>\n",
       "      <th>Recency</th>\n",
       "      <th>Frequency</th>\n",
       "      <th>MonetaryValue</th>\n",
       "      <th>RFM_Score</th>\n",
       "    </tr>\n",
       "    <tr>\n",
       "      <th>CustomerID</th>\n",
       "      <th></th>\n",
       "      <th></th>\n",
       "      <th></th>\n",
       "      <th></th>\n",
       "    </tr>\n",
       "  </thead>\n",
       "  <tbody>\n",
       "    <tr>\n",
       "      <th>12346.0</th>\n",
       "      <td>326</td>\n",
       "      <td>2</td>\n",
       "      <td>0.00</td>\n",
       "      <td>3</td>\n",
       "    </tr>\n",
       "    <tr>\n",
       "      <th>12347.0</th>\n",
       "      <td>3</td>\n",
       "      <td>132</td>\n",
       "      <td>3124.96</td>\n",
       "      <td>12</td>\n",
       "    </tr>\n",
       "    <tr>\n",
       "      <th>12348.0</th>\n",
       "      <td>76</td>\n",
       "      <td>20</td>\n",
       "      <td>1009.88</td>\n",
       "      <td>7</td>\n",
       "    </tr>\n",
       "    <tr>\n",
       "      <th>12349.0</th>\n",
       "      <td>19</td>\n",
       "      <td>50</td>\n",
       "      <td>1344.17</td>\n",
       "      <td>10</td>\n",
       "    </tr>\n",
       "    <tr>\n",
       "      <th>12350.0</th>\n",
       "      <td>311</td>\n",
       "      <td>11</td>\n",
       "      <td>213.30</td>\n",
       "      <td>4</td>\n",
       "    </tr>\n",
       "  </tbody>\n",
       "</table>\n",
       "</div>"
      ],
      "text/plain": [
       "            Recency  Frequency  MonetaryValue  RFM_Score\n",
       "CustomerID                                              \n",
       "12346.0         326          2           0.00          3\n",
       "12347.0           3        132        3124.96         12\n",
       "12348.0          76         20        1009.88          7\n",
       "12349.0          19         50        1344.17         10\n",
       "12350.0         311         11         213.30          4"
      ]
     },
     "execution_count": 71,
     "metadata": {},
     "output_type": "execute_result"
    }
   ],
   "source": [
    "df_stand_scaled.head()"
   ]
  },
  {
   "cell_type": "code",
   "execution_count": 72,
   "id": "65fa1337",
   "metadata": {},
   "outputs": [],
   "source": [
    "from sklearn.preprocessing import StandardScaler"
   ]
  },
  {
   "cell_type": "code",
   "execution_count": 73,
   "id": "ce445e8a",
   "metadata": {},
   "outputs": [
    {
     "data": {
      "text/plain": [
       "Index(['Recency', 'Frequency', 'MonetaryValue', 'RFM_Score'], dtype='object')"
      ]
     },
     "execution_count": 73,
     "metadata": {},
     "output_type": "execute_result"
    }
   ],
   "source": [
    "df_stand_scaled.columns"
   ]
  },
  {
   "cell_type": "code",
   "execution_count": 74,
   "id": "701bc20b",
   "metadata": {},
   "outputs": [],
   "source": [
    "for x in df_stand_scaled.columns:\n",
    "    df_stand_scaled[x] = StandardScaler().fit_transform(df_stand_scaled[x].values.reshape(len(df_stand_scaled), 1))"
   ]
  },
  {
   "cell_type": "code",
   "execution_count": 75,
   "id": "8e379fe2",
   "metadata": {},
   "outputs": [
    {
     "data": {
      "text/html": [
       "<div>\n",
       "<style scoped>\n",
       "    .dataframe tbody tr th:only-of-type {\n",
       "        vertical-align: middle;\n",
       "    }\n",
       "\n",
       "    .dataframe tbody tr th {\n",
       "        vertical-align: top;\n",
       "    }\n",
       "\n",
       "    .dataframe thead th {\n",
       "        text-align: right;\n",
       "    }\n",
       "</style>\n",
       "<table border=\"1\" class=\"dataframe\">\n",
       "  <thead>\n",
       "    <tr style=\"text-align: right;\">\n",
       "      <th></th>\n",
       "      <th>Recency</th>\n",
       "      <th>Frequency</th>\n",
       "      <th>MonetaryValue</th>\n",
       "      <th>RFM_Score</th>\n",
       "    </tr>\n",
       "    <tr>\n",
       "      <th>CustomerID</th>\n",
       "      <th></th>\n",
       "      <th></th>\n",
       "      <th></th>\n",
       "      <th></th>\n",
       "    </tr>\n",
       "  </thead>\n",
       "  <tbody>\n",
       "    <tr>\n",
       "      <th>12346.0</th>\n",
       "      <td>2.301699</td>\n",
       "      <td>-0.389524</td>\n",
       "      <td>-0.238854</td>\n",
       "      <td>-1.592663</td>\n",
       "    </tr>\n",
       "    <tr>\n",
       "      <th>12347.0</th>\n",
       "      <td>-0.891757</td>\n",
       "      <td>0.415798</td>\n",
       "      <td>0.324173</td>\n",
       "      <td>1.585767</td>\n",
       "    </tr>\n",
       "    <tr>\n",
       "      <th>12348.0</th>\n",
       "      <td>-0.170016</td>\n",
       "      <td>-0.278018</td>\n",
       "      <td>-0.056903</td>\n",
       "      <td>-0.180027</td>\n",
       "    </tr>\n",
       "    <tr>\n",
       "      <th>12349.0</th>\n",
       "      <td>-0.733567</td>\n",
       "      <td>-0.092175</td>\n",
       "      <td>0.003326</td>\n",
       "      <td>0.879449</td>\n",
       "    </tr>\n",
       "    <tr>\n",
       "      <th>12350.0</th>\n",
       "      <td>2.153396</td>\n",
       "      <td>-0.333771</td>\n",
       "      <td>-0.200424</td>\n",
       "      <td>-1.239504</td>\n",
       "    </tr>\n",
       "  </tbody>\n",
       "</table>\n",
       "</div>"
      ],
      "text/plain": [
       "             Recency  Frequency  MonetaryValue  RFM_Score\n",
       "CustomerID                                               \n",
       "12346.0     2.301699  -0.389524      -0.238854  -1.592663\n",
       "12347.0    -0.891757   0.415798       0.324173   1.585767\n",
       "12348.0    -0.170016  -0.278018      -0.056903  -0.180027\n",
       "12349.0    -0.733567  -0.092175       0.003326   0.879449\n",
       "12350.0     2.153396  -0.333771      -0.200424  -1.239504"
      ]
     },
     "execution_count": 75,
     "metadata": {},
     "output_type": "execute_result"
    }
   ],
   "source": [
    "df_stand_scaled.head()"
   ]
  },
  {
   "cell_type": "markdown",
   "id": "cd25e066",
   "metadata": {},
   "source": [
    "### Checking the distribution of data"
   ]
  },
  {
   "cell_type": "code",
   "execution_count": 76,
   "id": "62ade83e",
   "metadata": {},
   "outputs": [
    {
     "data": {
      "image/png": "[encoded data removed]",
      "text/plain": [
       "<Figure size 360x360 with 1 Axes>"
      ]
     },
     "metadata": {
      "needs_background": "light"
     },
     "output_type": "display_data"
    },
    {
     "data": {
      "image/png": "[encoded data removed]",
      "text/plain": [
       "<Figure size 360x360 with 1 Axes>"
      ]
     },
     "metadata": {
      "needs_background": "light"
     },
     "output_type": "display_data"
    },
    {
     "data": {
      "image/png": "[encoded data removed]",
      "text/plain": [
       "<Figure size 360x360 with 1 Axes>"
      ]
     },
     "metadata": {
      "needs_background": "light"
     },
     "output_type": "display_data"
    },
    {
     "data": {
      "image/png": "[encoded data removed]",
      "text/plain": [
       "<Figure size 360x360 with 1 Axes>"
      ]
     },
     "metadata": {
      "needs_background": "light"
     },
     "output_type": "display_data"
    }
   ],
   "source": [
    "for x in df_stand_scaled.columns:\n",
    "    sns.displot(df_stand_scaled[x])  "
   ]
  },
  {
   "cell_type": "markdown",
   "id": "682a4a4d",
   "metadata": {},
   "source": [
    "### Data is scaled but Not normally distributed"
   ]
  },
  {
   "cell_type": "code",
   "execution_count": 77,
   "id": "ea086cab",
   "metadata": {},
   "outputs": [
    {
     "data": {
      "text/html": [
       "<div>\n",
       "<style scoped>\n",
       "    .dataframe tbody tr th:only-of-type {\n",
       "        vertical-align: middle;\n",
       "    }\n",
       "\n",
       "    .dataframe tbody tr th {\n",
       "        vertical-align: top;\n",
       "    }\n",
       "\n",
       "    .dataframe thead th {\n",
       "        text-align: right;\n",
       "    }\n",
       "</style>\n",
       "<table border=\"1\" class=\"dataframe\">\n",
       "  <thead>\n",
       "    <tr style=\"text-align: right;\">\n",
       "      <th></th>\n",
       "      <th>Recency</th>\n",
       "      <th>Frequency</th>\n",
       "      <th>MonetaryValue</th>\n",
       "      <th>RFM_Score</th>\n",
       "    </tr>\n",
       "  </thead>\n",
       "  <tbody>\n",
       "    <tr>\n",
       "      <th>count</th>\n",
       "      <td>4.353000e+03</td>\n",
       "      <td>4.353000e+03</td>\n",
       "      <td>4.353000e+03</td>\n",
       "      <td>4.353000e+03</td>\n",
       "    </tr>\n",
       "    <tr>\n",
       "      <th>mean</th>\n",
       "      <td>7.141338e-19</td>\n",
       "      <td>-3.742826e-18</td>\n",
       "      <td>-1.923220e-18</td>\n",
       "      <td>-4.213389e-17</td>\n",
       "    </tr>\n",
       "    <tr>\n",
       "      <th>std</th>\n",
       "      <td>1.000115e+00</td>\n",
       "      <td>1.000115e+00</td>\n",
       "      <td>1.000115e+00</td>\n",
       "      <td>1.000115e+00</td>\n",
       "    </tr>\n",
       "    <tr>\n",
       "      <th>min</th>\n",
       "      <td>-9.115308e-01</td>\n",
       "      <td>-3.957191e-01</td>\n",
       "      <td>-1.011361e+00</td>\n",
       "      <td>-1.592663e+00</td>\n",
       "    </tr>\n",
       "    <tr>\n",
       "      <th>25%</th>\n",
       "      <td>-7.434542e-01</td>\n",
       "      <td>-3.275764e-01</td>\n",
       "      <td>-2.026813e-01</td>\n",
       "      <td>-8.863454e-01</td>\n",
       "    </tr>\n",
       "    <tr>\n",
       "      <th>50%</th>\n",
       "      <td>-4.171878e-01</td>\n",
       "      <td>-2.222651e-01</td>\n",
       "      <td>-1.564980e-01</td>\n",
       "      <td>-1.800275e-01</td>\n",
       "    </tr>\n",
       "    <tr>\n",
       "      <th>75%</th>\n",
       "      <td>5.121770e-01</td>\n",
       "      <td>3.791584e-02</td>\n",
       "      <td>-3.403578e-02</td>\n",
       "      <td>8.794493e-01</td>\n",
       "    </tr>\n",
       "    <tr>\n",
       "      <th>max</th>\n",
       "      <td>2.776268e+00</td>\n",
       "      <td>3.373754e+01</td>\n",
       "      <td>3.404937e+01</td>\n",
       "      <td>1.585767e+00</td>\n",
       "    </tr>\n",
       "  </tbody>\n",
       "</table>\n",
       "</div>"
      ],
      "text/plain": [
       "            Recency     Frequency  MonetaryValue     RFM_Score\n",
       "count  4.353000e+03  4.353000e+03   4.353000e+03  4.353000e+03\n",
       "mean   7.141338e-19 -3.742826e-18  -1.923220e-18 -4.213389e-17\n",
       "std    1.000115e+00  1.000115e+00   1.000115e+00  1.000115e+00\n",
       "min   -9.115308e-01 -3.957191e-01  -1.011361e+00 -1.592663e+00\n",
       "25%   -7.434542e-01 -3.275764e-01  -2.026813e-01 -8.863454e-01\n",
       "50%   -4.171878e-01 -2.222651e-01  -1.564980e-01 -1.800275e-01\n",
       "75%    5.121770e-01  3.791584e-02  -3.403578e-02  8.794493e-01\n",
       "max    2.776268e+00  3.373754e+01   3.404937e+01  1.585767e+00"
      ]
     },
     "execution_count": 77,
     "metadata": {},
     "output_type": "execute_result"
    }
   ],
   "source": [
    "df_stand_scaled.describe()"
   ]
  },
  {
   "cell_type": "markdown",
   "id": "ecb01b5f",
   "metadata": {},
   "source": [
    "### Standard scaling method invloves scaling such the it has negative values in columns. So we cannot apply log transformation to conevert it into gaussian distribution. This will again generate undefined values for negative values. Also from standard deviation values, it can be seen that the difference between the variance of columns is high. It is not good to use this data for clustering."
   ]
  },
  {
   "cell_type": "markdown",
   "id": "80fb190b",
   "metadata": {},
   "source": [
    "### Try with MinMax scaler"
   ]
  },
  {
   "cell_type": "code",
   "execution_count": 78,
   "id": "4f5c5655",
   "metadata": {},
   "outputs": [],
   "source": [
    "from sklearn.preprocessing import MinMaxScaler"
   ]
  },
  {
   "cell_type": "code",
   "execution_count": 79,
   "id": "32fa7be9",
   "metadata": {},
   "outputs": [],
   "source": [
    "df_minmax_scaled=df_clust.copy()"
   ]
  },
  {
   "cell_type": "code",
   "execution_count": 80,
   "id": "9a1184a9",
   "metadata": {},
   "outputs": [
    {
     "data": {
      "text/html": [
       "<div>\n",
       "<style scoped>\n",
       "    .dataframe tbody tr th:only-of-type {\n",
       "        vertical-align: middle;\n",
       "    }\n",
       "\n",
       "    .dataframe tbody tr th {\n",
       "        vertical-align: top;\n",
       "    }\n",
       "\n",
       "    .dataframe thead th {\n",
       "        text-align: right;\n",
       "    }\n",
       "</style>\n",
       "<table border=\"1\" class=\"dataframe\">\n",
       "  <thead>\n",
       "    <tr style=\"text-align: right;\">\n",
       "      <th></th>\n",
       "      <th>Recency</th>\n",
       "      <th>Frequency</th>\n",
       "      <th>MonetaryValue</th>\n",
       "      <th>RFM_Score</th>\n",
       "    </tr>\n",
       "    <tr>\n",
       "      <th>CustomerID</th>\n",
       "      <th></th>\n",
       "      <th></th>\n",
       "      <th></th>\n",
       "      <th></th>\n",
       "    </tr>\n",
       "  </thead>\n",
       "  <tbody>\n",
       "    <tr>\n",
       "      <th>12346.0</th>\n",
       "      <td>326</td>\n",
       "      <td>2</td>\n",
       "      <td>0.00</td>\n",
       "      <td>3</td>\n",
       "    </tr>\n",
       "    <tr>\n",
       "      <th>12347.0</th>\n",
       "      <td>3</td>\n",
       "      <td>132</td>\n",
       "      <td>3124.96</td>\n",
       "      <td>12</td>\n",
       "    </tr>\n",
       "    <tr>\n",
       "      <th>12348.0</th>\n",
       "      <td>76</td>\n",
       "      <td>20</td>\n",
       "      <td>1009.88</td>\n",
       "      <td>7</td>\n",
       "    </tr>\n",
       "    <tr>\n",
       "      <th>12349.0</th>\n",
       "      <td>19</td>\n",
       "      <td>50</td>\n",
       "      <td>1344.17</td>\n",
       "      <td>10</td>\n",
       "    </tr>\n",
       "    <tr>\n",
       "      <th>12350.0</th>\n",
       "      <td>311</td>\n",
       "      <td>11</td>\n",
       "      <td>213.30</td>\n",
       "      <td>4</td>\n",
       "    </tr>\n",
       "  </tbody>\n",
       "</table>\n",
       "</div>"
      ],
      "text/plain": [
       "            Recency  Frequency  MonetaryValue  RFM_Score\n",
       "CustomerID                                              \n",
       "12346.0         326          2           0.00          3\n",
       "12347.0           3        132        3124.96         12\n",
       "12348.0          76         20        1009.88          7\n",
       "12349.0          19         50        1344.17         10\n",
       "12350.0         311         11         213.30          4"
      ]
     },
     "execution_count": 80,
     "metadata": {},
     "output_type": "execute_result"
    }
   ],
   "source": [
    "df_minmax_scaled.head()"
   ]
  },
  {
   "cell_type": "code",
   "execution_count": 81,
   "id": "34395cfe",
   "metadata": {},
   "outputs": [],
   "source": [
    "for x in df_minmax_scaled.columns:\n",
    "    df_minmax_scaled[x] = MinMaxScaler().fit_transform(df_minmax_scaled[x].values.reshape(len(df_minmax_scaled), 1))"
   ]
  },
  {
   "cell_type": "code",
   "execution_count": 82,
   "id": "eaa60212",
   "metadata": {},
   "outputs": [
    {
     "data": {
      "text/html": [
       "<div>\n",
       "<style scoped>\n",
       "    .dataframe tbody tr th:only-of-type {\n",
       "        vertical-align: middle;\n",
       "    }\n",
       "\n",
       "    .dataframe tbody tr th {\n",
       "        vertical-align: top;\n",
       "    }\n",
       "\n",
       "    .dataframe thead th {\n",
       "        text-align: right;\n",
       "    }\n",
       "</style>\n",
       "<table border=\"1\" class=\"dataframe\">\n",
       "  <thead>\n",
       "    <tr style=\"text-align: right;\">\n",
       "      <th></th>\n",
       "      <th>Recency</th>\n",
       "      <th>Frequency</th>\n",
       "      <th>MonetaryValue</th>\n",
       "      <th>RFM_Score</th>\n",
       "    </tr>\n",
       "    <tr>\n",
       "      <th>CustomerID</th>\n",
       "      <th></th>\n",
       "      <th></th>\n",
       "      <th></th>\n",
       "      <th></th>\n",
       "    </tr>\n",
       "  </thead>\n",
       "  <tbody>\n",
       "    <tr>\n",
       "      <th>12346.0</th>\n",
       "      <td>0.871314</td>\n",
       "      <td>0.000181</td>\n",
       "      <td>0.022033</td>\n",
       "      <td>0.000000</td>\n",
       "    </tr>\n",
       "    <tr>\n",
       "      <th>12347.0</th>\n",
       "      <td>0.005362</td>\n",
       "      <td>0.023775</td>\n",
       "      <td>0.038092</td>\n",
       "      <td>1.000000</td>\n",
       "    </tr>\n",
       "    <tr>\n",
       "      <th>12348.0</th>\n",
       "      <td>0.201072</td>\n",
       "      <td>0.003448</td>\n",
       "      <td>0.027223</td>\n",
       "      <td>0.444444</td>\n",
       "    </tr>\n",
       "    <tr>\n",
       "      <th>12349.0</th>\n",
       "      <td>0.048257</td>\n",
       "      <td>0.008893</td>\n",
       "      <td>0.028941</td>\n",
       "      <td>0.777778</td>\n",
       "    </tr>\n",
       "    <tr>\n",
       "      <th>12350.0</th>\n",
       "      <td>0.831099</td>\n",
       "      <td>0.001815</td>\n",
       "      <td>0.023129</td>\n",
       "      <td>0.111111</td>\n",
       "    </tr>\n",
       "  </tbody>\n",
       "</table>\n",
       "</div>"
      ],
      "text/plain": [
       "             Recency  Frequency  MonetaryValue  RFM_Score\n",
       "CustomerID                                               \n",
       "12346.0     0.871314   0.000181       0.022033   0.000000\n",
       "12347.0     0.005362   0.023775       0.038092   1.000000\n",
       "12348.0     0.201072   0.003448       0.027223   0.444444\n",
       "12349.0     0.048257   0.008893       0.028941   0.777778\n",
       "12350.0     0.831099   0.001815       0.023129   0.111111"
      ]
     },
     "execution_count": 82,
     "metadata": {},
     "output_type": "execute_result"
    }
   ],
   "source": [
    "df_minmax_scaled.head()"
   ]
  },
  {
   "cell_type": "code",
   "execution_count": 83,
   "id": "ee139337",
   "metadata": {},
   "outputs": [
    {
     "data": {
      "image/png": "[encoded data removed]",
      "text/plain": [
       "<Figure size 360x360 with 1 Axes>"
      ]
     },
     "metadata": {
      "needs_background": "light"
     },
     "output_type": "display_data"
    },
    {
     "data": {
      "image/png": "[encoded data removed]",
      "text/plain": [
       "<Figure size 360x360 with 1 Axes>"
      ]
     },
     "metadata": {
      "needs_background": "light"
     },
     "output_type": "display_data"
    },
    {
     "data": {
      "image/png": "[encoded data removed]",
      "text/plain": [
       "<Figure size 360x360 with 1 Axes>"
      ]
     },
     "metadata": {
      "needs_background": "light"
     },
     "output_type": "display_data"
    },
    {
     "data": {
      "image/png": "[encoded data removed]",
      "text/plain": [
       "<Figure size 360x360 with 1 Axes>"
      ]
     },
     "metadata": {
      "needs_background": "light"
     },
     "output_type": "display_data"
    }
   ],
   "source": [
    "for x in df_minmax_scaled.columns:\n",
    "    sns.displot(df_minmax_scaled[x])"
   ]
  },
  {
   "cell_type": "markdown",
   "id": "81d7047c",
   "metadata": {},
   "source": [
    "### Minmax scaler has also not converted the data gaussian distribution"
   ]
  },
  {
   "cell_type": "code",
   "execution_count": 84,
   "id": "7fa8b3dd",
   "metadata": {},
   "outputs": [
    {
     "data": {
      "text/html": [
       "<div>\n",
       "<style scoped>\n",
       "    .dataframe tbody tr th:only-of-type {\n",
       "        vertical-align: middle;\n",
       "    }\n",
       "\n",
       "    .dataframe tbody tr th {\n",
       "        vertical-align: top;\n",
       "    }\n",
       "\n",
       "    .dataframe thead th {\n",
       "        text-align: right;\n",
       "    }\n",
       "</style>\n",
       "<table border=\"1\" class=\"dataframe\">\n",
       "  <thead>\n",
       "    <tr style=\"text-align: right;\">\n",
       "      <th></th>\n",
       "      <th>Recency</th>\n",
       "      <th>Frequency</th>\n",
       "      <th>MonetaryValue</th>\n",
       "      <th>RFM_Score</th>\n",
       "    </tr>\n",
       "  </thead>\n",
       "  <tbody>\n",
       "    <tr>\n",
       "      <th>count</th>\n",
       "      <td>4353.000000</td>\n",
       "      <td>4353.000000</td>\n",
       "      <td>4353.000000</td>\n",
       "      <td>4353.000000</td>\n",
       "    </tr>\n",
       "    <tr>\n",
       "      <th>mean</th>\n",
       "      <td>0.247175</td>\n",
       "      <td>0.011593</td>\n",
       "      <td>0.028846</td>\n",
       "      <td>0.501085</td>\n",
       "    </tr>\n",
       "    <tr>\n",
       "      <th>std</th>\n",
       "      <td>0.271196</td>\n",
       "      <td>0.029300</td>\n",
       "      <td>0.028525</td>\n",
       "      <td>0.314657</td>\n",
       "    </tr>\n",
       "    <tr>\n",
       "      <th>min</th>\n",
       "      <td>0.000000</td>\n",
       "      <td>0.000000</td>\n",
       "      <td>0.000000</td>\n",
       "      <td>0.000000</td>\n",
       "    </tr>\n",
       "    <tr>\n",
       "      <th>25%</th>\n",
       "      <td>0.045576</td>\n",
       "      <td>0.001996</td>\n",
       "      <td>0.023065</td>\n",
       "      <td>0.222222</td>\n",
       "    </tr>\n",
       "    <tr>\n",
       "      <th>50%</th>\n",
       "      <td>0.134048</td>\n",
       "      <td>0.005082</td>\n",
       "      <td>0.024382</td>\n",
       "      <td>0.444444</td>\n",
       "    </tr>\n",
       "    <tr>\n",
       "      <th>75%</th>\n",
       "      <td>0.386059</td>\n",
       "      <td>0.012704</td>\n",
       "      <td>0.027875</td>\n",
       "      <td>0.777778</td>\n",
       "    </tr>\n",
       "    <tr>\n",
       "      <th>max</th>\n",
       "      <td>1.000000</td>\n",
       "      <td>1.000000</td>\n",
       "      <td>1.000000</td>\n",
       "      <td>1.000000</td>\n",
       "    </tr>\n",
       "  </tbody>\n",
       "</table>\n",
       "</div>"
      ],
      "text/plain": [
       "           Recency    Frequency  MonetaryValue    RFM_Score\n",
       "count  4353.000000  4353.000000    4353.000000  4353.000000\n",
       "mean      0.247175     0.011593       0.028846     0.501085\n",
       "std       0.271196     0.029300       0.028525     0.314657\n",
       "min       0.000000     0.000000       0.000000     0.000000\n",
       "25%       0.045576     0.001996       0.023065     0.222222\n",
       "50%       0.134048     0.005082       0.024382     0.444444\n",
       "75%       0.386059     0.012704       0.027875     0.777778\n",
       "max       1.000000     1.000000       1.000000     1.000000"
      ]
     },
     "execution_count": 84,
     "metadata": {},
     "output_type": "execute_result"
    }
   ],
   "source": [
    "df_minmax_scaled.describe()"
   ]
  },
  {
   "cell_type": "markdown",
   "id": "eea232fd",
   "metadata": {},
   "source": [
    "### As there are no negative values we can perform log transformation on this data to covert it into normal distribution. Also we can see from the standard deviation of the columns. Difference in variance of the columns is less compared to Standard Scaled data."
   ]
  },
  {
   "cell_type": "code",
   "execution_count": 85,
   "id": "d80a8f67",
   "metadata": {},
   "outputs": [],
   "source": [
    "scaled_log_df_clust=np.log(df_minmax_scaled+1) #### If there is any value 0 then the log will be infinity. To avoid this we are adding 1"
   ]
  },
  {
   "cell_type": "code",
   "execution_count": 86,
   "id": "61a49d93",
   "metadata": {},
   "outputs": [
    {
     "data": {
      "text/html": [
       "<div>\n",
       "<style scoped>\n",
       "    .dataframe tbody tr th:only-of-type {\n",
       "        vertical-align: middle;\n",
       "    }\n",
       "\n",
       "    .dataframe tbody tr th {\n",
       "        vertical-align: top;\n",
       "    }\n",
       "\n",
       "    .dataframe thead th {\n",
       "        text-align: right;\n",
       "    }\n",
       "</style>\n",
       "<table border=\"1\" class=\"dataframe\">\n",
       "  <thead>\n",
       "    <tr style=\"text-align: right;\">\n",
       "      <th></th>\n",
       "      <th>Recency</th>\n",
       "      <th>Frequency</th>\n",
       "      <th>MonetaryValue</th>\n",
       "      <th>RFM_Score</th>\n",
       "    </tr>\n",
       "    <tr>\n",
       "      <th>CustomerID</th>\n",
       "      <th></th>\n",
       "      <th></th>\n",
       "      <th></th>\n",
       "      <th></th>\n",
       "    </tr>\n",
       "  </thead>\n",
       "  <tbody>\n",
       "    <tr>\n",
       "      <th>12346.0</th>\n",
       "      <td>0.626641</td>\n",
       "      <td>0.000181</td>\n",
       "      <td>0.021794</td>\n",
       "      <td>0.000000</td>\n",
       "    </tr>\n",
       "    <tr>\n",
       "      <th>12347.0</th>\n",
       "      <td>0.005348</td>\n",
       "      <td>0.023497</td>\n",
       "      <td>0.037384</td>\n",
       "      <td>0.693147</td>\n",
       "    </tr>\n",
       "    <tr>\n",
       "      <th>12348.0</th>\n",
       "      <td>0.183215</td>\n",
       "      <td>0.003442</td>\n",
       "      <td>0.026859</td>\n",
       "      <td>0.367725</td>\n",
       "    </tr>\n",
       "    <tr>\n",
       "      <th>12349.0</th>\n",
       "      <td>0.047129</td>\n",
       "      <td>0.008854</td>\n",
       "      <td>0.028530</td>\n",
       "      <td>0.575364</td>\n",
       "    </tr>\n",
       "    <tr>\n",
       "      <th>12350.0</th>\n",
       "      <td>0.604916</td>\n",
       "      <td>0.001813</td>\n",
       "      <td>0.022866</td>\n",
       "      <td>0.105361</td>\n",
       "    </tr>\n",
       "  </tbody>\n",
       "</table>\n",
       "</div>"
      ],
      "text/plain": [
       "             Recency  Frequency  MonetaryValue  RFM_Score\n",
       "CustomerID                                               \n",
       "12346.0     0.626641   0.000181       0.021794   0.000000\n",
       "12347.0     0.005348   0.023497       0.037384   0.693147\n",
       "12348.0     0.183215   0.003442       0.026859   0.367725\n",
       "12349.0     0.047129   0.008854       0.028530   0.575364\n",
       "12350.0     0.604916   0.001813       0.022866   0.105361"
      ]
     },
     "execution_count": 86,
     "metadata": {},
     "output_type": "execute_result"
    }
   ],
   "source": [
    "scaled_log_df_clust.head()"
   ]
  },
  {
   "cell_type": "code",
   "execution_count": 87,
   "id": "95c53fae",
   "metadata": {},
   "outputs": [
    {
     "data": {
      "image/png": "[encoded data removed]",
      "text/plain": [
       "<Figure size 360x360 with 1 Axes>"
      ]
     },
     "metadata": {
      "needs_background": "light"
     },
     "output_type": "display_data"
    },
    {
     "data": {
      "image/png": "[encoded data removed]",
      "text/plain": [
       "<Figure size 360x360 with 1 Axes>"
      ]
     },
     "metadata": {
      "needs_background": "light"
     },
     "output_type": "display_data"
    },
    {
     "data": {
      "image/png": "[encoded data removed]",
      "text/plain": [
       "<Figure size 360x360 with 1 Axes>"
      ]
     },
     "metadata": {
      "needs_background": "light"
     },
     "output_type": "display_data"
    },
    {
     "data": {
      "image/png": "[encoded data removed]",
      "text/plain": [
       "<Figure size 360x360 with 1 Axes>"
      ]
     },
     "metadata": {
      "needs_background": "light"
     },
     "output_type": "display_data"
    }
   ],
   "source": [
    "for x in scaled_log_df_clust.columns:\n",
    "    sns.displot(scaled_log_df_clust[x])"
   ]
  },
  {
   "cell_type": "code",
   "execution_count": 88,
   "id": "dcdb111f",
   "metadata": {},
   "outputs": [
    {
     "data": {
      "text/html": [
       "<div>\n",
       "<style scoped>\n",
       "    .dataframe tbody tr th:only-of-type {\n",
       "        vertical-align: middle;\n",
       "    }\n",
       "\n",
       "    .dataframe tbody tr th {\n",
       "        vertical-align: top;\n",
       "    }\n",
       "\n",
       "    .dataframe thead th {\n",
       "        text-align: right;\n",
       "    }\n",
       "</style>\n",
       "<table border=\"1\" class=\"dataframe\">\n",
       "  <thead>\n",
       "    <tr style=\"text-align: right;\">\n",
       "      <th></th>\n",
       "      <th>Recency</th>\n",
       "      <th>Frequency</th>\n",
       "      <th>MonetaryValue</th>\n",
       "      <th>RFM_Score</th>\n",
       "    </tr>\n",
       "  </thead>\n",
       "  <tbody>\n",
       "    <tr>\n",
       "      <th>count</th>\n",
       "      <td>4353.000000</td>\n",
       "      <td>4353.000000</td>\n",
       "      <td>4353.000000</td>\n",
       "      <td>4353.000000</td>\n",
       "    </tr>\n",
       "    <tr>\n",
       "      <th>mean</th>\n",
       "      <td>0.200093</td>\n",
       "      <td>0.011202</td>\n",
       "      <td>0.028150</td>\n",
       "      <td>0.383408</td>\n",
       "    </tr>\n",
       "    <tr>\n",
       "      <th>std</th>\n",
       "      <td>0.197625</td>\n",
       "      <td>0.024032</td>\n",
       "      <td>0.022397</td>\n",
       "      <td>0.215720</td>\n",
       "    </tr>\n",
       "    <tr>\n",
       "      <th>min</th>\n",
       "      <td>0.000000</td>\n",
       "      <td>0.000000</td>\n",
       "      <td>0.000000</td>\n",
       "      <td>0.000000</td>\n",
       "    </tr>\n",
       "    <tr>\n",
       "      <th>25%</th>\n",
       "      <td>0.044568</td>\n",
       "      <td>0.001994</td>\n",
       "      <td>0.022803</td>\n",
       "      <td>0.200671</td>\n",
       "    </tr>\n",
       "    <tr>\n",
       "      <th>50%</th>\n",
       "      <td>0.125794</td>\n",
       "      <td>0.005069</td>\n",
       "      <td>0.024090</td>\n",
       "      <td>0.367725</td>\n",
       "    </tr>\n",
       "    <tr>\n",
       "      <th>75%</th>\n",
       "      <td>0.326464</td>\n",
       "      <td>0.012624</td>\n",
       "      <td>0.027494</td>\n",
       "      <td>0.575364</td>\n",
       "    </tr>\n",
       "    <tr>\n",
       "      <th>max</th>\n",
       "      <td>0.693147</td>\n",
       "      <td>0.693147</td>\n",
       "      <td>0.693147</td>\n",
       "      <td>0.693147</td>\n",
       "    </tr>\n",
       "  </tbody>\n",
       "</table>\n",
       "</div>"
      ],
      "text/plain": [
       "           Recency    Frequency  MonetaryValue    RFM_Score\n",
       "count  4353.000000  4353.000000    4353.000000  4353.000000\n",
       "mean      0.200093     0.011202       0.028150     0.383408\n",
       "std       0.197625     0.024032       0.022397     0.215720\n",
       "min       0.000000     0.000000       0.000000     0.000000\n",
       "25%       0.044568     0.001994       0.022803     0.200671\n",
       "50%       0.125794     0.005069       0.024090     0.367725\n",
       "75%       0.326464     0.012624       0.027494     0.575364\n",
       "max       0.693147     0.693147       0.693147     0.693147"
      ]
     },
     "execution_count": 88,
     "metadata": {},
     "output_type": "execute_result"
    }
   ],
   "source": [
    "scaled_log_df_clust.describe()"
   ]
  },
  {
   "cell_type": "markdown",
   "id": "03d29f58",
   "metadata": {},
   "source": [
    "### Comparison:\n",
    "### Standard Scaled data: Range for minimum and maximum values for all columns is not same (Cannot be used for Clustering)\n",
    "### MinMax scaled data: Range for minimum and maximum values for all columns is same (Can be used for Clustering)\n",
    "### Log of minmax scaled scaled data: Range for minimum and maximum values for all columns is same (Can be used for Clustering)"
   ]
  },
  {
   "cell_type": "markdown",
   "id": "ea9e5617",
   "metadata": {},
   "source": [
    "# We will use MinMax Scaled data for clustersing"
   ]
  },
  {
   "cell_type": "markdown",
   "id": "57b425db",
   "metadata": {},
   "source": [
    "## Applying K means Clustering"
   ]
  },
  {
   "cell_type": "code",
   "execution_count": 89,
   "id": "b7dfc192",
   "metadata": {},
   "outputs": [],
   "source": [
    "from sklearn.cluster import KMeans"
   ]
  },
  {
   "cell_type": "code",
   "execution_count": 90,
   "id": "3bd4f38d",
   "metadata": {},
   "outputs": [],
   "source": [
    "k_means=KMeans(n_clusters=10)"
   ]
  },
  {
   "cell_type": "markdown",
   "id": "aadf0f88",
   "metadata": {},
   "source": [
    "## 1.Clustering on MinMax scaled data"
   ]
  },
  {
   "cell_type": "code",
   "execution_count": 91,
   "id": "3f07854c",
   "metadata": {},
   "outputs": [
    {
     "data": {
      "text/html": [
       "<div>\n",
       "<style scoped>\n",
       "    .dataframe tbody tr th:only-of-type {\n",
       "        vertical-align: middle;\n",
       "    }\n",
       "\n",
       "    .dataframe tbody tr th {\n",
       "        vertical-align: top;\n",
       "    }\n",
       "\n",
       "    .dataframe thead th {\n",
       "        text-align: right;\n",
       "    }\n",
       "</style>\n",
       "<table border=\"1\" class=\"dataframe\">\n",
       "  <thead>\n",
       "    <tr style=\"text-align: right;\">\n",
       "      <th></th>\n",
       "      <th>Recency</th>\n",
       "      <th>Frequency</th>\n",
       "      <th>MonetaryValue</th>\n",
       "      <th>RFM_Score</th>\n",
       "    </tr>\n",
       "    <tr>\n",
       "      <th>CustomerID</th>\n",
       "      <th></th>\n",
       "      <th></th>\n",
       "      <th></th>\n",
       "      <th></th>\n",
       "    </tr>\n",
       "  </thead>\n",
       "  <tbody>\n",
       "    <tr>\n",
       "      <th>12346.0</th>\n",
       "      <td>0.871314</td>\n",
       "      <td>0.000181</td>\n",
       "      <td>0.022033</td>\n",
       "      <td>0.000000</td>\n",
       "    </tr>\n",
       "    <tr>\n",
       "      <th>12347.0</th>\n",
       "      <td>0.005362</td>\n",
       "      <td>0.023775</td>\n",
       "      <td>0.038092</td>\n",
       "      <td>1.000000</td>\n",
       "    </tr>\n",
       "    <tr>\n",
       "      <th>12348.0</th>\n",
       "      <td>0.201072</td>\n",
       "      <td>0.003448</td>\n",
       "      <td>0.027223</td>\n",
       "      <td>0.444444</td>\n",
       "    </tr>\n",
       "    <tr>\n",
       "      <th>12349.0</th>\n",
       "      <td>0.048257</td>\n",
       "      <td>0.008893</td>\n",
       "      <td>0.028941</td>\n",
       "      <td>0.777778</td>\n",
       "    </tr>\n",
       "    <tr>\n",
       "      <th>12350.0</th>\n",
       "      <td>0.831099</td>\n",
       "      <td>0.001815</td>\n",
       "      <td>0.023129</td>\n",
       "      <td>0.111111</td>\n",
       "    </tr>\n",
       "  </tbody>\n",
       "</table>\n",
       "</div>"
      ],
      "text/plain": [
       "             Recency  Frequency  MonetaryValue  RFM_Score\n",
       "CustomerID                                               \n",
       "12346.0     0.871314   0.000181       0.022033   0.000000\n",
       "12347.0     0.005362   0.023775       0.038092   1.000000\n",
       "12348.0     0.201072   0.003448       0.027223   0.444444\n",
       "12349.0     0.048257   0.008893       0.028941   0.777778\n",
       "12350.0     0.831099   0.001815       0.023129   0.111111"
      ]
     },
     "execution_count": 91,
     "metadata": {},
     "output_type": "execute_result"
    }
   ],
   "source": [
    "df_minmax_scaled.head()"
   ]
  },
  {
   "cell_type": "code",
   "execution_count": 92,
   "id": "b198055f",
   "metadata": {},
   "outputs": [],
   "source": [
    "df_minmax_scaled.drop('RFM_Score',axis=1,inplace=True)"
   ]
  },
  {
   "cell_type": "code",
   "execution_count": 93,
   "id": "f334b094",
   "metadata": {},
   "outputs": [
    {
     "data": {
      "text/html": [
       "<div>\n",
       "<style scoped>\n",
       "    .dataframe tbody tr th:only-of-type {\n",
       "        vertical-align: middle;\n",
       "    }\n",
       "\n",
       "    .dataframe tbody tr th {\n",
       "        vertical-align: top;\n",
       "    }\n",
       "\n",
       "    .dataframe thead th {\n",
       "        text-align: right;\n",
       "    }\n",
       "</style>\n",
       "<table border=\"1\" class=\"dataframe\">\n",
       "  <thead>\n",
       "    <tr style=\"text-align: right;\">\n",
       "      <th></th>\n",
       "      <th>Recency</th>\n",
       "      <th>Frequency</th>\n",
       "      <th>MonetaryValue</th>\n",
       "    </tr>\n",
       "    <tr>\n",
       "      <th>CustomerID</th>\n",
       "      <th></th>\n",
       "      <th></th>\n",
       "      <th></th>\n",
       "    </tr>\n",
       "  </thead>\n",
       "  <tbody>\n",
       "    <tr>\n",
       "      <th>12346.0</th>\n",
       "      <td>0.871314</td>\n",
       "      <td>0.000181</td>\n",
       "      <td>0.022033</td>\n",
       "    </tr>\n",
       "    <tr>\n",
       "      <th>12347.0</th>\n",
       "      <td>0.005362</td>\n",
       "      <td>0.023775</td>\n",
       "      <td>0.038092</td>\n",
       "    </tr>\n",
       "    <tr>\n",
       "      <th>12348.0</th>\n",
       "      <td>0.201072</td>\n",
       "      <td>0.003448</td>\n",
       "      <td>0.027223</td>\n",
       "    </tr>\n",
       "    <tr>\n",
       "      <th>12349.0</th>\n",
       "      <td>0.048257</td>\n",
       "      <td>0.008893</td>\n",
       "      <td>0.028941</td>\n",
       "    </tr>\n",
       "    <tr>\n",
       "      <th>12350.0</th>\n",
       "      <td>0.831099</td>\n",
       "      <td>0.001815</td>\n",
       "      <td>0.023129</td>\n",
       "    </tr>\n",
       "  </tbody>\n",
       "</table>\n",
       "</div>"
      ],
      "text/plain": [
       "             Recency  Frequency  MonetaryValue\n",
       "CustomerID                                    \n",
       "12346.0     0.871314   0.000181       0.022033\n",
       "12347.0     0.005362   0.023775       0.038092\n",
       "12348.0     0.201072   0.003448       0.027223\n",
       "12349.0     0.048257   0.008893       0.028941\n",
       "12350.0     0.831099   0.001815       0.023129"
      ]
     },
     "execution_count": 93,
     "metadata": {},
     "output_type": "execute_result"
    }
   ],
   "source": [
    "df_minmax_scaled.head()"
   ]
  },
  {
   "cell_type": "code",
   "execution_count": 94,
   "id": "fcbe63d9",
   "metadata": {},
   "outputs": [
    {
     "data": {
      "text/html": [
       "<style>#sk-container-id-1 {color: black;background-color: white;}#sk-container-id-1 pre{padding: 0;}#sk-container-id-1 div.sk-toggleable {background-color: white;}#sk-container-id-1 label.sk-toggleable__label {cursor: pointer;display: block;width: 100%;margin-bottom: 0;padding: 0.3em;box-sizing: border-box;text-align: center;}#sk-container-id-1 label.sk-toggleable__label-arrow:before {content: \"▸\";float: left;margin-right: 0.25em;color: #696969;}#sk-container-id-1 label.sk-toggleable__label-arrow:hover:before {color: black;}#sk-container-id-1 div.sk-estimator:hover label.sk-toggleable__label-arrow:before {color: black;}#sk-container-id-1 div.sk-toggleable__content {max-height: 0;max-width: 0;overflow: hidden;text-align: left;background-color: #f0f8ff;}#sk-container-id-1 div.sk-toggleable__content pre {margin: 0.2em;color: black;border-radius: 0.25em;background-color: #f0f8ff;}#sk-container-id-1 input.sk-toggleable__control:checked~div.sk-toggleable__content {max-height: 200px;max-width: 100%;overflow: auto;}#sk-container-id-1 input.sk-toggleable__control:checked~label.sk-toggleable__label-arrow:before {content: \"▾\";}#sk-container-id-1 div.sk-estimator input.sk-toggleable__control:checked~label.sk-toggleable__label {background-color: #d4ebff;}#sk-container-id-1 div.sk-label input.sk-toggleable__control:checked~label.sk-toggleable__label {background-color: #d4ebff;}#sk-container-id-1 input.sk-hidden--visually {border: 0;clip: rect(1px 1px 1px 1px);clip: rect(1px, 1px, 1px, 1px);height: 1px;margin: -1px;overflow: hidden;padding: 0;position: absolute;width: 1px;}#sk-container-id-1 div.sk-estimator {font-family: monospace;background-color: #f0f8ff;border: 1px dotted black;border-radius: 0.25em;box-sizing: border-box;margin-bottom: 0.5em;}#sk-container-id-1 div.sk-estimator:hover {background-color: #d4ebff;}#sk-container-id-1 div.sk-parallel-item::after {content: \"\";width: 100%;border-bottom: 1px solid gray;flex-grow: 1;}#sk-container-id-1 div.sk-label:hover label.sk-toggleable__label {background-color: #d4ebff;}#sk-container-id-1 div.sk-serial::before {content: \"\";position: absolute;border-left: 1px solid gray;box-sizing: border-box;top: 0;bottom: 0;left: 50%;z-index: 0;}#sk-container-id-1 div.sk-serial {display: flex;flex-direction: column;align-items: center;background-color: white;padding-right: 0.2em;padding-left: 0.2em;position: relative;}#sk-container-id-1 div.sk-item {position: relative;z-index: 1;}#sk-container-id-1 div.sk-parallel {display: flex;align-items: stretch;justify-content: center;background-color: white;position: relative;}#sk-container-id-1 div.sk-item::before, #sk-container-id-1 div.sk-parallel-item::before {content: \"\";position: absolute;border-left: 1px solid gray;box-sizing: border-box;top: 0;bottom: 0;left: 50%;z-index: -1;}#sk-container-id-1 div.sk-parallel-item {display: flex;flex-direction: column;z-index: 1;position: relative;background-color: white;}#sk-container-id-1 div.sk-parallel-item:first-child::after {align-self: flex-end;width: 50%;}#sk-container-id-1 div.sk-parallel-item:last-child::after {align-self: flex-start;width: 50%;}#sk-container-id-1 div.sk-parallel-item:only-child::after {width: 0;}#sk-container-id-1 div.sk-dashed-wrapped {border: 1px dashed gray;margin: 0 0.4em 0.5em 0.4em;box-sizing: border-box;padding-bottom: 0.4em;background-color: white;}#sk-container-id-1 div.sk-label label {font-family: monospace;font-weight: bold;display: inline-block;line-height: 1.2em;}#sk-container-id-1 div.sk-label-container {text-align: center;}#sk-container-id-1 div.sk-container {/* jupyter's `normalize.less` sets `[hidden] { display: none; }` but bootstrap.min.css set `[hidden] { display: none !important; }` so we also need the `!important` here to be able to override the default hidden behavior on the sphinx rendered scikit-learn.org. See: https://github.com/scikit-learn/scikit-learn/issues/21755 */display: inline-block !important;position: relative;}#sk-container-id-1 div.sk-text-repr-fallback {display: none;}</style><div id=\"sk-container-id-1\" class=\"sk-top-container\"><div class=\"sk-text-repr-fallback\"><pre>KMeans(n_clusters=10)</pre><b>In a Jupyter environment, please rerun this cell to show the HTML representation or trust the notebook. <br />On GitHub, the HTML representation is unable to render, please try loading this page with nbviewer.org.</b></div><div class=\"sk-container\" hidden><div class=\"sk-item\"><div class=\"sk-estimator sk-toggleable\"><input class=\"sk-toggleable__control sk-hidden--visually\" id=\"sk-estimator-id-1\" type=\"checkbox\" checked><label for=\"sk-estimator-id-1\" class=\"sk-toggleable__label sk-toggleable__label-arrow\">KMeans</label><div class=\"sk-toggleable__content\"><pre>KMeans(n_clusters=10)</pre></div></div></div></div></div>"
      ],
      "text/plain": [
       "KMeans(n_clusters=10)"
      ]
     },
     "execution_count": 94,
     "metadata": {},
     "output_type": "execute_result"
    }
   ],
   "source": [
    "#Creating the Model \n",
    "model = k_means.fit(df_minmax_scaled)\n",
    "model"
   ]
  },
  {
   "cell_type": "code",
   "execution_count": 95,
   "id": "25ffd674",
   "metadata": {},
   "outputs": [],
   "source": [
    "#Generate cluster predictions\n",
    "Clusters = k_means.predict(df_minmax_scaled)"
   ]
  },
  {
   "cell_type": "code",
   "execution_count": 96,
   "id": "b79e52d5",
   "metadata": {},
   "outputs": [
    {
     "data": {
      "text/plain": [
       "array([7, 0, 6, ..., 0, 0, 2])"
      ]
     },
     "execution_count": 96,
     "metadata": {},
     "output_type": "execute_result"
    }
   ],
   "source": [
    "Clusters"
   ]
  },
  {
   "cell_type": "code",
   "execution_count": 97,
   "id": "ecf09a18",
   "metadata": {},
   "outputs": [],
   "source": [
    "###Adding cluster labels to dataframe\n",
    "df_minmax_scaled['Clusters']=Clusters"
   ]
  },
  {
   "cell_type": "code",
   "execution_count": 98,
   "id": "91e8ab3f",
   "metadata": {},
   "outputs": [
    {
     "data": {
      "text/html": [
       "<div>\n",
       "<style scoped>\n",
       "    .dataframe tbody tr th:only-of-type {\n",
       "        vertical-align: middle;\n",
       "    }\n",
       "\n",
       "    .dataframe tbody tr th {\n",
       "        vertical-align: top;\n",
       "    }\n",
       "\n",
       "    .dataframe thead th {\n",
       "        text-align: right;\n",
       "    }\n",
       "</style>\n",
       "<table border=\"1\" class=\"dataframe\">\n",
       "  <thead>\n",
       "    <tr style=\"text-align: right;\">\n",
       "      <th></th>\n",
       "      <th>Recency</th>\n",
       "      <th>Frequency</th>\n",
       "      <th>MonetaryValue</th>\n",
       "      <th>Clusters</th>\n",
       "    </tr>\n",
       "    <tr>\n",
       "      <th>CustomerID</th>\n",
       "      <th></th>\n",
       "      <th></th>\n",
       "      <th></th>\n",
       "      <th></th>\n",
       "    </tr>\n",
       "  </thead>\n",
       "  <tbody>\n",
       "    <tr>\n",
       "      <th>12346.0</th>\n",
       "      <td>0.871314</td>\n",
       "      <td>0.000181</td>\n",
       "      <td>0.022033</td>\n",
       "      <td>7</td>\n",
       "    </tr>\n",
       "    <tr>\n",
       "      <th>12347.0</th>\n",
       "      <td>0.005362</td>\n",
       "      <td>0.023775</td>\n",
       "      <td>0.038092</td>\n",
       "      <td>0</td>\n",
       "    </tr>\n",
       "    <tr>\n",
       "      <th>12348.0</th>\n",
       "      <td>0.201072</td>\n",
       "      <td>0.003448</td>\n",
       "      <td>0.027223</td>\n",
       "      <td>6</td>\n",
       "    </tr>\n",
       "    <tr>\n",
       "      <th>12349.0</th>\n",
       "      <td>0.048257</td>\n",
       "      <td>0.008893</td>\n",
       "      <td>0.028941</td>\n",
       "      <td>0</td>\n",
       "    </tr>\n",
       "    <tr>\n",
       "      <th>12350.0</th>\n",
       "      <td>0.831099</td>\n",
       "      <td>0.001815</td>\n",
       "      <td>0.023129</td>\n",
       "      <td>7</td>\n",
       "    </tr>\n",
       "    <tr>\n",
       "      <th>12352.0</th>\n",
       "      <td>0.096515</td>\n",
       "      <td>0.011615</td>\n",
       "      <td>0.029582</td>\n",
       "      <td>2</td>\n",
       "    </tr>\n",
       "    <tr>\n",
       "      <th>12353.0</th>\n",
       "      <td>0.546917</td>\n",
       "      <td>0.000363</td>\n",
       "      <td>0.022400</td>\n",
       "      <td>5</td>\n",
       "    </tr>\n",
       "    <tr>\n",
       "      <th>12354.0</th>\n",
       "      <td>0.621984</td>\n",
       "      <td>0.008348</td>\n",
       "      <td>0.026391</td>\n",
       "      <td>1</td>\n",
       "    </tr>\n",
       "    <tr>\n",
       "      <th>12355.0</th>\n",
       "      <td>0.573727</td>\n",
       "      <td>0.001452</td>\n",
       "      <td>0.023939</td>\n",
       "      <td>1</td>\n",
       "    </tr>\n",
       "    <tr>\n",
       "      <th>12356.0</th>\n",
       "      <td>0.058981</td>\n",
       "      <td>0.008167</td>\n",
       "      <td>0.032723</td>\n",
       "      <td>0</td>\n",
       "    </tr>\n",
       "  </tbody>\n",
       "</table>\n",
       "</div>"
      ],
      "text/plain": [
       "             Recency  Frequency  MonetaryValue  Clusters\n",
       "CustomerID                                              \n",
       "12346.0     0.871314   0.000181       0.022033         7\n",
       "12347.0     0.005362   0.023775       0.038092         0\n",
       "12348.0     0.201072   0.003448       0.027223         6\n",
       "12349.0     0.048257   0.008893       0.028941         0\n",
       "12350.0     0.831099   0.001815       0.023129         7\n",
       "12352.0     0.096515   0.011615       0.029582         2\n",
       "12353.0     0.546917   0.000363       0.022400         5\n",
       "12354.0     0.621984   0.008348       0.026391         1\n",
       "12355.0     0.573727   0.001452       0.023939         1\n",
       "12356.0     0.058981   0.008167       0.032723         0"
      ]
     },
     "execution_count": 98,
     "metadata": {},
     "output_type": "execute_result"
    }
   ],
   "source": [
    "df_minmax_scaled.head(10)"
   ]
  },
  {
   "cell_type": "code",
   "execution_count": 99,
   "id": "3fb9a66d",
   "metadata": {},
   "outputs": [],
   "source": [
    "from sklearn import metrics"
   ]
  },
  {
   "cell_type": "code",
   "execution_count": 100,
   "id": "a0775727",
   "metadata": {},
   "outputs": [
    {
     "data": {
      "text/plain": [
       "0.9605156475697992"
      ]
     },
     "execution_count": 100,
     "metadata": {},
     "output_type": "execute_result"
    }
   ],
   "source": [
    "labels = k_means.labels_\n",
    "metrics.silhouette_score(df_minmax_scaled, labels, metric = 'euclidean')"
   ]
  },
  {
   "cell_type": "code",
   "execution_count": 101,
   "id": "6178fb04",
   "metadata": {},
   "outputs": [
    {
     "data": {
      "text/plain": [
       "array([7, 0, 6, ..., 0, 0, 2])"
      ]
     },
     "execution_count": 101,
     "metadata": {},
     "output_type": "execute_result"
    }
   ],
   "source": [
    "labels"
   ]
  },
  {
   "cell_type": "markdown",
   "id": "1c17bb35",
   "metadata": {},
   "source": [
    "#### Note: for Silhouette_score ranges between -1 to 1\n",
    "#### SC near to 1 is expected "
   ]
  },
  {
   "cell_type": "markdown",
   "id": "f31cb446",
   "metadata": {},
   "source": [
    "## Elbow Method to find Optimum number of Clusters"
   ]
  },
  {
   "cell_type": "code",
   "execution_count": 102,
   "id": "db36a707",
   "metadata": {},
   "outputs": [],
   "source": [
    "### Elbow curve with Inertia (Sum of squared distances from cluster centroids)\n",
    "sum_of_squared_distances = []\n",
    "K = range(1,10)\n",
    "for k in K:\n",
    "    k_means = KMeans(n_clusters=k)\n",
    "    model = k_means.fit(df_minmax_scaled)\n",
    "    sum_of_squared_distances.append(k_means.inertia_)\n"
   ]
  },
  {
   "cell_type": "code",
   "execution_count": 103,
   "id": "2de4ced0",
   "metadata": {},
   "outputs": [
    {
     "data": {
      "image/png": "[encoded data removed]",
      "text/plain": [
       "<Figure size 432x288 with 1 Axes>"
      ]
     },
     "metadata": {
      "needs_background": "light"
     },
     "output_type": "display_data"
    }
   ],
   "source": [
    "### Plot Elbow Curve\n",
    "plt.plot(K, sum_of_squared_distances, 'bx-')\n",
    "plt.xlabel('k')\n",
    "plt.ylabel('sum_of_squared_distances')\n",
    "plt.title('elbow method for optimal k')\n",
    "plt.show()"
   ]
  },
  {
   "cell_type": "markdown",
   "id": "dbfab767",
   "metadata": {},
   "source": [
    "### From the Elbow curve it can be seen that number of clusters to be selected should be 3. This is because change in sum of sqaured distances is less after 3 clusters. "
   ]
  },
  {
   "cell_type": "code",
   "execution_count": 104,
   "id": "bb0d4db9",
   "metadata": {},
   "outputs": [],
   "source": [
    "### Finding Silhouette_score for k=2 to 8\n",
    "Silhouette_score=[]\n",
    "for i in range(2,10):\n",
    "    k_means=KMeans(n_clusters=i,random_state=45)\n",
    "    model = k_means.fit(df_minmax_scaled)\n",
    "    Clusters = k_means.predict(df_minmax_scaled)\n",
    "    log_df_clust['Clusters']=Clusters\n",
    "    labels = k_means.labels_\n",
    "    SC=metrics.silhouette_score(df_minmax_scaled, labels, metric = 'euclidean')\n",
    "    Silhouette_score.append(SC)\n"
   ]
  },
  {
   "cell_type": "code",
   "execution_count": 105,
   "id": "1816047f",
   "metadata": {},
   "outputs": [
    {
     "data": {
      "text/plain": [
       "[0.7242654048208299,\n",
       " 0.749806284227824,\n",
       " 0.7384099144490536,\n",
       " 0.7756785987048143,\n",
       " 0.8487913130288676,\n",
       " 0.9092918432690071,\n",
       " 0.9566116378985063,\n",
       " 0.9600547932368826]"
      ]
     },
     "execution_count": 105,
     "metadata": {},
     "output_type": "execute_result"
    }
   ],
   "source": [
    "Silhouette_score"
   ]
  },
  {
   "cell_type": "code",
   "execution_count": 106,
   "id": "7a2e5a3b",
   "metadata": {},
   "outputs": [
    {
     "data": {
      "text/plain": [
       "<AxesSubplot:xlabel='Clusters', ylabel='count'>"
      ]
     },
     "execution_count": 106,
     "metadata": {},
     "output_type": "execute_result"
    },
    {
     "data": {
      "image/png": "[encoded data removed]",
      "text/plain": [
       "<Figure size 432x288 with 1 Axes>"
      ]
     },
     "metadata": {
      "needs_background": "light"
     },
     "output_type": "display_data"
    }
   ],
   "source": [
    "## k=5\n",
    "k_means=KMeans(n_clusters=5,random_state=45)\n",
    "model = k_means.fit(df_minmax_scaled)\n",
    "Clusters = k_means.predict(df_minmax_scaled)\n",
    "df_minmax_scaled['Clusters']=Clusters\n",
    "sns.countplot(x=\"Clusters\", data=df_minmax_scaled)"
   ]
  },
  {
   "cell_type": "code",
   "execution_count": 107,
   "id": "65c70f94",
   "metadata": {},
   "outputs": [
    {
     "data": {
      "text/plain": [
       "<AxesSubplot:xlabel='Clusters', ylabel='count'>"
      ]
     },
     "execution_count": 107,
     "metadata": {},
     "output_type": "execute_result"
    },
    {
     "data": {
      "image/png": "[encoded data removed]",
      "text/plain": [
       "<Figure size 432x288 with 1 Axes>"
      ]
     },
     "metadata": {
      "needs_background": "light"
     },
     "output_type": "display_data"
    }
   ],
   "source": [
    "## k=6\n",
    "k_means=KMeans(n_clusters=6,random_state=45)\n",
    "model = k_means.fit(df_minmax_scaled)\n",
    "Clusters = k_means.predict(df_minmax_scaled)\n",
    "df_minmax_scaled['Clusters']=Clusters\n",
    "sns.countplot(x=\"Clusters\", data=df_minmax_scaled)"
   ]
  },
  {
   "cell_type": "code",
   "execution_count": 108,
   "id": "ea746c71",
   "metadata": {},
   "outputs": [
    {
     "data": {
      "text/plain": [
       "<AxesSubplot:xlabel='Clusters', ylabel='count'>"
      ]
     },
     "execution_count": 108,
     "metadata": {},
     "output_type": "execute_result"
    },
    {
     "data": {
      "image/png": "[encoded data removed]",
      "text/plain": [
       "<Figure size 432x288 with 1 Axes>"
      ]
     },
     "metadata": {
      "needs_background": "light"
     },
     "output_type": "display_data"
    }
   ],
   "source": [
    "## K=7\n",
    "k_means=KMeans(n_clusters=7,random_state=45)\n",
    "model = k_means.fit(df_minmax_scaled)\n",
    "Clusters = k_means.predict(df_minmax_scaled)\n",
    "df_minmax_scaled['Clusters']=Clusters\n",
    "sns.countplot(x=\"Clusters\", data=df_minmax_scaled)"
   ]
  },
  {
   "cell_type": "code",
   "execution_count": 109,
   "id": "d0120148",
   "metadata": {},
   "outputs": [
    {
     "data": {
      "text/plain": [
       "<AxesSubplot:xlabel='Clusters', ylabel='count'>"
      ]
     },
     "execution_count": 109,
     "metadata": {},
     "output_type": "execute_result"
    },
    {
     "data": {
      "image/png": "[encoded data removed]",
      "text/plain": [
       "<Figure size 432x288 with 1 Axes>"
      ]
     },
     "metadata": {
      "needs_background": "light"
     },
     "output_type": "display_data"
    }
   ],
   "source": [
    "## K=4\n",
    "k_means=KMeans(n_clusters=4,random_state=45)\n",
    "model = k_means.fit(df_minmax_scaled)\n",
    "Clusters = k_means.predict(df_minmax_scaled)\n",
    "df_minmax_scaled['Clusters']=Clusters\n",
    "sns.countplot(x=\"Clusters\", data=df_minmax_scaled)"
   ]
  },
  {
   "cell_type": "code",
   "execution_count": 110,
   "id": "7daad06c",
   "metadata": {},
   "outputs": [
    {
     "data": {
      "text/plain": [
       "<AxesSubplot:xlabel='Clusters', ylabel='count'>"
      ]
     },
     "execution_count": 110,
     "metadata": {},
     "output_type": "execute_result"
    },
    {
     "data": {
      "image/png": "[encoded data removed]",
      "text/plain": [
       "<Figure size 432x288 with 1 Axes>"
      ]
     },
     "metadata": {
      "needs_background": "light"
     },
     "output_type": "display_data"
    }
   ],
   "source": [
    "### K=3\n",
    "k_means=KMeans(n_clusters=3,random_state=45)\n",
    "model = k_means.fit(df_minmax_scaled)\n",
    "Clusters = k_means.predict(df_minmax_scaled)\n",
    "df_minmax_scaled['Clusters']=Clusters\n",
    "sns.countplot(x=\"Clusters\", data=df_minmax_scaled)"
   ]
  },
  {
   "cell_type": "markdown",
   "id": "7cbf8be9",
   "metadata": {},
   "source": [
    "### As we can see that in elbow curve, Sum of sqaures shows minimum change after k=3. Also the SC for k=3 is good. The distribution of customers in the clusters is uniform. So we will select the value of k as 3"
   ]
  },
  {
   "cell_type": "code",
   "execution_count": 111,
   "id": "7d9b7bb2",
   "metadata": {},
   "outputs": [
    {
     "data": {
      "text/plain": [
       "<AxesSubplot:xlabel='Clusters', ylabel='count'>"
      ]
     },
     "execution_count": 111,
     "metadata": {},
     "output_type": "execute_result"
    },
    {
     "data": {
      "image/png": "[encoded data removed]",
      "text/plain": [
       "<Figure size 432x288 with 1 Axes>"
      ]
     },
     "metadata": {
      "needs_background": "light"
     },
     "output_type": "display_data"
    }
   ],
   "source": [
    "k_means=KMeans(n_clusters=3,random_state=45)\n",
    "model = k_means.fit(df_minmax_scaled)\n",
    "Clusters = k_means.predict(df_minmax_scaled)\n",
    "df_minmax_scaled['Clusters']=Clusters\n",
    "sns.countplot(x=\"Clusters\", data=df_minmax_scaled)"
   ]
  },
  {
   "cell_type": "code",
   "execution_count": 112,
   "id": "b5e3c3c1",
   "metadata": {},
   "outputs": [
    {
     "data": {
      "text/html": [
       "<div>\n",
       "<style scoped>\n",
       "    .dataframe tbody tr th:only-of-type {\n",
       "        vertical-align: middle;\n",
       "    }\n",
       "\n",
       "    .dataframe tbody tr th {\n",
       "        vertical-align: top;\n",
       "    }\n",
       "\n",
       "    .dataframe thead th {\n",
       "        text-align: right;\n",
       "    }\n",
       "</style>\n",
       "<table border=\"1\" class=\"dataframe\">\n",
       "  <thead>\n",
       "    <tr style=\"text-align: right;\">\n",
       "      <th></th>\n",
       "      <th>Recency</th>\n",
       "      <th>Frequency</th>\n",
       "      <th>MonetaryValue</th>\n",
       "      <th>Clusters</th>\n",
       "    </tr>\n",
       "    <tr>\n",
       "      <th>CustomerID</th>\n",
       "      <th></th>\n",
       "      <th></th>\n",
       "      <th></th>\n",
       "      <th></th>\n",
       "    </tr>\n",
       "  </thead>\n",
       "  <tbody>\n",
       "    <tr>\n",
       "      <th>12346.0</th>\n",
       "      <td>0.871314</td>\n",
       "      <td>0.000181</td>\n",
       "      <td>0.022033</td>\n",
       "      <td>1</td>\n",
       "    </tr>\n",
       "    <tr>\n",
       "      <th>12347.0</th>\n",
       "      <td>0.005362</td>\n",
       "      <td>0.023775</td>\n",
       "      <td>0.038092</td>\n",
       "      <td>2</td>\n",
       "    </tr>\n",
       "    <tr>\n",
       "      <th>12348.0</th>\n",
       "      <td>0.201072</td>\n",
       "      <td>0.003448</td>\n",
       "      <td>0.027223</td>\n",
       "      <td>0</td>\n",
       "    </tr>\n",
       "    <tr>\n",
       "      <th>12349.0</th>\n",
       "      <td>0.048257</td>\n",
       "      <td>0.008893</td>\n",
       "      <td>0.028941</td>\n",
       "      <td>2</td>\n",
       "    </tr>\n",
       "    <tr>\n",
       "      <th>12350.0</th>\n",
       "      <td>0.831099</td>\n",
       "      <td>0.001815</td>\n",
       "      <td>0.023129</td>\n",
       "      <td>1</td>\n",
       "    </tr>\n",
       "    <tr>\n",
       "      <th>...</th>\n",
       "      <td>...</td>\n",
       "      <td>...</td>\n",
       "      <td>...</td>\n",
       "      <td>...</td>\n",
       "    </tr>\n",
       "    <tr>\n",
       "      <th>18280.0</th>\n",
       "      <td>0.742627</td>\n",
       "      <td>0.000726</td>\n",
       "      <td>0.022505</td>\n",
       "      <td>1</td>\n",
       "    </tr>\n",
       "    <tr>\n",
       "      <th>18281.0</th>\n",
       "      <td>0.482574</td>\n",
       "      <td>0.000726</td>\n",
       "      <td>0.022338</td>\n",
       "      <td>0</td>\n",
       "    </tr>\n",
       "    <tr>\n",
       "      <th>18282.0</th>\n",
       "      <td>0.018767</td>\n",
       "      <td>0.001452</td>\n",
       "      <td>0.022641</td>\n",
       "      <td>2</td>\n",
       "    </tr>\n",
       "    <tr>\n",
       "      <th>18283.0</th>\n",
       "      <td>0.008043</td>\n",
       "      <td>0.092559</td>\n",
       "      <td>0.029486</td>\n",
       "      <td>2</td>\n",
       "    </tr>\n",
       "    <tr>\n",
       "      <th>18287.0</th>\n",
       "      <td>0.112601</td>\n",
       "      <td>0.008893</td>\n",
       "      <td>0.029386</td>\n",
       "      <td>1</td>\n",
       "    </tr>\n",
       "  </tbody>\n",
       "</table>\n",
       "<p>4353 rows × 4 columns</p>\n",
       "</div>"
      ],
      "text/plain": [
       "             Recency  Frequency  MonetaryValue  Clusters\n",
       "CustomerID                                              \n",
       "12346.0     0.871314   0.000181       0.022033         1\n",
       "12347.0     0.005362   0.023775       0.038092         2\n",
       "12348.0     0.201072   0.003448       0.027223         0\n",
       "12349.0     0.048257   0.008893       0.028941         2\n",
       "12350.0     0.831099   0.001815       0.023129         1\n",
       "...              ...        ...            ...       ...\n",
       "18280.0     0.742627   0.000726       0.022505         1\n",
       "18281.0     0.482574   0.000726       0.022338         0\n",
       "18282.0     0.018767   0.001452       0.022641         2\n",
       "18283.0     0.008043   0.092559       0.029486         2\n",
       "18287.0     0.112601   0.008893       0.029386         1\n",
       "\n",
       "[4353 rows x 4 columns]"
      ]
     },
     "execution_count": 112,
     "metadata": {},
     "output_type": "execute_result"
    }
   ],
   "source": [
    "df_minmax_scaled"
   ]
  },
  {
   "cell_type": "code",
   "execution_count": 113,
   "id": "bf99cd73",
   "metadata": {},
   "outputs": [],
   "source": [
    "df_clust['Clusters']=df_minmax_scaled['Clusters']"
   ]
  },
  {
   "cell_type": "code",
   "execution_count": 114,
   "id": "e78b89b9",
   "metadata": {},
   "outputs": [
    {
     "data": {
      "text/html": [
       "<div>\n",
       "<style scoped>\n",
       "    .dataframe tbody tr th:only-of-type {\n",
       "        vertical-align: middle;\n",
       "    }\n",
       "\n",
       "    .dataframe tbody tr th {\n",
       "        vertical-align: top;\n",
       "    }\n",
       "\n",
       "    .dataframe thead th {\n",
       "        text-align: right;\n",
       "    }\n",
       "</style>\n",
       "<table border=\"1\" class=\"dataframe\">\n",
       "  <thead>\n",
       "    <tr style=\"text-align: right;\">\n",
       "      <th></th>\n",
       "      <th>Recency</th>\n",
       "      <th>Frequency</th>\n",
       "      <th>MonetaryValue</th>\n",
       "      <th>RFM_Score</th>\n",
       "      <th>Clusters</th>\n",
       "    </tr>\n",
       "    <tr>\n",
       "      <th>CustomerID</th>\n",
       "      <th></th>\n",
       "      <th></th>\n",
       "      <th></th>\n",
       "      <th></th>\n",
       "      <th></th>\n",
       "    </tr>\n",
       "  </thead>\n",
       "  <tbody>\n",
       "    <tr>\n",
       "      <th>12346.0</th>\n",
       "      <td>326</td>\n",
       "      <td>2</td>\n",
       "      <td>0.00</td>\n",
       "      <td>3</td>\n",
       "      <td>1</td>\n",
       "    </tr>\n",
       "    <tr>\n",
       "      <th>12347.0</th>\n",
       "      <td>3</td>\n",
       "      <td>132</td>\n",
       "      <td>3124.96</td>\n",
       "      <td>12</td>\n",
       "      <td>2</td>\n",
       "    </tr>\n",
       "    <tr>\n",
       "      <th>12348.0</th>\n",
       "      <td>76</td>\n",
       "      <td>20</td>\n",
       "      <td>1009.88</td>\n",
       "      <td>7</td>\n",
       "      <td>0</td>\n",
       "    </tr>\n",
       "    <tr>\n",
       "      <th>12349.0</th>\n",
       "      <td>19</td>\n",
       "      <td>50</td>\n",
       "      <td>1344.17</td>\n",
       "      <td>10</td>\n",
       "      <td>2</td>\n",
       "    </tr>\n",
       "    <tr>\n",
       "      <th>12350.0</th>\n",
       "      <td>311</td>\n",
       "      <td>11</td>\n",
       "      <td>213.30</td>\n",
       "      <td>4</td>\n",
       "      <td>1</td>\n",
       "    </tr>\n",
       "    <tr>\n",
       "      <th>...</th>\n",
       "      <td>...</td>\n",
       "      <td>...</td>\n",
       "      <td>...</td>\n",
       "      <td>...</td>\n",
       "      <td>...</td>\n",
       "    </tr>\n",
       "    <tr>\n",
       "      <th>18280.0</th>\n",
       "      <td>278</td>\n",
       "      <td>5</td>\n",
       "      <td>91.70</td>\n",
       "      <td>3</td>\n",
       "      <td>1</td>\n",
       "    </tr>\n",
       "    <tr>\n",
       "      <th>18281.0</th>\n",
       "      <td>181</td>\n",
       "      <td>5</td>\n",
       "      <td>59.28</td>\n",
       "      <td>3</td>\n",
       "      <td>0</td>\n",
       "    </tr>\n",
       "    <tr>\n",
       "      <th>18282.0</th>\n",
       "      <td>8</td>\n",
       "      <td>9</td>\n",
       "      <td>118.16</td>\n",
       "      <td>6</td>\n",
       "      <td>2</td>\n",
       "    </tr>\n",
       "    <tr>\n",
       "      <th>18283.0</th>\n",
       "      <td>4</td>\n",
       "      <td>511</td>\n",
       "      <td>1450.29</td>\n",
       "      <td>12</td>\n",
       "      <td>2</td>\n",
       "    </tr>\n",
       "    <tr>\n",
       "      <th>18287.0</th>\n",
       "      <td>43</td>\n",
       "      <td>50</td>\n",
       "      <td>1430.78</td>\n",
       "      <td>10</td>\n",
       "      <td>1</td>\n",
       "    </tr>\n",
       "  </tbody>\n",
       "</table>\n",
       "<p>4353 rows × 5 columns</p>\n",
       "</div>"
      ],
      "text/plain": [
       "            Recency  Frequency  MonetaryValue  RFM_Score  Clusters\n",
       "CustomerID                                                        \n",
       "12346.0         326          2           0.00          3         1\n",
       "12347.0           3        132        3124.96         12         2\n",
       "12348.0          76         20        1009.88          7         0\n",
       "12349.0          19         50        1344.17         10         2\n",
       "12350.0         311         11         213.30          4         1\n",
       "...             ...        ...            ...        ...       ...\n",
       "18280.0         278          5          91.70          3         1\n",
       "18281.0         181          5          59.28          3         0\n",
       "18282.0           8          9         118.16          6         2\n",
       "18283.0           4        511        1450.29         12         2\n",
       "18287.0          43         50        1430.78         10         1\n",
       "\n",
       "[4353 rows x 5 columns]"
      ]
     },
     "execution_count": 114,
     "metadata": {},
     "output_type": "execute_result"
    }
   ],
   "source": [
    "df_clust"
   ]
  },
  {
   "cell_type": "markdown",
   "id": "af686f61",
   "metadata": {},
   "source": [
    "### Using Elbow Visualizer and Silhouette Visualizer yo optimize the results.\n",
    "### Using Yelllowbrick and Kmeans from Scikit learn"
   ]
  },
  {
   "cell_type": "code",
   "execution_count": 115,
   "id": "5cd14c67",
   "metadata": {},
   "outputs": [],
   "source": [
    "df_minmax_scaled.drop(['Clusters'],axis=1,inplace=True)"
   ]
  },
  {
   "cell_type": "code",
   "execution_count": 116,
   "id": "9ac8888f",
   "metadata": {},
   "outputs": [
    {
     "data": {
      "text/html": [
       "<div>\n",
       "<style scoped>\n",
       "    .dataframe tbody tr th:only-of-type {\n",
       "        vertical-align: middle;\n",
       "    }\n",
       "\n",
       "    .dataframe tbody tr th {\n",
       "        vertical-align: top;\n",
       "    }\n",
       "\n",
       "    .dataframe thead th {\n",
       "        text-align: right;\n",
       "    }\n",
       "</style>\n",
       "<table border=\"1\" class=\"dataframe\">\n",
       "  <thead>\n",
       "    <tr style=\"text-align: right;\">\n",
       "      <th></th>\n",
       "      <th>Recency</th>\n",
       "      <th>Frequency</th>\n",
       "      <th>MonetaryValue</th>\n",
       "    </tr>\n",
       "    <tr>\n",
       "      <th>CustomerID</th>\n",
       "      <th></th>\n",
       "      <th></th>\n",
       "      <th></th>\n",
       "    </tr>\n",
       "  </thead>\n",
       "  <tbody>\n",
       "    <tr>\n",
       "      <th>12346.0</th>\n",
       "      <td>0.871314</td>\n",
       "      <td>0.000181</td>\n",
       "      <td>0.022033</td>\n",
       "    </tr>\n",
       "    <tr>\n",
       "      <th>12347.0</th>\n",
       "      <td>0.005362</td>\n",
       "      <td>0.023775</td>\n",
       "      <td>0.038092</td>\n",
       "    </tr>\n",
       "    <tr>\n",
       "      <th>12348.0</th>\n",
       "      <td>0.201072</td>\n",
       "      <td>0.003448</td>\n",
       "      <td>0.027223</td>\n",
       "    </tr>\n",
       "    <tr>\n",
       "      <th>12349.0</th>\n",
       "      <td>0.048257</td>\n",
       "      <td>0.008893</td>\n",
       "      <td>0.028941</td>\n",
       "    </tr>\n",
       "    <tr>\n",
       "      <th>12350.0</th>\n",
       "      <td>0.831099</td>\n",
       "      <td>0.001815</td>\n",
       "      <td>0.023129</td>\n",
       "    </tr>\n",
       "  </tbody>\n",
       "</table>\n",
       "</div>"
      ],
      "text/plain": [
       "             Recency  Frequency  MonetaryValue\n",
       "CustomerID                                    \n",
       "12346.0     0.871314   0.000181       0.022033\n",
       "12347.0     0.005362   0.023775       0.038092\n",
       "12348.0     0.201072   0.003448       0.027223\n",
       "12349.0     0.048257   0.008893       0.028941\n",
       "12350.0     0.831099   0.001815       0.023129"
      ]
     },
     "execution_count": 116,
     "metadata": {},
     "output_type": "execute_result"
    }
   ],
   "source": [
    "df_minmax_scaled.head()"
   ]
  },
  {
   "cell_type": "code",
   "execution_count": 117,
   "id": "e1d2b0e4",
   "metadata": {},
   "outputs": [
    {
     "name": "stdout",
     "output_type": "stream",
     "text": [
      "Requirement already satisfied: yellowbrick in c:\\users\\pratik shroff\\anaconda3\\lib\\site-packages (1.5)\n",
      "Requirement already satisfied: matplotlib!=3.0.0,>=2.0.2 in c:\\users\\pratik shroff\\anaconda3\\lib\\site-packages (from yellowbrick) (3.3.4)\n",
      "Requirement already satisfied: scikit-learn>=1.0.0 in c:\\users\\pratik shroff\\anaconda3\\lib\\site-packages (from yellowbrick) (1.1.1)\n",
      "Requirement already satisfied: cycler>=0.10.0 in c:\\users\\pratik shroff\\anaconda3\\lib\\site-packages (from yellowbrick) (0.10.0)\n",
      "Requirement already satisfied: scipy>=1.0.0 in c:\\users\\pratik shroff\\anaconda3\\lib\\site-packages (from yellowbrick) (1.6.2)\n",
      "Requirement already satisfied: numpy>=1.16.0 in c:\\users\\pratik shroff\\anaconda3\\lib\\site-packages (from yellowbrick) (1.20.1)\n",
      "Requirement already satisfied: six in c:\\users\\pratik shroff\\anaconda3\\lib\\site-packages (from cycler>=0.10.0->yellowbrick) (1.15.0)\n",
      "Requirement already satisfied: python-dateutil>=2.1 in c:\\users\\pratik shroff\\anaconda3\\lib\\site-packages (from matplotlib!=3.0.0,>=2.0.2->yellowbrick) (2.8.1)\n",
      "Requirement already satisfied: kiwisolver>=1.0.1 in c:\\users\\pratik shroff\\anaconda3\\lib\\site-packages (from matplotlib!=3.0.0,>=2.0.2->yellowbrick) (1.3.1)\n",
      "Requirement already satisfied: pillow>=6.2.0 in c:\\users\\pratik shroff\\anaconda3\\lib\\site-packages (from matplotlib!=3.0.0,>=2.0.2->yellowbrick) (8.2.0)\n",
      "Requirement already satisfied: pyparsing!=2.0.4,!=2.1.2,!=2.1.6,>=2.0.3 in c:\\users\\pratik shroff\\anaconda3\\lib\\site-packages (from matplotlib!=3.0.0,>=2.0.2->yellowbrick) (2.4.7)\n",
      "Requirement already satisfied: joblib>=1.0.0 in c:\\users\\pratik shroff\\anaconda3\\lib\\site-packages (from scikit-learn>=1.0.0->yellowbrick) (1.0.1)\n",
      "Requirement already satisfied: threadpoolctl>=2.0.0 in c:\\users\\pratik shroff\\anaconda3\\lib\\site-packages (from scikit-learn>=1.0.0->yellowbrick) (2.1.0)\n"
     ]
    }
   ],
   "source": [
    "! pip install yellowbrick"
   ]
  },
  {
   "cell_type": "code",
   "execution_count": 118,
   "id": "1bd7a192",
   "metadata": {},
   "outputs": [],
   "source": [
    "from sklearn.cluster import KMeans\n",
    "from yellowbrick.cluster import KElbowVisualizer, SilhouetteVisualizer"
   ]
  },
  {
   "cell_type": "code",
   "execution_count": 119,
   "id": "91532a63",
   "metadata": {},
   "outputs": [
    {
     "data": {
      "image/png": "[encoded data removed]",
      "text/plain": [
       "<Figure size 576x396 with 2 Axes>"
      ]
     },
     "metadata": {},
     "output_type": "display_data"
    },
    {
     "data": {
      "text/plain": [
       "<AxesSubplot:title={'center':'Distortion Score Elbow for KMeans Clustering'}, xlabel='k', ylabel='distortion score'>"
      ]
     },
     "execution_count": 119,
     "metadata": {},
     "output_type": "execute_result"
    }
   ],
   "source": [
    "model = KMeans(random_state=42)\n",
    "\n",
    "elb_visualizer = KElbowVisualizer(model, k=(2,10))\n",
    "elb_visualizer.fit(df_minmax_scaled)    \n",
    "elb_visualizer.show() "
   ]
  },
  {
   "cell_type": "markdown",
   "id": "455c732a",
   "metadata": {},
   "source": [
    "### It is showing that 4 numbers of clusters are optimum\n",
    "### We can see that distortion score is quite less, so the clusters are compact enough."
   ]
  },
  {
   "cell_type": "markdown",
   "id": "4d6dcecf",
   "metadata": {},
   "source": [
    "### Lets validate it by Silhouette Visualizer"
   ]
  },
  {
   "cell_type": "code",
   "execution_count": 120,
   "id": "45b48c4d",
   "metadata": {},
   "outputs": [
    {
     "data": {
      "image/png": "[encoded data removed]",
      "text/plain": [
       "<Figure size 576x396 with 1 Axes>"
      ]
     },
     "metadata": {},
     "output_type": "display_data"
    },
    {
     "data": {
      "text/plain": [
       "<AxesSubplot:title={'center':'Silhouette Plot of KMeans Clustering for 4353 Samples in 4 Centers'}, xlabel='silhouette coefficient values', ylabel='cluster label'>"
      ]
     },
     "execution_count": 120,
     "metadata": {},
     "output_type": "execute_result"
    }
   ],
   "source": [
    "### Number of clusters = 4\n",
    "model_4clust = KMeans(n_clusters = 4, random_state=42)\n",
    "\n",
    "sil_visualizer = SilhouetteVisualizer(model_4clust)\n",
    "sil_visualizer.fit(df_minmax_scaled)    \n",
    "sil_visualizer.show()"
   ]
  },
  {
   "cell_type": "markdown",
   "id": "027796d2",
   "metadata": {},
   "source": [
    "### 1.Silhouette Score is good (Greater than 0.4). \n",
    "### 2.Also the Clusters are not overlapping.\n",
    "### 3.But lets see if distribution of clusters can be improved."
   ]
  },
  {
   "cell_type": "code",
   "execution_count": 121,
   "id": "ce3fb5a7",
   "metadata": {},
   "outputs": [
    {
     "data": {
      "image/png": "[encoded data removed]",
      "text/plain": [
       "<Figure size 576x396 with 1 Axes>"
      ]
     },
     "metadata": {},
     "output_type": "display_data"
    },
    {
     "data": {
      "text/plain": [
       "<AxesSubplot:title={'center':'Silhouette Plot of KMeans Clustering for 4353 Samples in 3 Centers'}, xlabel='silhouette coefficient values', ylabel='cluster label'>"
      ]
     },
     "execution_count": 121,
     "metadata": {},
     "output_type": "execute_result"
    }
   ],
   "source": [
    "### Number of clusters = 3\n",
    "model_3clust = KMeans(n_clusters = 3, random_state=43)\n",
    "\n",
    "sil_visualizer = SilhouetteVisualizer(model_3clust)\n",
    "sil_visualizer.fit(df_minmax_scaled)    \n",
    "sil_visualizer.show()"
   ]
  },
  {
   "cell_type": "markdown",
   "id": "b75e5171",
   "metadata": {},
   "source": [
    "### 1.Silhouette Score is improved.\n",
    "### 2.Also the Clusters are not overlapping.\n",
    "### 3.Distribution of clusters got disturbed."
   ]
  },
  {
   "cell_type": "code",
   "execution_count": 122,
   "id": "4f1458a0",
   "metadata": {},
   "outputs": [
    {
     "data": {
      "image/png": "[encoded data removed]",
      "text/plain": [
       "<Figure size 576x396 with 1 Axes>"
      ]
     },
     "metadata": {},
     "output_type": "display_data"
    },
    {
     "data": {
      "text/plain": [
       "<AxesSubplot:title={'center':'Silhouette Plot of KMeans Clustering for 4353 Samples in 5 Centers'}, xlabel='silhouette coefficient values', ylabel='cluster label'>"
      ]
     },
     "execution_count": 122,
     "metadata": {},
     "output_type": "execute_result"
    }
   ],
   "source": [
    "### Number of clusters = 5\n",
    "model_5clust = KMeans(n_clusters = 5, random_state=43)\n",
    "\n",
    "sil_visualizer = SilhouetteVisualizer(model_5clust)\n",
    "sil_visualizer.fit(df_minmax_scaled)    \n",
    "sil_visualizer.show()"
   ]
  },
  {
   "cell_type": "markdown",
   "id": "4fcc11d1",
   "metadata": {},
   "source": [
    "### 1.Silhouette Score is good (Greater than 0.4). \n",
    "### 2.Clusters are not overlapping.\n",
    "### 3. Cluster Distribution is disturbed."
   ]
  },
  {
   "cell_type": "code",
   "execution_count": 123,
   "id": "890b828b",
   "metadata": {},
   "outputs": [
    {
     "data": {
      "image/png": "[encoded data removed]",
      "text/plain": [
       "<Figure size 576x396 with 1 Axes>"
      ]
     },
     "metadata": {},
     "output_type": "display_data"
    },
    {
     "data": {
      "text/plain": [
       "<AxesSubplot:title={'center':'Silhouette Plot of KMeans Clustering for 4353 Samples in 6 Centers'}, xlabel='silhouette coefficient values', ylabel='cluster label'>"
      ]
     },
     "execution_count": 123,
     "metadata": {},
     "output_type": "execute_result"
    }
   ],
   "source": [
    "### Number of clusters = 6\n",
    "model_6clust = KMeans(n_clusters = 6, random_state=43)\n",
    "\n",
    "sil_visualizer = SilhouetteVisualizer(model_6clust)\n",
    "sil_visualizer.fit(df_minmax_scaled)    \n",
    "sil_visualizer.show()"
   ]
  },
  {
   "cell_type": "markdown",
   "id": "5192b83a",
   "metadata": {},
   "source": [
    "### 1.Silhouette Score is good (Greater than 0.4). \n",
    "### 2.Clusters are not overlapping.\n",
    "### 3.Cluster Distribution is disturbed."
   ]
  },
  {
   "cell_type": "markdown",
   "id": "96ab73f6",
   "metadata": {},
   "source": [
    "# K=4 gives good results for Silhouette Coefficient and distribution of Clusters. So we will go with K=4."
   ]
  },
  {
   "cell_type": "code",
   "execution_count": 124,
   "id": "3cf206a5",
   "metadata": {},
   "outputs": [],
   "source": [
    "## K=4\n",
    "k_means=KMeans(n_clusters=4,random_state=45)\n",
    "model = k_means.fit(df_minmax_scaled)\n",
    "Clusters = k_means.predict(df_minmax_scaled)\n",
    "df_minmax_scaled['Clusters']=Clusters"
   ]
  },
  {
   "cell_type": "code",
   "execution_count": 125,
   "id": "7f1f3445",
   "metadata": {},
   "outputs": [
    {
     "data": {
      "text/html": [
       "<div>\n",
       "<style scoped>\n",
       "    .dataframe tbody tr th:only-of-type {\n",
       "        vertical-align: middle;\n",
       "    }\n",
       "\n",
       "    .dataframe tbody tr th {\n",
       "        vertical-align: top;\n",
       "    }\n",
       "\n",
       "    .dataframe thead th {\n",
       "        text-align: right;\n",
       "    }\n",
       "</style>\n",
       "<table border=\"1\" class=\"dataframe\">\n",
       "  <thead>\n",
       "    <tr style=\"text-align: right;\">\n",
       "      <th></th>\n",
       "      <th>Recency</th>\n",
       "      <th>Frequency</th>\n",
       "      <th>MonetaryValue</th>\n",
       "      <th>Clusters</th>\n",
       "    </tr>\n",
       "    <tr>\n",
       "      <th>CustomerID</th>\n",
       "      <th></th>\n",
       "      <th></th>\n",
       "      <th></th>\n",
       "      <th></th>\n",
       "    </tr>\n",
       "  </thead>\n",
       "  <tbody>\n",
       "    <tr>\n",
       "      <th>12346.0</th>\n",
       "      <td>0.871314</td>\n",
       "      <td>0.000181</td>\n",
       "      <td>0.022033</td>\n",
       "      <td>1</td>\n",
       "    </tr>\n",
       "    <tr>\n",
       "      <th>12347.0</th>\n",
       "      <td>0.005362</td>\n",
       "      <td>0.023775</td>\n",
       "      <td>0.038092</td>\n",
       "      <td>0</td>\n",
       "    </tr>\n",
       "    <tr>\n",
       "      <th>12348.0</th>\n",
       "      <td>0.201072</td>\n",
       "      <td>0.003448</td>\n",
       "      <td>0.027223</td>\n",
       "      <td>3</td>\n",
       "    </tr>\n",
       "    <tr>\n",
       "      <th>12349.0</th>\n",
       "      <td>0.048257</td>\n",
       "      <td>0.008893</td>\n",
       "      <td>0.028941</td>\n",
       "      <td>0</td>\n",
       "    </tr>\n",
       "    <tr>\n",
       "      <th>12350.0</th>\n",
       "      <td>0.831099</td>\n",
       "      <td>0.001815</td>\n",
       "      <td>0.023129</td>\n",
       "      <td>1</td>\n",
       "    </tr>\n",
       "  </tbody>\n",
       "</table>\n",
       "</div>"
      ],
      "text/plain": [
       "             Recency  Frequency  MonetaryValue  Clusters\n",
       "CustomerID                                              \n",
       "12346.0     0.871314   0.000181       0.022033         1\n",
       "12347.0     0.005362   0.023775       0.038092         0\n",
       "12348.0     0.201072   0.003448       0.027223         3\n",
       "12349.0     0.048257   0.008893       0.028941         0\n",
       "12350.0     0.831099   0.001815       0.023129         1"
      ]
     },
     "execution_count": 125,
     "metadata": {},
     "output_type": "execute_result"
    }
   ],
   "source": [
    "df_minmax_scaled.head()"
   ]
  },
  {
   "cell_type": "markdown",
   "id": "783f2309",
   "metadata": {},
   "source": [
    "## Inserting Cluster column into original RFM dataset"
   ]
  },
  {
   "cell_type": "code",
   "execution_count": 126,
   "id": "180e3ccb",
   "metadata": {},
   "outputs": [],
   "source": [
    "df_clust['Clusters']=df_minmax_scaled['Clusters']"
   ]
  },
  {
   "cell_type": "code",
   "execution_count": 127,
   "id": "21df780e",
   "metadata": {},
   "outputs": [
    {
     "data": {
      "text/html": [
       "<div>\n",
       "<style scoped>\n",
       "    .dataframe tbody tr th:only-of-type {\n",
       "        vertical-align: middle;\n",
       "    }\n",
       "\n",
       "    .dataframe tbody tr th {\n",
       "        vertical-align: top;\n",
       "    }\n",
       "\n",
       "    .dataframe thead th {\n",
       "        text-align: right;\n",
       "    }\n",
       "</style>\n",
       "<table border=\"1\" class=\"dataframe\">\n",
       "  <thead>\n",
       "    <tr style=\"text-align: right;\">\n",
       "      <th></th>\n",
       "      <th>Recency</th>\n",
       "      <th>Frequency</th>\n",
       "      <th>MonetaryValue</th>\n",
       "      <th>RFM_Score</th>\n",
       "      <th>Clusters</th>\n",
       "    </tr>\n",
       "    <tr>\n",
       "      <th>CustomerID</th>\n",
       "      <th></th>\n",
       "      <th></th>\n",
       "      <th></th>\n",
       "      <th></th>\n",
       "      <th></th>\n",
       "    </tr>\n",
       "  </thead>\n",
       "  <tbody>\n",
       "    <tr>\n",
       "      <th>12346.0</th>\n",
       "      <td>326</td>\n",
       "      <td>2</td>\n",
       "      <td>0.00</td>\n",
       "      <td>3</td>\n",
       "      <td>1</td>\n",
       "    </tr>\n",
       "    <tr>\n",
       "      <th>12347.0</th>\n",
       "      <td>3</td>\n",
       "      <td>132</td>\n",
       "      <td>3124.96</td>\n",
       "      <td>12</td>\n",
       "      <td>0</td>\n",
       "    </tr>\n",
       "    <tr>\n",
       "      <th>12348.0</th>\n",
       "      <td>76</td>\n",
       "      <td>20</td>\n",
       "      <td>1009.88</td>\n",
       "      <td>7</td>\n",
       "      <td>3</td>\n",
       "    </tr>\n",
       "    <tr>\n",
       "      <th>12349.0</th>\n",
       "      <td>19</td>\n",
       "      <td>50</td>\n",
       "      <td>1344.17</td>\n",
       "      <td>10</td>\n",
       "      <td>0</td>\n",
       "    </tr>\n",
       "    <tr>\n",
       "      <th>12350.0</th>\n",
       "      <td>311</td>\n",
       "      <td>11</td>\n",
       "      <td>213.30</td>\n",
       "      <td>4</td>\n",
       "      <td>1</td>\n",
       "    </tr>\n",
       "  </tbody>\n",
       "</table>\n",
       "</div>"
      ],
      "text/plain": [
       "            Recency  Frequency  MonetaryValue  RFM_Score  Clusters\n",
       "CustomerID                                                        \n",
       "12346.0         326          2           0.00          3         1\n",
       "12347.0           3        132        3124.96         12         0\n",
       "12348.0          76         20        1009.88          7         3\n",
       "12349.0          19         50        1344.17         10         0\n",
       "12350.0         311         11         213.30          4         1"
      ]
     },
     "execution_count": 127,
     "metadata": {},
     "output_type": "execute_result"
    }
   ],
   "source": [
    "df_clust.head()"
   ]
  },
  {
   "cell_type": "markdown",
   "id": "6ea970ef",
   "metadata": {},
   "source": [
    "# Visualizing clusters"
   ]
  },
  {
   "cell_type": "code",
   "execution_count": 128,
   "id": "f8059d59",
   "metadata": {},
   "outputs": [],
   "source": [
    "import seaborn as sns"
   ]
  },
  {
   "cell_type": "code",
   "execution_count": 129,
   "id": "2585c362",
   "metadata": {},
   "outputs": [
    {
     "data": {
      "text/plain": [
       "<seaborn.axisgrid.PairGrid at 0x1da4fbf44c0>"
      ]
     },
     "execution_count": 129,
     "metadata": {},
     "output_type": "execute_result"
    },
    {
     "data": {
      "image/png": "[encoded data removed]",
      "text/plain": [
       "<Figure size 592.125x540 with 12 Axes>"
      ]
     },
     "metadata": {},
     "output_type": "display_data"
    }
   ],
   "source": [
    "## With Scaled data\n",
    "sns.pairplot(df_minmax_scaled,hue='Clusters',palette=['red','blue','orange','yellow'])"
   ]
  },
  {
   "cell_type": "code",
   "execution_count": 130,
   "id": "6132c1a3",
   "metadata": {},
   "outputs": [
    {
     "data": {
      "text/plain": [
       "<seaborn.axisgrid.PairGrid at 0x1da4f07b970>"
      ]
     },
     "execution_count": 130,
     "metadata": {},
     "output_type": "execute_result"
    },
    {
     "data": {
      "image/png": "[encoded data removed]",
      "text/plain": [
       "<Figure size 772.125x720 with 20 Axes>"
      ]
     },
     "metadata": {},
     "output_type": "display_data"
    }
   ],
   "source": [
    "## With Original data\n",
    "sns.pairplot(df_clust,hue='Clusters',palette=['red','blue','orange','yellow'])"
   ]
  },
  {
   "cell_type": "markdown",
   "id": "f57d846b",
   "metadata": {},
   "source": [
    "## We can see that we got good and compact clusters. We will use this as our model with 4 clusters"
   ]
  },
  {
   "cell_type": "code",
   "execution_count": 131,
   "id": "80961024",
   "metadata": {},
   "outputs": [
    {
     "data": {
      "text/html": [
       "<div>\n",
       "<style scoped>\n",
       "    .dataframe tbody tr th:only-of-type {\n",
       "        vertical-align: middle;\n",
       "    }\n",
       "\n",
       "    .dataframe tbody tr th {\n",
       "        vertical-align: top;\n",
       "    }\n",
       "\n",
       "    .dataframe thead th {\n",
       "        text-align: right;\n",
       "    }\n",
       "</style>\n",
       "<table border=\"1\" class=\"dataframe\">\n",
       "  <thead>\n",
       "    <tr style=\"text-align: right;\">\n",
       "      <th></th>\n",
       "      <th>Recency</th>\n",
       "      <th>Frequency</th>\n",
       "      <th>MonetaryValue</th>\n",
       "      <th>RFM_Score</th>\n",
       "      <th>Clusters</th>\n",
       "    </tr>\n",
       "    <tr>\n",
       "      <th>CustomerID</th>\n",
       "      <th></th>\n",
       "      <th></th>\n",
       "      <th></th>\n",
       "      <th></th>\n",
       "      <th></th>\n",
       "    </tr>\n",
       "  </thead>\n",
       "  <tbody>\n",
       "    <tr>\n",
       "      <th>12346.0</th>\n",
       "      <td>326</td>\n",
       "      <td>2</td>\n",
       "      <td>0.00</td>\n",
       "      <td>3</td>\n",
       "      <td>1</td>\n",
       "    </tr>\n",
       "    <tr>\n",
       "      <th>12347.0</th>\n",
       "      <td>3</td>\n",
       "      <td>132</td>\n",
       "      <td>3124.96</td>\n",
       "      <td>12</td>\n",
       "      <td>0</td>\n",
       "    </tr>\n",
       "    <tr>\n",
       "      <th>12348.0</th>\n",
       "      <td>76</td>\n",
       "      <td>20</td>\n",
       "      <td>1009.88</td>\n",
       "      <td>7</td>\n",
       "      <td>3</td>\n",
       "    </tr>\n",
       "    <tr>\n",
       "      <th>12349.0</th>\n",
       "      <td>19</td>\n",
       "      <td>50</td>\n",
       "      <td>1344.17</td>\n",
       "      <td>10</td>\n",
       "      <td>0</td>\n",
       "    </tr>\n",
       "    <tr>\n",
       "      <th>12350.0</th>\n",
       "      <td>311</td>\n",
       "      <td>11</td>\n",
       "      <td>213.30</td>\n",
       "      <td>4</td>\n",
       "      <td>1</td>\n",
       "    </tr>\n",
       "  </tbody>\n",
       "</table>\n",
       "</div>"
      ],
      "text/plain": [
       "            Recency  Frequency  MonetaryValue  RFM_Score  Clusters\n",
       "CustomerID                                                        \n",
       "12346.0         326          2           0.00          3         1\n",
       "12347.0           3        132        3124.96         12         0\n",
       "12348.0          76         20        1009.88          7         3\n",
       "12349.0          19         50        1344.17         10         0\n",
       "12350.0         311         11         213.30          4         1"
      ]
     },
     "execution_count": 131,
     "metadata": {},
     "output_type": "execute_result"
    }
   ],
   "source": [
    "df_clust.head()"
   ]
  },
  {
   "cell_type": "code",
   "execution_count": 132,
   "id": "930a7df2",
   "metadata": {},
   "outputs": [],
   "source": [
    "df_clust['CustomerID']= df_clust.index"
   ]
  },
  {
   "cell_type": "code",
   "execution_count": 133,
   "id": "bb780dea",
   "metadata": {},
   "outputs": [
    {
     "data": {
      "text/html": [
       "<div>\n",
       "<style scoped>\n",
       "    .dataframe tbody tr th:only-of-type {\n",
       "        vertical-align: middle;\n",
       "    }\n",
       "\n",
       "    .dataframe tbody tr th {\n",
       "        vertical-align: top;\n",
       "    }\n",
       "\n",
       "    .dataframe thead th {\n",
       "        text-align: right;\n",
       "    }\n",
       "</style>\n",
       "<table border=\"1\" class=\"dataframe\">\n",
       "  <thead>\n",
       "    <tr style=\"text-align: right;\">\n",
       "      <th></th>\n",
       "      <th>Recency</th>\n",
       "      <th>Frequency</th>\n",
       "      <th>MonetaryValue</th>\n",
       "      <th>RFM_Score</th>\n",
       "      <th>Clusters</th>\n",
       "      <th>CustomerID</th>\n",
       "    </tr>\n",
       "    <tr>\n",
       "      <th>CustomerID</th>\n",
       "      <th></th>\n",
       "      <th></th>\n",
       "      <th></th>\n",
       "      <th></th>\n",
       "      <th></th>\n",
       "      <th></th>\n",
       "    </tr>\n",
       "  </thead>\n",
       "  <tbody>\n",
       "    <tr>\n",
       "      <th>12346.0</th>\n",
       "      <td>326</td>\n",
       "      <td>2</td>\n",
       "      <td>0.00</td>\n",
       "      <td>3</td>\n",
       "      <td>1</td>\n",
       "      <td>12346.0</td>\n",
       "    </tr>\n",
       "    <tr>\n",
       "      <th>12347.0</th>\n",
       "      <td>3</td>\n",
       "      <td>132</td>\n",
       "      <td>3124.96</td>\n",
       "      <td>12</td>\n",
       "      <td>0</td>\n",
       "      <td>12347.0</td>\n",
       "    </tr>\n",
       "    <tr>\n",
       "      <th>12348.0</th>\n",
       "      <td>76</td>\n",
       "      <td>20</td>\n",
       "      <td>1009.88</td>\n",
       "      <td>7</td>\n",
       "      <td>3</td>\n",
       "      <td>12348.0</td>\n",
       "    </tr>\n",
       "    <tr>\n",
       "      <th>12349.0</th>\n",
       "      <td>19</td>\n",
       "      <td>50</td>\n",
       "      <td>1344.17</td>\n",
       "      <td>10</td>\n",
       "      <td>0</td>\n",
       "      <td>12349.0</td>\n",
       "    </tr>\n",
       "    <tr>\n",
       "      <th>12350.0</th>\n",
       "      <td>311</td>\n",
       "      <td>11</td>\n",
       "      <td>213.30</td>\n",
       "      <td>4</td>\n",
       "      <td>1</td>\n",
       "      <td>12350.0</td>\n",
       "    </tr>\n",
       "  </tbody>\n",
       "</table>\n",
       "</div>"
      ],
      "text/plain": [
       "            Recency  Frequency  MonetaryValue  RFM_Score  Clusters  CustomerID\n",
       "CustomerID                                                                    \n",
       "12346.0         326          2           0.00          3         1     12346.0\n",
       "12347.0           3        132        3124.96         12         0     12347.0\n",
       "12348.0          76         20        1009.88          7         3     12348.0\n",
       "12349.0          19         50        1344.17         10         0     12349.0\n",
       "12350.0         311         11         213.30          4         1     12350.0"
      ]
     },
     "execution_count": 133,
     "metadata": {},
     "output_type": "execute_result"
    }
   ],
   "source": [
    "df_clust.head()"
   ]
  },
  {
   "cell_type": "code",
   "execution_count": 134,
   "id": "7be56dce",
   "metadata": {},
   "outputs": [],
   "source": [
    "df_clust.index = np.arange(1, len(df_clust)+1)"
   ]
  },
  {
   "cell_type": "code",
   "execution_count": 135,
   "id": "26718fd3",
   "metadata": {},
   "outputs": [
    {
     "data": {
      "text/html": [
       "<div>\n",
       "<style scoped>\n",
       "    .dataframe tbody tr th:only-of-type {\n",
       "        vertical-align: middle;\n",
       "    }\n",
       "\n",
       "    .dataframe tbody tr th {\n",
       "        vertical-align: top;\n",
       "    }\n",
       "\n",
       "    .dataframe thead th {\n",
       "        text-align: right;\n",
       "    }\n",
       "</style>\n",
       "<table border=\"1\" class=\"dataframe\">\n",
       "  <thead>\n",
       "    <tr style=\"text-align: right;\">\n",
       "      <th></th>\n",
       "      <th>Recency</th>\n",
       "      <th>Frequency</th>\n",
       "      <th>MonetaryValue</th>\n",
       "      <th>RFM_Score</th>\n",
       "      <th>Clusters</th>\n",
       "      <th>CustomerID</th>\n",
       "    </tr>\n",
       "  </thead>\n",
       "  <tbody>\n",
       "    <tr>\n",
       "      <th>1</th>\n",
       "      <td>326</td>\n",
       "      <td>2</td>\n",
       "      <td>0.00</td>\n",
       "      <td>3</td>\n",
       "      <td>1</td>\n",
       "      <td>12346.0</td>\n",
       "    </tr>\n",
       "    <tr>\n",
       "      <th>2</th>\n",
       "      <td>3</td>\n",
       "      <td>132</td>\n",
       "      <td>3124.96</td>\n",
       "      <td>12</td>\n",
       "      <td>0</td>\n",
       "      <td>12347.0</td>\n",
       "    </tr>\n",
       "    <tr>\n",
       "      <th>3</th>\n",
       "      <td>76</td>\n",
       "      <td>20</td>\n",
       "      <td>1009.88</td>\n",
       "      <td>7</td>\n",
       "      <td>3</td>\n",
       "      <td>12348.0</td>\n",
       "    </tr>\n",
       "    <tr>\n",
       "      <th>4</th>\n",
       "      <td>19</td>\n",
       "      <td>50</td>\n",
       "      <td>1344.17</td>\n",
       "      <td>10</td>\n",
       "      <td>0</td>\n",
       "      <td>12349.0</td>\n",
       "    </tr>\n",
       "    <tr>\n",
       "      <th>5</th>\n",
       "      <td>311</td>\n",
       "      <td>11</td>\n",
       "      <td>213.30</td>\n",
       "      <td>4</td>\n",
       "      <td>1</td>\n",
       "      <td>12350.0</td>\n",
       "    </tr>\n",
       "  </tbody>\n",
       "</table>\n",
       "</div>"
      ],
      "text/plain": [
       "   Recency  Frequency  MonetaryValue  RFM_Score  Clusters  CustomerID\n",
       "1      326          2           0.00          3         1     12346.0\n",
       "2        3        132        3124.96         12         0     12347.0\n",
       "3       76         20        1009.88          7         3     12348.0\n",
       "4       19         50        1344.17         10         0     12349.0\n",
       "5      311         11         213.30          4         1     12350.0"
      ]
     },
     "execution_count": 135,
     "metadata": {},
     "output_type": "execute_result"
    }
   ],
   "source": [
    "df_clust.head()"
   ]
  },
  {
   "cell_type": "code",
   "execution_count": 150,
   "id": "63ac5bd8",
   "metadata": {},
   "outputs": [],
   "source": [
    "df_clust.to_csv('RFM_data.csv')"
   ]
  },
  {
   "cell_type": "code",
   "execution_count": 136,
   "id": "cf98d6be",
   "metadata": {},
   "outputs": [
    {
     "data": {
      "text/plain": [
       "Clusters\n",
       "0    2143\n",
       "1     519\n",
       "2     642\n",
       "3    1049\n",
       "Name: CustomerID, dtype: int64"
      ]
     },
     "execution_count": 136,
     "metadata": {},
     "output_type": "execute_result"
    }
   ],
   "source": [
    "df_clust.groupby('Clusters')['CustomerID'].count()"
   ]
  },
  {
   "cell_type": "code",
   "execution_count": 137,
   "id": "9a97ced8",
   "metadata": {},
   "outputs": [],
   "source": [
    "df_clust_summary = df_clust.groupby('Clusters').agg({'Recency':'mean','Frequency':'mean','MonetaryValue':'mean','RFM_Score':'mean'})"
   ]
  },
  {
   "cell_type": "code",
   "execution_count": 138,
   "id": "18afb041",
   "metadata": {},
   "outputs": [
    {
     "data": {
      "text/html": [
       "<div>\n",
       "<style scoped>\n",
       "    .dataframe tbody tr th:only-of-type {\n",
       "        vertical-align: middle;\n",
       "    }\n",
       "\n",
       "    .dataframe tbody tr th {\n",
       "        vertical-align: top;\n",
       "    }\n",
       "\n",
       "    .dataframe thead th {\n",
       "        text-align: right;\n",
       "    }\n",
       "</style>\n",
       "<table border=\"1\" class=\"dataframe\">\n",
       "  <thead>\n",
       "    <tr style=\"text-align: right;\">\n",
       "      <th></th>\n",
       "      <th>Recency</th>\n",
       "      <th>Frequency</th>\n",
       "      <th>MonetaryValue</th>\n",
       "      <th>RFM_Score</th>\n",
       "    </tr>\n",
       "    <tr>\n",
       "      <th>Clusters</th>\n",
       "      <th></th>\n",
       "      <th></th>\n",
       "      <th></th>\n",
       "      <th></th>\n",
       "    </tr>\n",
       "  </thead>\n",
       "  <tbody>\n",
       "    <tr>\n",
       "      <th>0</th>\n",
       "      <td>19.078861</td>\n",
       "      <td>102.038731</td>\n",
       "      <td>2160.459501</td>\n",
       "      <td>9.436771</td>\n",
       "    </tr>\n",
       "    <tr>\n",
       "      <th>1</th>\n",
       "      <td>309.570328</td>\n",
       "      <td>16.059730</td>\n",
       "      <td>246.551676</td>\n",
       "      <td>4.142582</td>\n",
       "    </tr>\n",
       "    <tr>\n",
       "      <th>2</th>\n",
       "      <td>188.140187</td>\n",
       "      <td>24.563863</td>\n",
       "      <td>439.011933</td>\n",
       "      <td>4.953271</td>\n",
       "    </tr>\n",
       "    <tr>\n",
       "      <th>3</th>\n",
       "      <td>79.450906</td>\n",
       "      <td>37.794090</td>\n",
       "      <td>696.984719</td>\n",
       "      <td>6.803622</td>\n",
       "    </tr>\n",
       "  </tbody>\n",
       "</table>\n",
       "</div>"
      ],
      "text/plain": [
       "             Recency   Frequency  MonetaryValue  RFM_Score\n",
       "Clusters                                                  \n",
       "0          19.078861  102.038731    2160.459501   9.436771\n",
       "1         309.570328   16.059730     246.551676   4.142582\n",
       "2         188.140187   24.563863     439.011933   4.953271\n",
       "3          79.450906   37.794090     696.984719   6.803622"
      ]
     },
     "execution_count": 138,
     "metadata": {},
     "output_type": "execute_result"
    }
   ],
   "source": [
    "df_clust_summary\n",
    "### Average value of Recency, Frequency, Monetary Value and RFM_Score."
   ]
  },
  {
   "cell_type": "markdown",
   "id": "a4470701",
   "metadata": {},
   "source": [
    "## It can be seen that Cluster 0 is with highest average RFM Score and Cluster 1 is with Lowest average RFM Score."
   ]
  },
  {
   "cell_type": "markdown",
   "id": "2695beba",
   "metadata": {},
   "source": [
    "### We will create a customer list for the Stores that we have grouped. So that It will be beneficial for them to provide benefits according to scores of customers."
   ]
  },
  {
   "cell_type": "markdown",
   "id": "87317084",
   "metadata": {},
   "source": [
    "## We are deploying the results for customers based on our analysis"
   ]
  },
  {
   "cell_type": "code",
   "execution_count": 139,
   "id": "6b5083a8",
   "metadata": {},
   "outputs": [],
   "source": [
    "### Diamond Customers\n",
    "Diamond_Customers=df_clust[df_clust['Clusters']==0]"
   ]
  },
  {
   "cell_type": "code",
   "execution_count": 140,
   "id": "04dfcfee",
   "metadata": {},
   "outputs": [],
   "source": [
    "Diamond_Customers.index = np.arange(1, len(Diamond_Customers)+1)"
   ]
  },
  {
   "cell_type": "code",
   "execution_count": 141,
   "id": "79d33c6d",
   "metadata": {},
   "outputs": [
    {
     "data": {
      "text/html": [
       "<div>\n",
       "<style scoped>\n",
       "    .dataframe tbody tr th:only-of-type {\n",
       "        vertical-align: middle;\n",
       "    }\n",
       "\n",
       "    .dataframe tbody tr th {\n",
       "        vertical-align: top;\n",
       "    }\n",
       "\n",
       "    .dataframe thead th {\n",
       "        text-align: right;\n",
       "    }\n",
       "</style>\n",
       "<table border=\"1\" class=\"dataframe\">\n",
       "  <thead>\n",
       "    <tr style=\"text-align: right;\">\n",
       "      <th></th>\n",
       "      <th>Recency</th>\n",
       "      <th>Frequency</th>\n",
       "      <th>MonetaryValue</th>\n",
       "      <th>RFM_Score</th>\n",
       "      <th>Clusters</th>\n",
       "      <th>CustomerID</th>\n",
       "    </tr>\n",
       "  </thead>\n",
       "  <tbody>\n",
       "    <tr>\n",
       "      <th>1</th>\n",
       "      <td>3</td>\n",
       "      <td>132</td>\n",
       "      <td>3124.96</td>\n",
       "      <td>12</td>\n",
       "      <td>0</td>\n",
       "      <td>12347.0</td>\n",
       "    </tr>\n",
       "    <tr>\n",
       "      <th>2</th>\n",
       "      <td>19</td>\n",
       "      <td>50</td>\n",
       "      <td>1344.17</td>\n",
       "      <td>10</td>\n",
       "      <td>0</td>\n",
       "      <td>12349.0</td>\n",
       "    </tr>\n",
       "    <tr>\n",
       "      <th>3</th>\n",
       "      <td>37</td>\n",
       "      <td>65</td>\n",
       "      <td>1469.03</td>\n",
       "      <td>10</td>\n",
       "      <td>0</td>\n",
       "      <td>12352.0</td>\n",
       "    </tr>\n",
       "    <tr>\n",
       "      <th>4</th>\n",
       "      <td>23</td>\n",
       "      <td>46</td>\n",
       "      <td>2080.18</td>\n",
       "      <td>10</td>\n",
       "      <td>0</td>\n",
       "      <td>12356.0</td>\n",
       "    </tr>\n",
       "    <tr>\n",
       "      <th>5</th>\n",
       "      <td>34</td>\n",
       "      <td>88</td>\n",
       "      <td>3928.41</td>\n",
       "      <td>11</td>\n",
       "      <td>0</td>\n",
       "      <td>12357.0</td>\n",
       "    </tr>\n",
       "    <tr>\n",
       "      <th>...</th>\n",
       "      <td>...</td>\n",
       "      <td>...</td>\n",
       "      <td>...</td>\n",
       "      <td>...</td>\n",
       "      <td>...</td>\n",
       "      <td>...</td>\n",
       "    </tr>\n",
       "    <tr>\n",
       "      <th>2139</th>\n",
       "      <td>18</td>\n",
       "      <td>16</td>\n",
       "      <td>-63.87</td>\n",
       "      <td>7</td>\n",
       "      <td>0</td>\n",
       "      <td>18274.0</td>\n",
       "    </tr>\n",
       "    <tr>\n",
       "      <th>2140</th>\n",
       "      <td>22</td>\n",
       "      <td>12</td>\n",
       "      <td>243.18</td>\n",
       "      <td>6</td>\n",
       "      <td>0</td>\n",
       "      <td>18276.0</td>\n",
       "    </tr>\n",
       "    <tr>\n",
       "      <th>2141</th>\n",
       "      <td>8</td>\n",
       "      <td>9</td>\n",
       "      <td>118.16</td>\n",
       "      <td>6</td>\n",
       "      <td>0</td>\n",
       "      <td>18282.0</td>\n",
       "    </tr>\n",
       "    <tr>\n",
       "      <th>2142</th>\n",
       "      <td>4</td>\n",
       "      <td>511</td>\n",
       "      <td>1450.29</td>\n",
       "      <td>12</td>\n",
       "      <td>0</td>\n",
       "      <td>18283.0</td>\n",
       "    </tr>\n",
       "    <tr>\n",
       "      <th>2143</th>\n",
       "      <td>43</td>\n",
       "      <td>50</td>\n",
       "      <td>1430.78</td>\n",
       "      <td>10</td>\n",
       "      <td>0</td>\n",
       "      <td>18287.0</td>\n",
       "    </tr>\n",
       "  </tbody>\n",
       "</table>\n",
       "<p>2143 rows × 6 columns</p>\n",
       "</div>"
      ],
      "text/plain": [
       "      Recency  Frequency  MonetaryValue  RFM_Score  Clusters  CustomerID\n",
       "1           3        132        3124.96         12         0     12347.0\n",
       "2          19         50        1344.17         10         0     12349.0\n",
       "3          37         65        1469.03         10         0     12352.0\n",
       "4          23         46        2080.18         10         0     12356.0\n",
       "5          34         88        3928.41         11         0     12357.0\n",
       "...       ...        ...            ...        ...       ...         ...\n",
       "2139       18         16         -63.87          7         0     18274.0\n",
       "2140       22         12         243.18          6         0     18276.0\n",
       "2141        8          9         118.16          6         0     18282.0\n",
       "2142        4        511        1450.29         12         0     18283.0\n",
       "2143       43         50        1430.78         10         0     18287.0\n",
       "\n",
       "[2143 rows x 6 columns]"
      ]
     },
     "execution_count": 141,
     "metadata": {},
     "output_type": "execute_result"
    }
   ],
   "source": [
    "Diamond_Customers"
   ]
  },
  {
   "cell_type": "code",
   "execution_count": 142,
   "id": "fea6180c",
   "metadata": {},
   "outputs": [],
   "source": [
    "Diamond_Customers.to_excel('Diamond_Customers.xlsx')"
   ]
  },
  {
   "cell_type": "code",
   "execution_count": 143,
   "id": "c916c70f",
   "metadata": {},
   "outputs": [
    {
     "data": {
      "text/html": [
       "<div>\n",
       "<style scoped>\n",
       "    .dataframe tbody tr th:only-of-type {\n",
       "        vertical-align: middle;\n",
       "    }\n",
       "\n",
       "    .dataframe tbody tr th {\n",
       "        vertical-align: top;\n",
       "    }\n",
       "\n",
       "    .dataframe thead th {\n",
       "        text-align: right;\n",
       "    }\n",
       "</style>\n",
       "<table border=\"1\" class=\"dataframe\">\n",
       "  <thead>\n",
       "    <tr style=\"text-align: right;\">\n",
       "      <th></th>\n",
       "      <th>Recency</th>\n",
       "      <th>Frequency</th>\n",
       "      <th>MonetaryValue</th>\n",
       "      <th>RFM_Score</th>\n",
       "      <th>Clusters</th>\n",
       "      <th>CustomerID</th>\n",
       "    </tr>\n",
       "  </thead>\n",
       "  <tbody>\n",
       "    <tr>\n",
       "      <th>1</th>\n",
       "      <td>76</td>\n",
       "      <td>20</td>\n",
       "      <td>1009.88</td>\n",
       "      <td>7</td>\n",
       "      <td>3</td>\n",
       "      <td>12348.0</td>\n",
       "    </tr>\n",
       "    <tr>\n",
       "      <th>2</th>\n",
       "      <td>53</td>\n",
       "      <td>88</td>\n",
       "      <td>1835.86</td>\n",
       "      <td>10</td>\n",
       "      <td>3</td>\n",
       "      <td>12360.0</td>\n",
       "    </tr>\n",
       "    <tr>\n",
       "      <th>3</th>\n",
       "      <td>110</td>\n",
       "      <td>13</td>\n",
       "      <td>344.70</td>\n",
       "      <td>6</td>\n",
       "      <td>3</td>\n",
       "      <td>12363.0</td>\n",
       "    </tr>\n",
       "    <tr>\n",
       "      <th>4</th>\n",
       "      <td>52</td>\n",
       "      <td>109</td>\n",
       "      <td>2133.38</td>\n",
       "      <td>10</td>\n",
       "      <td>3</td>\n",
       "      <td>12370.0</td>\n",
       "    </tr>\n",
       "    <tr>\n",
       "      <th>5</th>\n",
       "      <td>60</td>\n",
       "      <td>41</td>\n",
       "      <td>961.60</td>\n",
       "      <td>8</td>\n",
       "      <td>3</td>\n",
       "      <td>12371.0</td>\n",
       "    </tr>\n",
       "    <tr>\n",
       "      <th>...</th>\n",
       "      <td>...</td>\n",
       "      <td>...</td>\n",
       "      <td>...</td>\n",
       "      <td>...</td>\n",
       "      <td>...</td>\n",
       "      <td>...</td>\n",
       "    </tr>\n",
       "    <tr>\n",
       "      <th>1045</th>\n",
       "      <td>51</td>\n",
       "      <td>69</td>\n",
       "      <td>338.21</td>\n",
       "      <td>8</td>\n",
       "      <td>3</td>\n",
       "      <td>18252.0</td>\n",
       "    </tr>\n",
       "    <tr>\n",
       "      <th>1046</th>\n",
       "      <td>90</td>\n",
       "      <td>4</td>\n",
       "      <td>65.60</td>\n",
       "      <td>4</td>\n",
       "      <td>3</td>\n",
       "      <td>18255.0</td>\n",
       "    </tr>\n",
       "    <tr>\n",
       "      <th>1047</th>\n",
       "      <td>73</td>\n",
       "      <td>35</td>\n",
       "      <td>600.40</td>\n",
       "      <td>8</td>\n",
       "      <td>3</td>\n",
       "      <td>18265.0</td>\n",
       "    </tr>\n",
       "    <tr>\n",
       "      <th>1048</th>\n",
       "      <td>59</td>\n",
       "      <td>8</td>\n",
       "      <td>110.38</td>\n",
       "      <td>4</td>\n",
       "      <td>3</td>\n",
       "      <td>18277.0</td>\n",
       "    </tr>\n",
       "    <tr>\n",
       "      <th>1049</th>\n",
       "      <td>74</td>\n",
       "      <td>6</td>\n",
       "      <td>119.00</td>\n",
       "      <td>4</td>\n",
       "      <td>3</td>\n",
       "      <td>18278.0</td>\n",
       "    </tr>\n",
       "  </tbody>\n",
       "</table>\n",
       "<p>1049 rows × 6 columns</p>\n",
       "</div>"
      ],
      "text/plain": [
       "      Recency  Frequency  MonetaryValue  RFM_Score  Clusters  CustomerID\n",
       "1          76         20        1009.88          7         3     12348.0\n",
       "2          53         88        1835.86         10         3     12360.0\n",
       "3         110         13         344.70          6         3     12363.0\n",
       "4          52        109        2133.38         10         3     12370.0\n",
       "5          60         41         961.60          8         3     12371.0\n",
       "...       ...        ...            ...        ...       ...         ...\n",
       "1045       51         69         338.21          8         3     18252.0\n",
       "1046       90          4          65.60          4         3     18255.0\n",
       "1047       73         35         600.40          8         3     18265.0\n",
       "1048       59          8         110.38          4         3     18277.0\n",
       "1049       74          6         119.00          4         3     18278.0\n",
       "\n",
       "[1049 rows x 6 columns]"
      ]
     },
     "execution_count": 143,
     "metadata": {},
     "output_type": "execute_result"
    }
   ],
   "source": [
    "### Platinum Customers\n",
    "Platinum_Customers=df_clust[df_clust['Clusters']==3]\n",
    "Platinum_Customers.index = np.arange(1, len(Platinum_Customers)+1)\n",
    "Platinum_Customers"
   ]
  },
  {
   "cell_type": "code",
   "execution_count": 144,
   "id": "fa8ba612",
   "metadata": {},
   "outputs": [],
   "source": [
    "Platinum_Customers.to_excel('Platinum_Customers.xlsx')"
   ]
  },
  {
   "cell_type": "code",
   "execution_count": 145,
   "id": "b13152a5",
   "metadata": {},
   "outputs": [
    {
     "data": {
      "text/html": [
       "<div>\n",
       "<style scoped>\n",
       "    .dataframe tbody tr th:only-of-type {\n",
       "        vertical-align: middle;\n",
       "    }\n",
       "\n",
       "    .dataframe tbody tr th {\n",
       "        vertical-align: top;\n",
       "    }\n",
       "\n",
       "    .dataframe thead th {\n",
       "        text-align: right;\n",
       "    }\n",
       "</style>\n",
       "<table border=\"1\" class=\"dataframe\">\n",
       "  <thead>\n",
       "    <tr style=\"text-align: right;\">\n",
       "      <th></th>\n",
       "      <th>Recency</th>\n",
       "      <th>Frequency</th>\n",
       "      <th>MonetaryValue</th>\n",
       "      <th>RFM_Score</th>\n",
       "      <th>Clusters</th>\n",
       "      <th>CustomerID</th>\n",
       "    </tr>\n",
       "  </thead>\n",
       "  <tbody>\n",
       "    <tr>\n",
       "      <th>1</th>\n",
       "      <td>205</td>\n",
       "      <td>3</td>\n",
       "      <td>71.30</td>\n",
       "      <td>3</td>\n",
       "      <td>2</td>\n",
       "      <td>12353.0</td>\n",
       "    </tr>\n",
       "    <tr>\n",
       "      <th>2</th>\n",
       "      <td>233</td>\n",
       "      <td>47</td>\n",
       "      <td>848.02</td>\n",
       "      <td>7</td>\n",
       "      <td>2</td>\n",
       "      <td>12354.0</td>\n",
       "    </tr>\n",
       "    <tr>\n",
       "      <th>3</th>\n",
       "      <td>215</td>\n",
       "      <td>9</td>\n",
       "      <td>370.80</td>\n",
       "      <td>4</td>\n",
       "      <td>2</td>\n",
       "      <td>12355.0</td>\n",
       "    </tr>\n",
       "    <tr>\n",
       "      <th>4</th>\n",
       "      <td>185</td>\n",
       "      <td>64</td>\n",
       "      <td>1178.19</td>\n",
       "      <td>8</td>\n",
       "      <td>2</td>\n",
       "      <td>12383.0</td>\n",
       "    </tr>\n",
       "    <tr>\n",
       "      <th>5</th>\n",
       "      <td>149</td>\n",
       "      <td>37</td>\n",
       "      <td>1202.11</td>\n",
       "      <td>8</td>\n",
       "      <td>2</td>\n",
       "      <td>12405.0</td>\n",
       "    </tr>\n",
       "    <tr>\n",
       "      <th>...</th>\n",
       "      <td>...</td>\n",
       "      <td>...</td>\n",
       "      <td>...</td>\n",
       "      <td>...</td>\n",
       "      <td>...</td>\n",
       "      <td>...</td>\n",
       "    </tr>\n",
       "    <tr>\n",
       "      <th>638</th>\n",
       "      <td>219</td>\n",
       "      <td>53</td>\n",
       "      <td>909.64</td>\n",
       "      <td>7</td>\n",
       "      <td>2</td>\n",
       "      <td>18239.0</td>\n",
       "    </tr>\n",
       "    <tr>\n",
       "      <th>639</th>\n",
       "      <td>173</td>\n",
       "      <td>95</td>\n",
       "      <td>1606.59</td>\n",
       "      <td>9</td>\n",
       "      <td>2</td>\n",
       "      <td>18260.0</td>\n",
       "    </tr>\n",
       "    <tr>\n",
       "      <th>640</th>\n",
       "      <td>141</td>\n",
       "      <td>10</td>\n",
       "      <td>110.28</td>\n",
       "      <td>4</td>\n",
       "      <td>2</td>\n",
       "      <td>18262.0</td>\n",
       "    </tr>\n",
       "    <tr>\n",
       "      <th>641</th>\n",
       "      <td>135</td>\n",
       "      <td>2</td>\n",
       "      <td>0.00</td>\n",
       "      <td>4</td>\n",
       "      <td>2</td>\n",
       "      <td>18268.0</td>\n",
       "    </tr>\n",
       "    <tr>\n",
       "      <th>642</th>\n",
       "      <td>181</td>\n",
       "      <td>5</td>\n",
       "      <td>59.28</td>\n",
       "      <td>3</td>\n",
       "      <td>2</td>\n",
       "      <td>18281.0</td>\n",
       "    </tr>\n",
       "  </tbody>\n",
       "</table>\n",
       "<p>642 rows × 6 columns</p>\n",
       "</div>"
      ],
      "text/plain": [
       "     Recency  Frequency  MonetaryValue  RFM_Score  Clusters  CustomerID\n",
       "1        205          3          71.30          3         2     12353.0\n",
       "2        233         47         848.02          7         2     12354.0\n",
       "3        215          9         370.80          4         2     12355.0\n",
       "4        185         64        1178.19          8         2     12383.0\n",
       "5        149         37        1202.11          8         2     12405.0\n",
       "..       ...        ...            ...        ...       ...         ...\n",
       "638      219         53         909.64          7         2     18239.0\n",
       "639      173         95        1606.59          9         2     18260.0\n",
       "640      141         10         110.28          4         2     18262.0\n",
       "641      135          2           0.00          4         2     18268.0\n",
       "642      181          5          59.28          3         2     18281.0\n",
       "\n",
       "[642 rows x 6 columns]"
      ]
     },
     "execution_count": 145,
     "metadata": {},
     "output_type": "execute_result"
    }
   ],
   "source": [
    "### Gold Customers\n",
    "Gold_Customers=df_clust[df_clust['Clusters']==2]\n",
    "Gold_Customers.index = np.arange(1, len(Gold_Customers)+1)\n",
    "Gold_Customers"
   ]
  },
  {
   "cell_type": "code",
   "execution_count": 146,
   "id": "9f083740",
   "metadata": {},
   "outputs": [],
   "source": [
    "Gold_Customers.to_excel('Gold_Customers.xlsx')"
   ]
  },
  {
   "cell_type": "code",
   "execution_count": 147,
   "id": "9327e1a0",
   "metadata": {},
   "outputs": [
    {
     "data": {
      "text/html": [
       "<div>\n",
       "<style scoped>\n",
       "    .dataframe tbody tr th:only-of-type {\n",
       "        vertical-align: middle;\n",
       "    }\n",
       "\n",
       "    .dataframe tbody tr th {\n",
       "        vertical-align: top;\n",
       "    }\n",
       "\n",
       "    .dataframe thead th {\n",
       "        text-align: right;\n",
       "    }\n",
       "</style>\n",
       "<table border=\"1\" class=\"dataframe\">\n",
       "  <thead>\n",
       "    <tr style=\"text-align: right;\">\n",
       "      <th></th>\n",
       "      <th>Recency</th>\n",
       "      <th>Frequency</th>\n",
       "      <th>MonetaryValue</th>\n",
       "      <th>RFM_Score</th>\n",
       "      <th>Clusters</th>\n",
       "      <th>CustomerID</th>\n",
       "    </tr>\n",
       "  </thead>\n",
       "  <tbody>\n",
       "    <tr>\n",
       "      <th>1</th>\n",
       "      <td>326</td>\n",
       "      <td>2</td>\n",
       "      <td>0.00</td>\n",
       "      <td>3</td>\n",
       "      <td>1</td>\n",
       "      <td>12346.0</td>\n",
       "    </tr>\n",
       "    <tr>\n",
       "      <th>2</th>\n",
       "      <td>311</td>\n",
       "      <td>11</td>\n",
       "      <td>213.30</td>\n",
       "      <td>4</td>\n",
       "      <td>1</td>\n",
       "      <td>12350.0</td>\n",
       "    </tr>\n",
       "    <tr>\n",
       "      <th>3</th>\n",
       "      <td>288</td>\n",
       "      <td>7</td>\n",
       "      <td>139.20</td>\n",
       "      <td>3</td>\n",
       "      <td>1</td>\n",
       "      <td>12361.0</td>\n",
       "    </tr>\n",
       "    <tr>\n",
       "      <th>4</th>\n",
       "      <td>292</td>\n",
       "      <td>17</td>\n",
       "      <td>574.34</td>\n",
       "      <td>6</td>\n",
       "      <td>1</td>\n",
       "      <td>12365.0</td>\n",
       "    </tr>\n",
       "    <tr>\n",
       "      <th>5</th>\n",
       "      <td>312</td>\n",
       "      <td>10</td>\n",
       "      <td>240.30</td>\n",
       "      <td>4</td>\n",
       "      <td>1</td>\n",
       "      <td>12373.0</td>\n",
       "    </tr>\n",
       "    <tr>\n",
       "      <th>...</th>\n",
       "      <td>...</td>\n",
       "      <td>...</td>\n",
       "      <td>...</td>\n",
       "      <td>...</td>\n",
       "      <td>...</td>\n",
       "      <td>...</td>\n",
       "    </tr>\n",
       "    <tr>\n",
       "      <th>515</th>\n",
       "      <td>326</td>\n",
       "      <td>1</td>\n",
       "      <td>440.00</td>\n",
       "      <td>4</td>\n",
       "      <td>1</td>\n",
       "      <td>18233.0</td>\n",
       "    </tr>\n",
       "    <tr>\n",
       "      <th>516</th>\n",
       "      <td>302</td>\n",
       "      <td>15</td>\n",
       "      <td>240.27</td>\n",
       "      <td>5</td>\n",
       "      <td>1</td>\n",
       "      <td>18250.0</td>\n",
       "    </tr>\n",
       "    <tr>\n",
       "      <th>517</th>\n",
       "      <td>355</td>\n",
       "      <td>3</td>\n",
       "      <td>-40.75</td>\n",
       "      <td>3</td>\n",
       "      <td>1</td>\n",
       "      <td>18256.0</td>\n",
       "    </tr>\n",
       "    <tr>\n",
       "      <th>518</th>\n",
       "      <td>359</td>\n",
       "      <td>6</td>\n",
       "      <td>99.90</td>\n",
       "      <td>3</td>\n",
       "      <td>1</td>\n",
       "      <td>18269.0</td>\n",
       "    </tr>\n",
       "    <tr>\n",
       "      <th>519</th>\n",
       "      <td>278</td>\n",
       "      <td>5</td>\n",
       "      <td>91.70</td>\n",
       "      <td>3</td>\n",
       "      <td>1</td>\n",
       "      <td>18280.0</td>\n",
       "    </tr>\n",
       "  </tbody>\n",
       "</table>\n",
       "<p>519 rows × 6 columns</p>\n",
       "</div>"
      ],
      "text/plain": [
       "     Recency  Frequency  MonetaryValue  RFM_Score  Clusters  CustomerID\n",
       "1        326          2           0.00          3         1     12346.0\n",
       "2        311         11         213.30          4         1     12350.0\n",
       "3        288          7         139.20          3         1     12361.0\n",
       "4        292         17         574.34          6         1     12365.0\n",
       "5        312         10         240.30          4         1     12373.0\n",
       "..       ...        ...            ...        ...       ...         ...\n",
       "515      326          1         440.00          4         1     18233.0\n",
       "516      302         15         240.27          5         1     18250.0\n",
       "517      355          3         -40.75          3         1     18256.0\n",
       "518      359          6          99.90          3         1     18269.0\n",
       "519      278          5          91.70          3         1     18280.0\n",
       "\n",
       "[519 rows x 6 columns]"
      ]
     },
     "execution_count": 147,
     "metadata": {},
     "output_type": "execute_result"
    }
   ],
   "source": [
    "### Silver Customers\n",
    "Silver_Customers=df_clust[df_clust['Clusters']==1]\n",
    "Silver_Customers.index = np.arange(1, len(Silver_Customers)+1)\n",
    "Silver_Customers"
   ]
  },
  {
   "cell_type": "code",
   "execution_count": 148,
   "id": "0d2e3fe8",
   "metadata": {},
   "outputs": [],
   "source": [
    "Silver_Customers.to_excel('Silver_Customers.xlsx')"
   ]
  },
  {
   "cell_type": "markdown",
   "id": "5914a95d",
   "metadata": {},
   "source": [
    "## Thus we have performed Clustering Analysis on Customer data of stores and provided them with proper customer segmentation. Using this segmentation they can give selective benefits to the group of customers in order to gain profit and retain the customers."
   ]
  }
 ],
 "metadata": {
  "kernelspec": {
   "display_name": "Python 3",
   "language": "python",
   "name": "python3"
  },
  "language_info": {
   "codemirror_mode": {
    "name": "ipython",
    "version": 3
   },
   "file_extension": ".py",
   "mimetype": "text/x-python",
   "name": "python",
   "nbconvert_exporter": "python",
   "pygments_lexer": "ipython3",
   "version": "3.8.8"
  }
 },
 "nbformat": 4,
 "nbformat_minor": 5
}
